{
 "cells": [
  {
   "cell_type": "markdown",
   "metadata": {},
   "source": [
    "# PDS: Assignment 1\n",
    "\n",
    "### Deadline: January 9 (until 23:59)\n",
    "\n",
    "\n",
    "**Instructions:** All answers should be filled in the notebook and then submitted  For theoretical question you can use markdown and LaTeX. Name of notebook should be in following format:\n",
    " - Name_group_Assignment1.ipynb (ex. Mussalim_Kaisar_1905_Assignment1.ipynb)"
   ]
  },
  {
   "cell_type": "markdown",
   "metadata": {},
   "source": [
    "## Q1 (1 point)\n",
    "Read video games sales data from vgsales.csv file. This dataset contains a list of video games with sales greater than 100,000 copies. Fields include:\n",
    "* Rank - Ranking of overall sales\n",
    "* Name - The games name\n",
    "* Platform - Platform of the games release (i.e. PC,PS4, etc.)\n",
    "* Year - Year of the game's release\n",
    "* Genre - Genre of the game\n",
    "* Publisher - Publisher of the game\n",
    "* NA_Sales - Sales in North America (in millions)\n",
    "* EU_Sales - Sales in Europe (in millions)\n",
    "* JP_Sales - Sales in Japan (in millions)\n",
    "* Other_Sales - Sales in the rest of the world (in millions)\n",
    "* Global_Sales - Total worldwide sales.\n",
    "\n",
    "**Tasks to do:**\n",
    "1. Using your favorite visualization library build histograms and boxplots for NA_Sales, EU_Sales, JP_Sales, Other_Sales, Global_Sales? \n",
    "2. What is the average sales for each region? \n",
    "3. What is the standard deviation for each region?\n",
    "4. How many outliers (using IQR rule) we have in Global_Sales column?\n",
    "5. What is the difference between mean and median values in Global_Sales column? \n",
    "6. Remove outliers and plot histogram and boxplot again. \n",
    "7. What is the difference between mean and median now?\n",
    "8. In your opinion what happened, why difference between mean and median have changed?\n",
    "\n",
    "*Hint: use pandas to read dataset.*"
   ]
  },
  {
   "cell_type": "code",
   "execution_count": 327,
   "metadata": {},
   "outputs": [
    {
     "data": {
      "text/html": [
       "<div>\n",
       "<style scoped>\n",
       "    .dataframe tbody tr th:only-of-type {\n",
       "        vertical-align: middle;\n",
       "    }\n",
       "\n",
       "    .dataframe tbody tr th {\n",
       "        vertical-align: top;\n",
       "    }\n",
       "\n",
       "    .dataframe thead th {\n",
       "        text-align: right;\n",
       "    }\n",
       "</style>\n",
       "<table border=\"1\" class=\"dataframe\">\n",
       "  <thead>\n",
       "    <tr style=\"text-align: right;\">\n",
       "      <th></th>\n",
       "      <th>Rank</th>\n",
       "      <th>Name</th>\n",
       "      <th>Platform</th>\n",
       "      <th>Year</th>\n",
       "      <th>Genre</th>\n",
       "      <th>Publisher</th>\n",
       "      <th>NA_Sales</th>\n",
       "      <th>EU_Sales</th>\n",
       "      <th>JP_Sales</th>\n",
       "      <th>Other_Sales</th>\n",
       "      <th>Global_Sales</th>\n",
       "    </tr>\n",
       "  </thead>\n",
       "  <tbody>\n",
       "    <tr>\n",
       "      <th>0</th>\n",
       "      <td>1</td>\n",
       "      <td>Wii Sports</td>\n",
       "      <td>Wii</td>\n",
       "      <td>2006.0</td>\n",
       "      <td>Sports</td>\n",
       "      <td>Nintendo</td>\n",
       "      <td>41.49</td>\n",
       "      <td>29.02</td>\n",
       "      <td>3.77</td>\n",
       "      <td>8.46</td>\n",
       "      <td>82.74</td>\n",
       "    </tr>\n",
       "    <tr>\n",
       "      <th>1</th>\n",
       "      <td>2</td>\n",
       "      <td>Super Mario Bros.</td>\n",
       "      <td>NES</td>\n",
       "      <td>1985.0</td>\n",
       "      <td>Platform</td>\n",
       "      <td>Nintendo</td>\n",
       "      <td>29.08</td>\n",
       "      <td>3.58</td>\n",
       "      <td>6.81</td>\n",
       "      <td>0.77</td>\n",
       "      <td>40.24</td>\n",
       "    </tr>\n",
       "    <tr>\n",
       "      <th>2</th>\n",
       "      <td>3</td>\n",
       "      <td>Mario Kart Wii</td>\n",
       "      <td>Wii</td>\n",
       "      <td>2008.0</td>\n",
       "      <td>Racing</td>\n",
       "      <td>Nintendo</td>\n",
       "      <td>15.85</td>\n",
       "      <td>12.88</td>\n",
       "      <td>3.79</td>\n",
       "      <td>3.31</td>\n",
       "      <td>35.82</td>\n",
       "    </tr>\n",
       "    <tr>\n",
       "      <th>3</th>\n",
       "      <td>4</td>\n",
       "      <td>Wii Sports Resort</td>\n",
       "      <td>Wii</td>\n",
       "      <td>2009.0</td>\n",
       "      <td>Sports</td>\n",
       "      <td>Nintendo</td>\n",
       "      <td>15.75</td>\n",
       "      <td>11.01</td>\n",
       "      <td>3.28</td>\n",
       "      <td>2.96</td>\n",
       "      <td>33.00</td>\n",
       "    </tr>\n",
       "    <tr>\n",
       "      <th>4</th>\n",
       "      <td>5</td>\n",
       "      <td>Pokemon Red/Pokemon Blue</td>\n",
       "      <td>GB</td>\n",
       "      <td>1996.0</td>\n",
       "      <td>Role-Playing</td>\n",
       "      <td>Nintendo</td>\n",
       "      <td>11.27</td>\n",
       "      <td>8.89</td>\n",
       "      <td>10.22</td>\n",
       "      <td>1.00</td>\n",
       "      <td>31.37</td>\n",
       "    </tr>\n",
       "    <tr>\n",
       "      <th>...</th>\n",
       "      <td>...</td>\n",
       "      <td>...</td>\n",
       "      <td>...</td>\n",
       "      <td>...</td>\n",
       "      <td>...</td>\n",
       "      <td>...</td>\n",
       "      <td>...</td>\n",
       "      <td>...</td>\n",
       "      <td>...</td>\n",
       "      <td>...</td>\n",
       "      <td>...</td>\n",
       "    </tr>\n",
       "    <tr>\n",
       "      <th>16593</th>\n",
       "      <td>16596</td>\n",
       "      <td>Woody Woodpecker in Crazy Castle 5</td>\n",
       "      <td>GBA</td>\n",
       "      <td>2002.0</td>\n",
       "      <td>Platform</td>\n",
       "      <td>Kemco</td>\n",
       "      <td>0.01</td>\n",
       "      <td>0.00</td>\n",
       "      <td>0.00</td>\n",
       "      <td>0.00</td>\n",
       "      <td>0.01</td>\n",
       "    </tr>\n",
       "    <tr>\n",
       "      <th>16594</th>\n",
       "      <td>16597</td>\n",
       "      <td>Men in Black II: Alien Escape</td>\n",
       "      <td>GC</td>\n",
       "      <td>2003.0</td>\n",
       "      <td>Shooter</td>\n",
       "      <td>Infogrames</td>\n",
       "      <td>0.01</td>\n",
       "      <td>0.00</td>\n",
       "      <td>0.00</td>\n",
       "      <td>0.00</td>\n",
       "      <td>0.01</td>\n",
       "    </tr>\n",
       "    <tr>\n",
       "      <th>16595</th>\n",
       "      <td>16598</td>\n",
       "      <td>SCORE International Baja 1000: The Official Game</td>\n",
       "      <td>PS2</td>\n",
       "      <td>2008.0</td>\n",
       "      <td>Racing</td>\n",
       "      <td>Activision</td>\n",
       "      <td>0.00</td>\n",
       "      <td>0.00</td>\n",
       "      <td>0.00</td>\n",
       "      <td>0.00</td>\n",
       "      <td>0.01</td>\n",
       "    </tr>\n",
       "    <tr>\n",
       "      <th>16596</th>\n",
       "      <td>16599</td>\n",
       "      <td>Know How 2</td>\n",
       "      <td>DS</td>\n",
       "      <td>2010.0</td>\n",
       "      <td>Puzzle</td>\n",
       "      <td>7G//AMES</td>\n",
       "      <td>0.00</td>\n",
       "      <td>0.01</td>\n",
       "      <td>0.00</td>\n",
       "      <td>0.00</td>\n",
       "      <td>0.01</td>\n",
       "    </tr>\n",
       "    <tr>\n",
       "      <th>16597</th>\n",
       "      <td>16600</td>\n",
       "      <td>Spirits &amp; Spells</td>\n",
       "      <td>GBA</td>\n",
       "      <td>2003.0</td>\n",
       "      <td>Platform</td>\n",
       "      <td>Wanadoo</td>\n",
       "      <td>0.01</td>\n",
       "      <td>0.00</td>\n",
       "      <td>0.00</td>\n",
       "      <td>0.00</td>\n",
       "      <td>0.01</td>\n",
       "    </tr>\n",
       "  </tbody>\n",
       "</table>\n",
       "<p>16598 rows × 11 columns</p>\n",
       "</div>"
      ],
      "text/plain": [
       "        Rank                                              Name Platform  \\\n",
       "0          1                                        Wii Sports      Wii   \n",
       "1          2                                 Super Mario Bros.      NES   \n",
       "2          3                                    Mario Kart Wii      Wii   \n",
       "3          4                                 Wii Sports Resort      Wii   \n",
       "4          5                          Pokemon Red/Pokemon Blue       GB   \n",
       "...      ...                                               ...      ...   \n",
       "16593  16596                Woody Woodpecker in Crazy Castle 5      GBA   \n",
       "16594  16597                     Men in Black II: Alien Escape       GC   \n",
       "16595  16598  SCORE International Baja 1000: The Official Game      PS2   \n",
       "16596  16599                                        Know How 2       DS   \n",
       "16597  16600                                  Spirits & Spells      GBA   \n",
       "\n",
       "         Year         Genre   Publisher  NA_Sales  EU_Sales  JP_Sales  \\\n",
       "0      2006.0        Sports    Nintendo     41.49     29.02      3.77   \n",
       "1      1985.0      Platform    Nintendo     29.08      3.58      6.81   \n",
       "2      2008.0        Racing    Nintendo     15.85     12.88      3.79   \n",
       "3      2009.0        Sports    Nintendo     15.75     11.01      3.28   \n",
       "4      1996.0  Role-Playing    Nintendo     11.27      8.89     10.22   \n",
       "...       ...           ...         ...       ...       ...       ...   \n",
       "16593  2002.0      Platform       Kemco      0.01      0.00      0.00   \n",
       "16594  2003.0       Shooter  Infogrames      0.01      0.00      0.00   \n",
       "16595  2008.0        Racing  Activision      0.00      0.00      0.00   \n",
       "16596  2010.0        Puzzle    7G//AMES      0.00      0.01      0.00   \n",
       "16597  2003.0      Platform     Wanadoo      0.01      0.00      0.00   \n",
       "\n",
       "       Other_Sales  Global_Sales  \n",
       "0             8.46         82.74  \n",
       "1             0.77         40.24  \n",
       "2             3.31         35.82  \n",
       "3             2.96         33.00  \n",
       "4             1.00         31.37  \n",
       "...            ...           ...  \n",
       "16593         0.00          0.01  \n",
       "16594         0.00          0.01  \n",
       "16595         0.00          0.01  \n",
       "16596         0.00          0.01  \n",
       "16597         0.00          0.01  \n",
       "\n",
       "[16598 rows x 11 columns]"
      ]
     },
     "execution_count": 327,
     "metadata": {},
     "output_type": "execute_result"
    }
   ],
   "source": [
    "import pandas as pd\n",
    "import numpy as np\n",
    "import seaborn as sns\n",
    "\n",
    "df = pd.read_csv('vgsales.csv')\n",
    "df"
   ]
  },
  {
   "cell_type": "code",
   "execution_count": 510,
   "metadata": {},
   "outputs": [
    {
     "data": {
      "text/plain": [
       "<matplotlib.axes._subplots.AxesSubplot at 0x26548a5eee0>"
      ]
     },
     "execution_count": 510,
     "metadata": {},
     "output_type": "execute_result"
    },
    {
     "data": {
      "image/png": "[encoded data removed]",
      "text/plain": [
       "<Figure size 432x288 with 1 Axes>"
      ]
     },
     "metadata": {
      "needs_background": "light"
     },
     "output_type": "display_data"
    }
   ],
   "source": [
    "#Task 1\n",
    "sns.boxplot(x = df['NA_Sales'])"
   ]
  },
  {
   "cell_type": "code",
   "execution_count": 511,
   "metadata": {},
   "outputs": [
    {
     "data": {
      "text/plain": [
       "<matplotlib.axes._subplots.AxesSubplot at 0x265487f8f70>"
      ]
     },
     "execution_count": 511,
     "metadata": {},
     "output_type": "execute_result"
    },
    {
     "data": {
      "image/png": "[encoded data removed]",
      "text/plain": [
       "<Figure size 432x288 with 1 Axes>"
      ]
     },
     "metadata": {
      "needs_background": "light"
     },
     "output_type": "display_data"
    }
   ],
   "source": [
    "sns.boxplot(x = df['EU_Sales'])"
   ]
  },
  {
   "cell_type": "code",
   "execution_count": 514,
   "metadata": {},
   "outputs": [
    {
     "data": {
      "text/plain": [
       "<matplotlib.axes._subplots.AxesSubplot at 0x26548b67f70>"
      ]
     },
     "execution_count": 514,
     "metadata": {},
     "output_type": "execute_result"
    },
    {
     "data": {
      "image/png": "[encoded data removed]",
      "text/plain": [
       "<Figure size 432x288 with 1 Axes>"
      ]
     },
     "metadata": {
      "needs_background": "light"
     },
     "output_type": "display_data"
    }
   ],
   "source": [
    "sns.boxplot(x = df['JP_Sales'])"
   ]
  },
  {
   "cell_type": "code",
   "execution_count": 513,
   "metadata": {},
   "outputs": [
    {
     "data": {
      "text/plain": [
       "<matplotlib.axes._subplots.AxesSubplot at 0x26548314850>"
      ]
     },
     "execution_count": 513,
     "metadata": {},
     "output_type": "execute_result"
    },
    {
     "data": {
      "image/png": "[encoded data removed]",
      "text/plain": [
       "<Figure size 432x288 with 1 Axes>"
      ]
     },
     "metadata": {
      "needs_background": "light"
     },
     "output_type": "display_data"
    }
   ],
   "source": [
    "sns.boxplot(x = df['Other_Sales'])"
   ]
  },
  {
   "cell_type": "code",
   "execution_count": 512,
   "metadata": {},
   "outputs": [
    {
     "data": {
      "text/plain": [
       "<matplotlib.axes._subplots.AxesSubplot at 0x2654885e9d0>"
      ]
     },
     "execution_count": 512,
     "metadata": {},
     "output_type": "execute_result"
    },
    {
     "data": {
      "image/png": "[encoded data removed]",
      "text/plain": [
       "<Figure size 432x288 with 1 Axes>"
      ]
     },
     "metadata": {
      "needs_background": "light"
     },
     "output_type": "display_data"
    }
   ],
   "source": [
    "sns.boxplot(x = df['Global_Sales'])"
   ]
  },
  {
   "cell_type": "code",
   "execution_count": 497,
   "metadata": {},
   "outputs": [
    {
     "data": {
      "image/png": "[encoded data removed]",
      "text/plain": [
       "<Figure size 432x288 with 2 Axes>"
      ]
     },
     "metadata": {
      "needs_background": "light"
     },
     "output_type": "display_data"
    }
   ],
   "source": [
    "fig, axs = plt.subplots(1, 2, tight_layout=True)\n",
    "\n",
    "axs[0].hist(df['NA_Sales'], bins = 20)\n",
    "axs[0].set_title('NA_Sales')\n",
    "\n",
    "axs[1].hist(df['EU_Sales'], bins = 20)\n",
    "axs[1].set_title('EU_Sales')\n",
    "\n",
    "plt.show()"
   ]
  },
  {
   "cell_type": "code",
   "execution_count": 498,
   "metadata": {},
   "outputs": [
    {
     "data": {
      "image/png": "[encoded data removed]",
      "text/plain": [
       "<Figure size 432x288 with 2 Axes>"
      ]
     },
     "metadata": {
      "needs_background": "light"
     },
     "output_type": "display_data"
    }
   ],
   "source": [
    "fig, axs = plt.subplots(1, 2, tight_layout=True)\n",
    "\n",
    "axs[0].hist(df['JP_Sales'], bins = 20)\n",
    "axs[0].set_title('JP_Sales')\n",
    "\n",
    "axs[1].hist(df['Other_Sales'], bins = 20)\n",
    "axs[1].set_title('Other_Sales')\n",
    "\n",
    "plt.show()"
   ]
  },
  {
   "cell_type": "code",
   "execution_count": 506,
   "metadata": {},
   "outputs": [
    {
     "data": {
      "image/png": "[encoded data removed]",
      "text/plain": [
       "<Figure size 432x288 with 1 Axes>"
      ]
     },
     "metadata": {
      "needs_background": "light"
     },
     "output_type": "display_data"
    }
   ],
   "source": [
    "plt.hist(df['Global_Sales'], bins=20) \n",
    "plt.title('Global_Sales')\n",
    "plt.show()"
   ]
  },
  {
   "cell_type": "code",
   "execution_count": 289,
   "metadata": {},
   "outputs": [
    {
     "name": "stdout",
     "output_type": "stream",
     "text": [
      "Average Sales in North America: 0.26466742981084057\n",
      "Average Sales in Europe: 0.1466520062658483\n",
      "Average Sales in Japan: 0.07778166044101108\n",
      "Average Sales in the rest of the world: 0.048063019640913515\n"
     ]
    }
   ],
   "source": [
    "#Task 2\n",
    "print('Average Sales in North America:', df['NA_Sales'].mean())\n",
    "print('Average Sales in Europe:', df['EU_Sales'].mean())\n",
    "print('Average Sales in Japan:', df['JP_Sales'].mean())\n",
    "print('Average Sales in the rest of the world:', df['Other_Sales'].mean())"
   ]
  },
  {
   "cell_type": "code",
   "execution_count": 437,
   "metadata": {},
   "outputs": [
    {
     "name": "stdout",
     "output_type": "stream",
     "text": [
      "Standard deviation Sales in North America: 0.8166584270779742\n",
      "Standard deviation Sales in Europe: 0.5053360078008797\n",
      "Standard deviation Sales in Japan: 0.3092813308358745\n",
      "Standard deviation Sales in the rest of the world: 0.1885827217691664\n"
     ]
    }
   ],
   "source": [
    "#Task 3\n",
    "print('Standard deviation Sales in North America:', np.std(df['NA_Sales']))\n",
    "print('Standard deviation Sales in Europe:', np.std(df['EU_Sales']))\n",
    "print('Standard deviation Sales in Japan:', np.std(df['JP_Sales']))\n",
    "print('Standard deviation Sales in the rest of the world:', np.std(df['Other_Sales']))"
   ]
  },
  {
   "cell_type": "code",
   "execution_count": 474,
   "metadata": {},
   "outputs": [
    {
     "name": "stdout",
     "output_type": "stream",
     "text": [
      "Interquartile range is 0.41\n",
      "Number of outliers is 1893\n"
     ]
    }
   ],
   "source": [
    "#Task 4\n",
    "Q1 = np.percentile(df['Global_Sales'], 25, interpolation = 'midpoint')  \n",
    "Q2 = np.percentile(df['Global_Sales'], 50, interpolation = 'midpoint')  \n",
    "Q3 = np.percentile(df['Global_Sales'], 75, interpolation = 'midpoint')  \n",
    "  \n",
    "IQR = Q3 - Q1  \n",
    "print('Interquartile range is', IQR) \n",
    "\n",
    "low_lim = Q1 - 1.5 * IQR \n",
    "up_lim = Q3 + 1.5 * IQR \n",
    "\n",
    "outlier =[] \n",
    "for x in df['Global_Sales']: \n",
    "    if ((x > up_lim) or (x < low_lim)): \n",
    "         outlier.append(x) \n",
    "print('Number of outliers is', len(outlier))"
   ]
  },
  {
   "cell_type": "code",
   "execution_count": 356,
   "metadata": {},
   "outputs": [
    {
     "name": "stdout",
     "output_type": "stream",
     "text": [
      "Difference is 0.36744065550074\n"
     ]
    }
   ],
   "source": [
    "#Task 5\n",
    "gsmean = np.mean(df['Global_Sales'])\n",
    "gsmedian = np.median(df['Global_Sales'])\n",
    "dif = gsmean - gsmedian\n",
    "print('Difference is', dif)"
   ]
  },
  {
   "cell_type": "code",
   "execution_count": 391,
   "metadata": {},
   "outputs": [
    {
     "data": {
      "image/png": "[encoded data removed]",
      "text/plain": [
       "<Figure size 432x288 with 2 Axes>"
      ]
     },
     "metadata": {
      "needs_background": "light"
     },
     "output_type": "display_data"
    }
   ],
   "source": [
    "#Task 6\n",
    "newgs = df.loc[~df.Global_Sales.isin(outlier)]\n",
    "\n",
    "fig, (ax0, ax1) = plt.subplots(nrows=1, ncols=2)\n",
    "ax0.hist(newgs['Global_Sales'], bins=100, density=True);\n",
    "ax1.boxplot(newgs['Global_Sales']) \n",
    "fig.tight_layout()\n",
    "plt.show()"
   ]
  },
  {
   "cell_type": "code",
   "execution_count": 381,
   "metadata": {},
   "outputs": [
    {
     "name": "stdout",
     "output_type": "stream",
     "text": [
      "Difference is 0.09147432845973633\n"
     ]
    }
   ],
   "source": [
    "#Task 7\n",
    "gsmean1 = np.mean(newgs['Global_Sales'])\n",
    "gsmedian1 = np.median(newgs['Global_Sales'])\n",
    "dif = gsmean1 - gsmedian1\n",
    "print('Difference is', dif)"
   ]
  },
  {
   "cell_type": "markdown",
   "metadata": {},
   "source": [
    "Difference is much more less because there were a lot values with zeros in initial form of the dataset. So, after removing the outliers it widened the difference between mean and median."
   ]
  },
  {
   "cell_type": "markdown",
   "metadata": {},
   "source": [
    "## Q2 (1 point)\n",
    "Consider the set of data below (my_list). Does it appear to approximately follow a normal distribution? Justify your answer.\n",
    "\n",
    "*Hint: Check for the properties of the Normal distribution and for the graph of distribtuion.*"
   ]
  },
  {
   "cell_type": "code",
   "execution_count": 452,
   "metadata": {},
   "outputs": [],
   "source": [
    "my_list = [113, 71, 89, 143, 140, 146, 122, 104, 134, 143, 110, 131, 125, 116, \n",
    "           164, 107, 113, 122, 119, 116, 98, 161, 128, 152, 116, 83, 86, 155,\n",
    "           128, 122, 95, 122, 131, 134, 107, 113, 101, 92, 134, 140]"
   ]
  },
  {
   "cell_type": "code",
   "execution_count": 453,
   "metadata": {},
   "outputs": [],
   "source": [
    "import matplotlib.pyplot as plt\n",
    "import statistics as st\n",
    "import scipy.stats as stats\n",
    "import statsmodels.api as sm\n",
    "import pylab"
   ]
  },
  {
   "cell_type": "markdown",
   "metadata": {},
   "source": [
    "One of the basic properties of normal distribution says that mean, median and mode are all equal."
   ]
  },
  {
   "cell_type": "code",
   "execution_count": 460,
   "metadata": {},
   "outputs": [
    {
     "name": "stdout",
     "output_type": "stream",
     "text": [
      "Mean: 120.65\n",
      "Mode: 122\n",
      "Median: 122.0\n"
     ]
    }
   ],
   "source": [
    "#General test\n",
    "print('Mean:', st.mean(my_list))\n",
    "print('Mode:', st.mode(my_list))\n",
    "print('Median:', st.median(my_list))"
   ]
  },
  {
   "cell_type": "code",
   "execution_count": 179,
   "metadata": {},
   "outputs": [
    {
     "data": {
      "image/png": "[encoded data removed]",
      "text/plain": [
       "<Figure size 432x288 with 1 Axes>"
      ]
     },
     "metadata": {
      "needs_background": "light"
     },
     "output_type": "display_data"
    }
   ],
   "source": [
    "#Histogram test\n",
    "plt.hist(my_list)\n",
    "plt.show()"
   ]
  },
  {
   "cell_type": "code",
   "execution_count": 184,
   "metadata": {},
   "outputs": [
    {
     "data": {
      "image/png": "[encoded data removed]",
      "text/plain": [
       "<Figure size 432x288 with 1 Axes>"
      ]
     },
     "metadata": {
      "needs_background": "light"
     },
     "output_type": "display_data"
    }
   ],
   "source": [
    "ax = sns.distplot(my_list)"
   ]
  },
  {
   "cell_type": "code",
   "execution_count": 119,
   "metadata": {},
   "outputs": [
    {
     "data": {
      "image/png": "[encoded data removed]",
      "text/plain": [
       "<Figure size 432x288 with 1 Axes>"
      ]
     },
     "metadata": {
      "needs_background": "light"
     },
     "output_type": "display_data"
    }
   ],
   "source": [
    "#Quantile test\n",
    "my_list = stats.norm.rvs(size=1000)\n",
    "sm.qqplot(my_list, line='45')\n",
    "pylab.show()"
   ]
  },
  {
   "cell_type": "code",
   "execution_count": 120,
   "metadata": {},
   "outputs": [
    {
     "name": "stdout",
     "output_type": "stream",
     "text": [
      "(0.9993802905082703, 0.9900021553039551)\n",
      "Probably normal\n"
     ]
    }
   ],
   "source": [
    "#Shapiro-wilk test\n",
    "x, p = stats.shapiro(my_list)\n",
    "print((x, p))\n",
    "if p > 0.05:\n",
    "    print('Probably normal')\n",
    "else:\n",
    "    print('Probably not normal')"
   ]
  },
  {
   "cell_type": "markdown",
   "metadata": {},
   "source": [
    "From the performed tests we can see that the given set follows normal distribution."
   ]
  },
  {
   "cell_type": "markdown",
   "metadata": {},
   "source": [
    "## Q3 (1 point)\n",
    "Generate synthetic data (numpy.random.normal) with mean = 100, std = 20 and size = 100000 (round it to nearest integer). \n",
    "\n",
    "__Tasks to do:__\n",
    "1. Plot histogram\n",
    "2. What is the mean, median and mode\n",
    "3. Build function to calculate standard deviation using standard Python functionality\n",
    "4. Calculate std. using your function and compare it with numpy function"
   ]
  },
  {
   "cell_type": "code",
   "execution_count": 293,
   "metadata": {},
   "outputs": [],
   "source": [
    "mean, stdev = 100, 20\n",
    "data1 = np.random.normal(mean, stdev, 100000)"
   ]
  },
  {
   "cell_type": "code",
   "execution_count": 301,
   "metadata": {},
   "outputs": [
    {
     "data": {
      "image/png": "[encoded data removed]",
      "text/plain": [
       "<Figure size 432x288 with 1 Axes>"
      ]
     },
     "metadata": {
      "needs_background": "light"
     },
     "output_type": "display_data"
    }
   ],
   "source": [
    "#Task 1\n",
    "plt.hist(data1, bins=100, density=True);"
   ]
  },
  {
   "cell_type": "code",
   "execution_count": 280,
   "metadata": {},
   "outputs": [
    {
     "name": "stdout",
     "output_type": "stream",
     "text": [
      "100\n",
      "100.13482825724495\n",
      "100.32172789755832\n"
     ]
    }
   ],
   "source": [
    "#Task 2\n",
    "print(mean)\n",
    "print(np.median(data))\n",
    "print(st.mode(data))"
   ]
  },
  {
   "cell_type": "code",
   "execution_count": 281,
   "metadata": {},
   "outputs": [],
   "source": [
    "#Task 3\n",
    "mean2 = sum(data) / len(data)\n",
    "var  = sum(pow(x - mean2, 2) for x in data) / len(data)\n",
    "std  = var**(1/2)"
   ]
  },
  {
   "cell_type": "code",
   "execution_count": 282,
   "metadata": {},
   "outputs": [
    {
     "name": "stdout",
     "output_type": "stream",
     "text": [
      "20.020517061434965\n",
      "20.020517061435\n"
     ]
    }
   ],
   "source": [
    "#Task 4\n",
    "print(std)\n",
    "print(np.std(data))"
   ]
  },
  {
   "cell_type": "markdown",
   "metadata": {},
   "source": [
    "## Q4 (1 point)\n",
    "Suppose that S is a random variable of the AITU graduates salaries in the first year of work, which is assumed to be normally distributed with the population mean µ = 500 thousand KZT and the population standard deviation σ = 80 thousand KZT. \n",
    "\n",
    "**Find the following probabilities:**\n",
    "1. A graduate will have salary below 450 thousand KZT?\n",
    "2. A graduate will have salary below the median salary?\n",
    "3. A graduate will have salary above 660 thousand KZT?\n",
    "4. A graduate will have salary between 400 and 600 thousand KZT?\n",
    "5. In a sample of 25 graduates, what percentage of that students will have salary between 480 and 520 thousand KZT?\n",
    "\n",
    "*Hint: Use SciPy's norm module and write all answers in one cell (using print(command)) for convenience.*"
   ]
  },
  {
   "cell_type": "code",
   "execution_count": 523,
   "metadata": {},
   "outputs": [
    {
     "name": "stdout",
     "output_type": "stream",
     "text": [
      "Task 1: 0.7340144709512995\n",
      "Task 2: 0.5\n",
      "Task 3: 0.9772498680518208\n",
      "Task 4: 0.7887004526662893\n",
      "Task 5: -0.1974126513658474\n"
     ]
    }
   ],
   "source": [
    "m = 500\n",
    "s = 80\n",
    "print('Task 1:', 1 - norm.cdf(450, m, s))\n",
    "print('Task 2:', 1 - norm.cdf(500, m, s))\n",
    "print('Task 3:', norm.cdf(660, m, s))\n",
    "print('Task 4:', norm.cdf(600, m, s) - norm.cdf(400, m, s))\n",
    "print('Task 5:', norm.cdf(480, m, s) - norm.cdf(520, m, s))"
   ]
  },
  {
   "cell_type": "markdown",
   "metadata": {},
   "source": [
    "## Q5 (1 point)\n",
    "Prove the following expression:\n",
    "\n",
    "$$Var(X) = E((X-\\mu)^2) = E(X^2) - (E(X))^2$$\n",
    "\n",
    "\n",
    "\n",
    "*Hint: For proof write it down in markdown cell below using LaTex.*"
   ]
  },
  {
   "cell_type": "markdown",
   "metadata": {},
   "source": [
    "We need to prove this expression:\n",
    "\n",
    "$$Var(X) = E((X-\\mu)^2)$$\n",
    "\n",
    "Basically, this is the simplified formula of this:\n",
    "$$E((X-\\mu)^2)) = \\sum_{i=1}^{N}(xi-\\mu)^2pi$$\n",
    "\n",
    "Let's confirm what expected value of x is equal to:\n",
    "$$E(X)=\\sum_{i=1}^{N}(xi)pi$$\n",
    "\n",
    "Means that:\n",
    "\n",
    "$$E(X^2)=\\sum_{i=1}^{N}(xi)^2pi$$\n",
    "\n",
    "what is inside this parentheses is the value you're going to take and multiply by the probability. In our case that value is:\n",
    "\n",
    "$$(X-\\mu)^2$$\n",
    "\n",
    "Let's try to expand this:\n",
    "\n",
    "$$E(X^2-2\\mu X+\\mu^2)$$\n",
    "\n",
    "$$E(X^2)-2\\mu E(X)+\\mu^2)$$\n",
    "\n",
    "$$E(X) = \\mu$$\n",
    "\n",
    "$$E(X^2)-2\\mu^2 +\\mu^2)$$\n",
    "\n",
    "$$E(X^2)-\\mu^2)$$\n",
    "\n",
    "$$E(X^2) - (E(X))^2$$\n",
    "\n",
    "Approved:\n",
    "\n",
    "$$E((X-\\mu)^2) = E(X^2) - (E(X))^2$$"
   ]
  },
  {
   "cell_type": "markdown",
   "metadata": {},
   "source": [
    "## Bonus question (1 point)\n",
    "Using NumPy's random library:\n",
    "1. Write a NumPy program to shuffle numbers between 0 and 10 (inclusive)\n",
    "2. Write a NumPy program to generate six random integers between 10 and 30\n",
    "3. Write a program to simulate dice rolling\n",
    "4. Visualize number of occurences of each side of a die\n",
    "5. Find probability of getting even number, using simulation"
   ]
  },
  {
   "cell_type": "code",
   "execution_count": 470,
   "metadata": {},
   "outputs": [
    {
     "name": "stdout",
     "output_type": "stream",
     "text": [
      "[9 4 5 6 0 7 8 2 3 1]\n",
      "[1 8 6 5 7 0 9 3 2 4]\n"
     ]
    }
   ],
   "source": [
    "#Task 1\n",
    "num = np.arange(10)\n",
    "np.random.shuffle(num)\n",
    "print(num)\n",
    "print(np.random.permutation(10))"
   ]
  },
  {
   "cell_type": "code",
   "execution_count": 473,
   "metadata": {},
   "outputs": [
    {
     "name": "stdout",
     "output_type": "stream",
     "text": [
      "[17 16 29 26 15 22]\n"
     ]
    }
   ],
   "source": [
    "#Task 2\n",
    "num = np.random.randint(low=10, high=30, size=6)\n",
    "print(num)"
   ]
  },
  {
   "cell_type": "code",
   "execution_count": null,
   "metadata": {},
   "outputs": [],
   "source": [
    "#Task 3\n",
    "import random as rand\n",
    "repeat = True\n",
    "while repeat:\n",
    "    print(\"You rolled\",rand.randint(1,6))\n",
    "    print(\"Do you want to roll again? Y/N\")\n",
    "    repeat = \"Y\" in input()"
   ]
  },
  {
   "cell_type": "markdown",
   "metadata": {},
   "source": [
    "## Bonus question 2 (1 point)\n",
    "\n",
    "Try to simulate all problems from previous question 4, and find probabilities using loops?"
   ]
  },
  {
   "cell_type": "code",
   "execution_count": 7,
   "metadata": {},
   "outputs": [],
   "source": [
    "# Please, write your code here"
   ]
  }
 ],
 "metadata": {
  "kernelspec": {
   "display_name": "Python 3",
   "language": "python",
   "name": "python3"
  },
  "language_info": {
   "codemirror_mode": {
    "name": "ipython",
    "version": 3
   },
   "file_extension": ".py",
   "mimetype": "text/x-python",
   "name": "python",
   "nbconvert_exporter": "python",
   "pygments_lexer": "ipython3",
   "version": "3.8.3"
  }
 },
 "nbformat": 4,
 "nbformat_minor": 4
}
