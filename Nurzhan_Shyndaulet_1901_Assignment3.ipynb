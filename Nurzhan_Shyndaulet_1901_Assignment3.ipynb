{
 "cells": [
  {
   "cell_type": "markdown",
   "metadata": {},
   "source": [
    "# PDS: Assignment 3\n",
    "\n",
    "### Deadline: February 9 (until 23:59)\n",
    "\n",
    "\n",
    "**Instructions:** All answers should be filled in the notebook and then submitted to Moodle. For theoretical question you can use markdown and LaTeX. Name of notebook should be in following format:\n",
    " - Name_group_Assignment3.ipynb (ex. Mussalim_Kaisar_1905_Assignment3.ipynb)\n",
    " - Try to use fewer cells for compilation (for example, you can use print for several answers, instead of printing each answer on a separate cell)\n",
    " - **PLEASE:** submit only one jupyter notebook (no zip or csv files) and with your names as in the instruction. Ohterwise, there will be punishment for 1 point."
   ]
  },
  {
   "cell_type": "markdown",
   "metadata": {},
   "source": [
    "## Q1 (1 point)\n",
    "Solve the tasks below.\n",
    "\n",
    "***Please write your code in the cell with the task.***"
   ]
  },
  {
   "cell_type": "markdown",
   "metadata": {},
   "source": [
    "### Task 1\n",
    "Print the number of words in the text. Enter your code in the cell below. The cell already contains code that takes the text from the file and saves it as a string in the variable txt. Note that the text contains new line characters \"\\n\".\n",
    "\n",
    "\n",
    "***Hints:*** Count words with apostrophes, e.g. \"didn't\", as one word. Do not count punctuation marks, e.g. hyphens \"-\", as words. Attention to detail is important here!"
   ]
  },
  {
   "cell_type": "code",
   "execution_count": 203,
   "metadata": {},
   "outputs": [
    {
     "name": "stdout",
     "output_type": "stream",
     "text": [
      "Number of words: 1425\n"
     ]
    }
   ],
   "source": [
    "import string\n",
    "with open('q1_file.txt') as f:\n",
    "    txt = f.read()\n",
    "    \n",
    "punct = '''.,:;\"/\\-?!''' #specify punctuations that we must ignore\n",
    "\n",
    "for i in txt:\n",
    "    if i in punct: \n",
    "        txt = txt.replace(i, \"\") #remove punctuations from the text\n",
    "        \n",
    "words = txt.split() #split words from each other\n",
    "\n",
    "print('Number of words:', len(words)) #calculate number of words"
   ]
  },
  {
   "cell_type": "markdown",
   "metadata": {},
   "source": [
    "### Task 2\n",
    "\n",
    "Print the number of unique words in the text. Enter your code in the cell below. \n",
    "\n",
    "***Hints:*** Count contractions, e.g. \"didn't\", and possessives , e.g. \"policeman's\", as distinct words but ignore formatting such as capitalization and quotation marks. "
   ]
  },
  {
   "cell_type": "code",
   "execution_count": 204,
   "metadata": {},
   "outputs": [
    {
     "name": "stdout",
     "output_type": "stream",
     "text": [
      "Number of unique words: 506\n"
     ]
    }
   ],
   "source": [
    "import string \n",
    "\n",
    "txt1 = open(\"q1_file.txt\", \"r\") \n",
    "\n",
    "d = dict() #call dictionary\n",
    "\n",
    "for line in txt1: \n",
    "    \n",
    "    line = line.strip().lower().translate(line.maketrans(\"\", \"\", string.punctuation)) #doing same things as in the Task1, but with adding lower()\n",
    "    \n",
    "    all = line.split(\" \") #split words from each other\n",
    "\n",
    "    for unique in all: \n",
    "        if unique in d: \n",
    "            d[unique] = d[unique] + 1 #count word that repeats\n",
    "        else: \n",
    "            d[unique] = 1 #leave as 1 if it is only one\n",
    "\n",
    "print('Number of unique words:',len(d)) #calculate number of unique words"
   ]
  },
  {
   "cell_type": "markdown",
   "metadata": {},
   "source": [
    "### Task 3\n",
    "\n",
    "Consider the words \"the\", \"a\", \"and\", \"man\", and \"time\". Create a dictionary where each of these words is a key and the value is the number of times the word appears in the text. Then print five lines of text, each containing one of the words and the number of times it appears."
   ]
  },
  {
   "cell_type": "code",
   "execution_count": 205,
   "metadata": {},
   "outputs": [
    {
     "name": "stdout",
     "output_type": "stream",
     "text": [
      "someone : 2\n",
      "must : 2\n",
      "have : 15\n",
      "been : 6\n",
      "telling : 1\n"
     ]
    }
   ],
   "source": [
    "li = list(d.keys()) #convert to list\n",
    "\n",
    "for key in li[0:5]: #specify first five lines\n",
    "    print(key, \":\", d[key]) "
   ]
  },
  {
   "cell_type": "markdown",
   "metadata": {},
   "source": [
    "## Q2 (1 point)\n",
    "Solve the tasks below.\n",
    "\n",
    "***Please write your code in the cell with the task.***"
   ]
  },
  {
   "cell_type": "code",
   "execution_count": 206,
   "metadata": {},
   "outputs": [
    {
     "name": "stdout",
     "output_type": "stream",
     "text": [
      "[1, 2, 'boo', 4, 5, 'boo', 7, 8, 'boo', 10, 11, 'boo', 13, 14, 'boo', 16, 17, 'boo', 19, 20, 'boo', 22, 23, 'boo', 25, 26, 'boo', 28, 29, 'boo', 31, 32, 'boo', 34, 35, 'boo', 37, 38, 'boo', 40, 41, 'boo', 43, 44, 'boo', 46, 47, 'boo', 49, 50, 'boo', 52, 53, 'boo', 55, 56, 'boo', 58, 59, 'boo', 61, 62, 'boo', 64, 65, 'boo', 67, 68, 'boo', 70, 71, 'boo', 73, 74, 'boo', 76, 77, 'boo', 79, 80, 'boo', 82, 83, 'boo', 85, 86, 'boo', 88, 89, 'boo', 91, 92, 'boo', 94, 95, 'boo', 97, 98, 'boo', 100]\n"
     ]
    }
   ],
   "source": [
    "# Task 1: Create a list that contains all integers from 1 to 100 (inclusive), \n",
    "# except that it has the string 'boo' for every integer that is divisible by 3 \n",
    "# Your list should look like: [1, 2, 'boo', 4, 5, 'boo', 7, 8, 'boo', 10, ...]\n",
    "\n",
    "li = []\n",
    "for x in range(1, 101):\n",
    "    li.append(x)\n",
    "\n",
    "for index, i in enumerate(li):\n",
    "    if not (i % 3): #if divisible by 3 \n",
    "        li.pop(index) \n",
    "        li.insert(index, 'boo') #replace with 'boo'\n",
    "    else:\n",
    "        continue\n",
    "        \n",
    "print(li)"
   ]
  },
  {
   "cell_type": "code",
   "execution_count": 217,
   "metadata": {},
   "outputs": [
    {
     "name": "stdout",
     "output_type": "stream",
     "text": [
      "Sum of the even integers: 24\n"
     ]
    }
   ],
   "source": [
    "# Task 2: Sum the even integers from the list below using iteration\n",
    "lst = [1, 3, 2, 4.5, 7, 8, 10, 3, 5, 4, 7, 3.33]\n",
    "\n",
    "sum = 0\n",
    "\n",
    "for j in range(len(lst)):\n",
    "    if(lst[j] % 2 == 0): \n",
    "        sum = sum + lst[j]\n",
    "\n",
    "print('Sum of the even integers:', sum)"
   ]
  },
  {
   "cell_type": "code",
   "execution_count": 216,
   "metadata": {},
   "outputs": [
    {
     "name": "stdout",
     "output_type": "stream",
     "text": [
      "Squared list: [1, 9, 4, 20.25, 49, 64, 100, 9, 25, 16, 49, 11.0889]\n"
     ]
    }
   ],
   "source": [
    "# Task 3: Using a list comprehension, create a new list containing \n",
    "# the squares of the integers in the list below\n",
    "lst = [1, 3, 2, 4.5, 7, 8, 10, 3, 5, 4, 7, 3.33]\n",
    "\n",
    "squared = [new ** 2 for new in lst]\n",
    "\n",
    "print('Squared list:', squared)"
   ]
  },
  {
   "cell_type": "code",
   "execution_count": 209,
   "metadata": {},
   "outputs": [
    {
     "name": "stdout",
     "output_type": "stream",
     "text": [
      "[(0, 6), (1, 5), (2, 4), (3, 3)]\n"
     ]
    }
   ],
   "source": [
    "# Task 4: Consider the lists x and y below. Using a list comprehension,\n",
    "# create a list that contains all combinations of (elem_x, elem_y) \n",
    "# such that elem_x + elem_y = 6\n",
    "# Your answer should look as follows: [(0, 6), (1, 5), (2, 4), (3, 3)]\n",
    "x = [0, 1, 2, 3]\n",
    "y = [3, 4, 5, 6]\n",
    "\n",
    "l1 = iter(x)\n",
    "l2 = reversed(y)\n",
    "\n",
    "result = []\n",
    "try: #using try and except in order to have an access to the next value\n",
    "    x = next(l1)\n",
    "    y = next(l2)\n",
    "    while True: \n",
    "        if x + y == 6: \n",
    "            new_pair = x, y #remember the pair if the sum gives 6\n",
    "            result.append(new_pair)\n",
    "            x = next(l1) \n",
    "            \n",
    "            while x == new_pair[0]:\n",
    "                x = l1.next() #go through x\n",
    "                \n",
    "            y = next(l2)\n",
    "            while y == new_pair[1]:\n",
    "                y = next(l2) #go through y\n",
    "                \n",
    "        elif x + y > 6:\n",
    "            y = next(l2)\n",
    "        else:\n",
    "            x = next(l1)\n",
    "\n",
    "except StopIteration:\n",
    "    pass\n",
    "\n",
    "print(result)"
   ]
  },
  {
   "cell_type": "markdown",
   "metadata": {},
   "source": [
    "# For the next questions you will need to read about k-means clustering algorithm\n",
    "## Moreover, it might help to enhance your knowledge for AITU Project Challenge\n",
    "### Writing your own k-means clustering algorithm\n",
    "\n",
    "K-means clustering is a simple unsupervised machine-learning method for cluster analysis. The aim of the method is to partition a set of points into k clusters, such that each point is assigned to the nearest cluster. The algorithm iterates through two steps:\n",
    "\n",
    "1. Assign each data point to the cluster with the nearest centroid\n",
    "2. Update the centroids of the clusters given the new assignment\n",
    "\n",
    "The algorithm converges when the assignments no longer change. Since the intial assignment to clusters is largely random, there is no guarantee that the optimum assignment is found. So it is common to run the algorithm multiple times and use different starting conditions.\n",
    "\n",
    "In this assignment, we will implement a much simplified version of the k-means clustering algorithm. Rather than running the algorithm until convergence, we will repeat the above two steps a large but fixed number of times. In addition, we will initialize only once, using a naive method according to which we randomly choose k points from the data to use as initial cluster centroids. \n",
    "\n",
    "(In real life, you will of course use a library to implement such an algorithm. In Python, you can do this using [scikit-learn](http://scikit-learn.org/stable/modules/generated/sklearn.cluster.KMeans.html).)\n",
    "\n",
    "For Q5, we will additionally use data from the file \"Wholesale_customers_data.csv\". The file contains information on the annual spending on diverse product categories for the clients of a wholesale distributor. The data are obtained from the [UCI Machine Learning Repository](http://archive.ics.uci.edu/ml/index.php) and you can find more information about them [here](http://archive.ics.uci.edu/ml/datasets/Wholesale+customers#)."
   ]
  },
  {
   "cell_type": "markdown",
   "metadata": {},
   "source": [
    "## Q3 (1 point)\n",
    "### Function to estimate Euclidean distance between two points\n",
    "\n",
    "Write a function called `get_distance` that calculates the Euclidean distance between two n-dimensional points. The function should take two lists as arguments, where each list contains the n coordinates of each of the two points. \n",
    "\n",
    "Test your function for the points [0, 3, 0] and [4, 0, 0].\n",
    "\n",
    "***Hints:*** You can read about the definition of Euclidean distance on [Wikipedia](https://en.wikipedia.org/wiki/Euclidean_distance).\n",
    "\n",
    "***Use docstrings to describe your functions.***"
   ]
  },
  {
   "cell_type": "code",
   "execution_count": 218,
   "metadata": {},
   "outputs": [
    {
     "name": "stdout",
     "output_type": "stream",
     "text": [
      "Euclidean distance: 5.0\n"
     ]
    }
   ],
   "source": [
    "import math\n",
    "import numpy as np\n",
    "\n",
    "def get_distance(x, y):\n",
    "    \"\"\"function takes the values of x and y, and returns the Euclidean distance by the formula.\"\"\"\n",
    "    return math.sqrt(np.sum((x-y)**2))\n",
    "\n",
    "li1 = np.array((0,3,0))\n",
    "li2 = np.array((4,0,0))\n",
    "\n",
    "print('Euclidean distance:', get_distance(li1, li2))"
   ]
  },
  {
   "cell_type": "markdown",
   "metadata": {},
   "source": [
    "## Q4 (1 point)\n",
    "\n",
    "### Function to estimate the centroid of a collection of points\n",
    "\n",
    "Write a function called `get_centroid` that estimates the centroid of a collection of n-dimensional points. The function should take one list as an argument, which contains each of the points entered as a list of n coordinates. The function should return a list with the coordinates of the virtual center point.\n",
    "\n",
    "Test your function for the points in `test_lst` entered below.\n",
    "\n",
    "***Hints:***  The coordinate of the centroid in each dimension is the mean of the coordinates of all the points in that dimension.\n",
    "\n",
    "***Use docstrings to describe your functions.***"
   ]
  },
  {
   "cell_type": "code",
   "execution_count": 220,
   "metadata": {},
   "outputs": [
    {
     "name": "stdout",
     "output_type": "stream",
     "text": [
      "Centroid of a collection: (0.5, 0.5, 0.5)\n"
     ]
    }
   ],
   "source": [
    "test_lst = [[0,0,0], [0,0,1], [0,1,0], [1,0,0], \n",
    "            [0,1,1], [1,0,1], [1,1,0], [1,1,1]]\n",
    "\n",
    "arr = np.array(test_lst)\n",
    "\n",
    "def get_centroid(arr):\n",
    "    \"\"\"function gets array and then calculates total amount of collections of points. \n",
    "    then it takes the sum from each point and returns each mean\"\"\"\n",
    "    \n",
    "    length = arr.shape[0]\n",
    "    \n",
    "    sum_x = np.sum(arr[:, 0])\n",
    "    sum_y = np.sum(arr[:, 1])\n",
    "    sum_z = np.sum(arr[:, 2])\n",
    "    \n",
    "    return sum_x/length, sum_y/length, sum_z/length\n",
    "\n",
    "print('Centroid of a collection:', get_centroid(arr))"
   ]
  },
  {
   "cell_type": "markdown",
   "metadata": {},
   "source": [
    "## Q5 (1 point)\n",
    "### Function to read data\n",
    "\n",
    "Write a function called `get_data` that opens the file \"Wholesale customers data.csv\" and returns all the data in a list. Each element in the list should be a list of each customer's annual spending on fresh products, milk products, grocery products, frozen products, detergents and paper products, and delicatessen products. In other words, your list should contain 440 elements (customers), each of which contains six numeric elements (amounts spent on products). The function does not need to take any arguments.\n",
    "\n",
    "Test your function by saving the data it returns in a variable called `data`. Then print the first two elements of `data`.\n",
    "\n",
    "\n",
    "***Hints:*** Use the csv module to read the file. You can read how to do this [here](https://docs.python.org/3/library/csv.html). Make sure you do not include the column names in the data.\n",
    "\n",
    "***Use docstrings to describe your functions.***"
   ]
  },
  {
   "cell_type": "code",
   "execution_count": 212,
   "metadata": {},
   "outputs": [
    {
     "data": {
      "text/html": [
       "<div>\n",
       "<style scoped>\n",
       "    .dataframe tbody tr th:only-of-type {\n",
       "        vertical-align: middle;\n",
       "    }\n",
       "\n",
       "    .dataframe tbody tr th {\n",
       "        vertical-align: top;\n",
       "    }\n",
       "\n",
       "    .dataframe thead th {\n",
       "        text-align: right;\n",
       "    }\n",
       "</style>\n",
       "<table border=\"1\" class=\"dataframe\">\n",
       "  <thead>\n",
       "    <tr style=\"text-align: right;\">\n",
       "      <th></th>\n",
       "      <th>Channel</th>\n",
       "      <th>Region</th>\n",
       "      <th>Fresh</th>\n",
       "      <th>Milk</th>\n",
       "      <th>Grocery</th>\n",
       "      <th>Frozen</th>\n",
       "      <th>Detergents_Paper</th>\n",
       "      <th>Delicassen</th>\n",
       "    </tr>\n",
       "  </thead>\n",
       "  <tbody>\n",
       "    <tr>\n",
       "      <th>0</th>\n",
       "      <td>2</td>\n",
       "      <td>3</td>\n",
       "      <td>12669</td>\n",
       "      <td>9656</td>\n",
       "      <td>7561</td>\n",
       "      <td>214</td>\n",
       "      <td>2674</td>\n",
       "      <td>1338</td>\n",
       "    </tr>\n",
       "    <tr>\n",
       "      <th>1</th>\n",
       "      <td>2</td>\n",
       "      <td>3</td>\n",
       "      <td>7057</td>\n",
       "      <td>9810</td>\n",
       "      <td>9568</td>\n",
       "      <td>1762</td>\n",
       "      <td>3293</td>\n",
       "      <td>1776</td>\n",
       "    </tr>\n",
       "    <tr>\n",
       "      <th>2</th>\n",
       "      <td>2</td>\n",
       "      <td>3</td>\n",
       "      <td>6353</td>\n",
       "      <td>8808</td>\n",
       "      <td>7684</td>\n",
       "      <td>2405</td>\n",
       "      <td>3516</td>\n",
       "      <td>7844</td>\n",
       "    </tr>\n",
       "    <tr>\n",
       "      <th>3</th>\n",
       "      <td>1</td>\n",
       "      <td>3</td>\n",
       "      <td>13265</td>\n",
       "      <td>1196</td>\n",
       "      <td>4221</td>\n",
       "      <td>6404</td>\n",
       "      <td>507</td>\n",
       "      <td>1788</td>\n",
       "    </tr>\n",
       "    <tr>\n",
       "      <th>4</th>\n",
       "      <td>2</td>\n",
       "      <td>3</td>\n",
       "      <td>22615</td>\n",
       "      <td>5410</td>\n",
       "      <td>7198</td>\n",
       "      <td>3915</td>\n",
       "      <td>1777</td>\n",
       "      <td>5185</td>\n",
       "    </tr>\n",
       "    <tr>\n",
       "      <th>...</th>\n",
       "      <td>...</td>\n",
       "      <td>...</td>\n",
       "      <td>...</td>\n",
       "      <td>...</td>\n",
       "      <td>...</td>\n",
       "      <td>...</td>\n",
       "      <td>...</td>\n",
       "      <td>...</td>\n",
       "    </tr>\n",
       "    <tr>\n",
       "      <th>435</th>\n",
       "      <td>1</td>\n",
       "      <td>3</td>\n",
       "      <td>29703</td>\n",
       "      <td>12051</td>\n",
       "      <td>16027</td>\n",
       "      <td>13135</td>\n",
       "      <td>182</td>\n",
       "      <td>2204</td>\n",
       "    </tr>\n",
       "    <tr>\n",
       "      <th>436</th>\n",
       "      <td>1</td>\n",
       "      <td>3</td>\n",
       "      <td>39228</td>\n",
       "      <td>1431</td>\n",
       "      <td>764</td>\n",
       "      <td>4510</td>\n",
       "      <td>93</td>\n",
       "      <td>2346</td>\n",
       "    </tr>\n",
       "    <tr>\n",
       "      <th>437</th>\n",
       "      <td>2</td>\n",
       "      <td>3</td>\n",
       "      <td>14531</td>\n",
       "      <td>15488</td>\n",
       "      <td>30243</td>\n",
       "      <td>437</td>\n",
       "      <td>14841</td>\n",
       "      <td>1867</td>\n",
       "    </tr>\n",
       "    <tr>\n",
       "      <th>438</th>\n",
       "      <td>1</td>\n",
       "      <td>3</td>\n",
       "      <td>10290</td>\n",
       "      <td>1981</td>\n",
       "      <td>2232</td>\n",
       "      <td>1038</td>\n",
       "      <td>168</td>\n",
       "      <td>2125</td>\n",
       "    </tr>\n",
       "    <tr>\n",
       "      <th>439</th>\n",
       "      <td>1</td>\n",
       "      <td>3</td>\n",
       "      <td>2787</td>\n",
       "      <td>1698</td>\n",
       "      <td>2510</td>\n",
       "      <td>65</td>\n",
       "      <td>477</td>\n",
       "      <td>52</td>\n",
       "    </tr>\n",
       "  </tbody>\n",
       "</table>\n",
       "<p>440 rows × 8 columns</p>\n",
       "</div>"
      ],
      "text/plain": [
       "     Channel  Region  Fresh   Milk  Grocery  Frozen  Detergents_Paper  \\\n",
       "0          2       3  12669   9656     7561     214              2674   \n",
       "1          2       3   7057   9810     9568    1762              3293   \n",
       "2          2       3   6353   8808     7684    2405              3516   \n",
       "3          1       3  13265   1196     4221    6404               507   \n",
       "4          2       3  22615   5410     7198    3915              1777   \n",
       "..       ...     ...    ...    ...      ...     ...               ...   \n",
       "435        1       3  29703  12051    16027   13135               182   \n",
       "436        1       3  39228   1431      764    4510                93   \n",
       "437        2       3  14531  15488    30243     437             14841   \n",
       "438        1       3  10290   1981     2232    1038               168   \n",
       "439        1       3   2787   1698     2510      65               477   \n",
       "\n",
       "     Delicassen  \n",
       "0          1338  \n",
       "1          1776  \n",
       "2          7844  \n",
       "3          1788  \n",
       "4          5185  \n",
       "..          ...  \n",
       "435        2204  \n",
       "436        2346  \n",
       "437        1867  \n",
       "438        2125  \n",
       "439          52  \n",
       "\n",
       "[440 rows x 8 columns]"
      ]
     },
     "execution_count": 212,
     "metadata": {},
     "output_type": "execute_result"
    }
   ],
   "source": [
    "import pandas as pd\n",
    "\n",
    "df = pd.read_csv('Wholesale_customers_data.csv')\n",
    "df"
   ]
  },
  {
   "cell_type": "code",
   "execution_count": 213,
   "metadata": {},
   "outputs": [
    {
     "name": "stdout",
     "output_type": "stream",
     "text": [
      "Number of elements 440\n",
      "First element: (12669, 9656, 7561, 214, 2674, 1338)\n",
      "Second element: (7057, 9810, 9568, 1762, 3293, 1776)\n"
     ]
    }
   ],
   "source": [
    "def get_data():\n",
    "    \"\"\"function drops not necessary columns, converts dataframe into the tuple, \n",
    "    and returns tuple itself.\"\"\"\n",
    "    \n",
    "    data = df.drop(df.columns[[0, 1]], axis=1)\n",
    "    data = [tuple(x) for x in data.values]\n",
    "    return data\n",
    "\n",
    "print('Number of elements', len(get_data()))\n",
    "print('First element:', get_data()[0])\n",
    "print('Second element:', get_data()[1])"
   ]
  },
  {
   "cell_type": "markdown",
   "metadata": {},
   "source": [
    "## Q6 (2 points as bonus) - very difficult, solve it only if you solved Q3,4,5 \n",
    "### Function to implement k-means algorithm\n",
    "\n",
    "Write a function called `kmeans` that clusters a collection of points into k clusters using a simplified version of the k-means algorithm. The function should take two arguments: \n",
    "\n",
    "1. `points` – a list of n-dimensional points, and\n",
    "2. `k` – an integer that defines the number of desired clusters. \n",
    "\n",
    "The function should return two things: \n",
    "\n",
    "1. A clustering – a list of `k` clusters, each of which is a list of points (each of which is a list of coordinates)\n",
    "2. A list of the centroids for each of the `k` clusters. Each centroid is essentially a point, so it should be presented as a list of coordinates.\n",
    "\n",
    "Write your code around the detailed comments and the helping code below.\n",
    "\n",
    "Test your function on the data from Q5 for k = 3. For each of the three clusters, print the number of customers assigned to it and the cordinates of its centroid.\n"
   ]
  },
  {
   "cell_type": "code",
   "execution_count": 214,
   "metadata": {},
   "outputs": [],
   "source": [
    "import random\n",
    "\n",
    "def kmeans(points, k):\n",
    "    '''add docstring'''\n",
    "    # Select k random points to use as initial centroids\n",
    "    init_points = random.sample(points, k)\n",
    "\n",
    "    # Create a list of k lists to contain the points assigned to each cluster.  \n",
    "    \n",
    "    \n",
    "    # Create a list to keep the centroids of the k clusters. \n",
    "    # For now, this list will contain the points from init.\n",
    "    \n",
    "\n",
    "        # You now need to assign each point to the cluster with the closest centroid. \n",
    "        # Use the get_distance function you wrote in Q3 for this.\n",
    "\n",
    "        \n",
    "\n",
    "        # You should then update the variable \"clusters\" to be \n",
    "        # the new clustering and update the variable \"centroids\" \n",
    "        # to contain the centroids of the clusters in this new clustering.\n",
    "        # Use the function you wrote in Q4 to estimate the centroids.\n",
    "\n",
    "       \n",
    "    # Repeat the process described above for 100 iterations. \n",
    "    # The idea is that each new repetition refines the clustering \n",
    "    # because it starts from the centroids of the previous clustering. \n",
    "    # If we repeat the process long enough, the assignment to \n",
    "    # clusters and the centroids will become stable."
   ]
  }
 ],
 "metadata": {
  "kernelspec": {
   "display_name": "Python 3",
   "language": "python",
   "name": "python3"
  },
  "language_info": {
   "codemirror_mode": {
    "name": "ipython",
    "version": 3
   },
   "file_extension": ".py",
   "mimetype": "text/x-python",
   "name": "python",
   "nbconvert_exporter": "python",
   "pygments_lexer": "ipython3",
   "version": "3.8.3"
  }
 },
 "nbformat": 4,
 "nbformat_minor": 4
}
