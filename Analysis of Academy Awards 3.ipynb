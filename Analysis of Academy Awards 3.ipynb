{
 "cells": [
  {
   "cell_type": "markdown",
   "metadata": {},
   "source": [
    "# Analysis of Academy Awards"
   ]
  },
  {
   "cell_type": "markdown",
   "metadata": {},
   "source": [
    "### Content\n",
    "+ Introduction: Academy Awards\n",
    "+ Data description and objectives\n",
    "+ Data preparation and validation\n",
    "+ Data analysis and visualization \n",
    "+ Conclusion"
   ]
  },
  {
   "cell_type": "markdown",
   "metadata": {},
   "source": [
    "![title](selfie.jpg)"
   ]
  },
  {
   "cell_type": "markdown",
   "metadata": {},
   "source": [
    "## 1. Introduction: Academy Awards"
   ]
  },
  {
   "cell_type": "markdown",
   "metadata": {},
   "source": [
    "Academy Award, in full Academy Award of Merit, by name Oscar, any of a number of awards presented annually by the Academy of Motion Picture Arts and Sciences, located in Beverly Hills, California, U.S., to recognize achievement in the film industry. The awards were first presented in 1929, and winners receive a gold-plated statuette commonly called Oscar.\n",
    "\n",
    "Winners are chosen from the following 24 categories: best picture, actor, actress, supporting actor, supporting actress, directing, original screenplay, adapted screenplay, cinematography, production design, editing, original score, original song, costume design, makeup and hairstyling, sound mixing, sound editing, visual effects, foreign-language film, animated feature film, animated short, live-action short, documentary feature, and documentary short. The academy also presents scientific and technical awards, special achievement awards, honorary awards, the Jean Hersholt Humanitarian Award, the Irving G. Thalberg Memorial Award (for excellence in producing), and the Gordon E. Sawyer Award (for technological contributions), although these are not necessarily awarded annually. \n",
    "\n",
    "Only members of the Academy of Motion Picture Arts and Sciences may nominate and vote for candidates for the Oscars. The academy is divided into various branches of film production, and the nominees in each award category are chosen by the members of the corresponding branch; thus, writers nominate writers, directors nominate directors, and so forth. The entire academy membership nominates the candidates for best picture and votes to determine the winners in most of the categories."
   ]
  },
  {
   "cell_type": "markdown",
   "metadata": {},
   "source": [
    "#### Interesting Fact \n",
    "The origins of the statuette’s nickname, Oscar, have been traced to three sources. Actress Bette Davis claimed that the name derived from her observation that the backside of the statuette looked like that of her husband Harmon Oscar Nelson. Columnist Sidney Skolsky maintained that he gave the award its nickname to negate pretension. The name has also been attributed to academy librarian Margaret Herrick, who declared that the statuette looked like her Uncle Oscar. The true origin of the nickname has never been determined."
   ]
  },
  {
   "cell_type": "markdown",
   "metadata": {},
   "source": [
    "Source (https://www.britannica.com/art/Academy-Award)"
   ]
  },
  {
   "cell_type": "markdown",
   "metadata": {},
   "source": [
    "## 2. Data description and objectives"
   ]
  },
  {
   "cell_type": "markdown",
   "metadata": {},
   "source": [
    "\"And the Oscar goes too...\". The phrase that makes millions of fans eagerly await the award ceremony. Families all over the world gather to watch how their favorite actors and directors are being awarded. However, not many people know what happens on the other side of the screen. How and where those films were shot? What are the budget and revenue? How do movie trends change and where were they produced? The aim of this project is to give an answer to these kinds of questions.\n",
    "\n",
    "This project contains official records of past Oscar winners and nominees between 1927 and 2020.  Data is selectively taken from multiple data sources. Here is the list of variable used for this analysis:\n",
    "+ Film Year - year of filming\n",
    "+ Ceremony Year - year of ceremony\n",
    "+ Category - nominees\n",
    "+ Name - participant's name\n",
    "+ Film - title of film\n",
    "+ Birth Place - place of birth\n",
    "+ Race Ethnicity - racial identity\n",
    "+ Religion - participant religion\n",
    "+ Budget - allocated budget\n",
    "+ Revenue - revenue of the film\n",
    "+ Genre - genre of the film\n",
    "+ Production Company - company that was engaged in production\n",
    "+ Production Country - release country\n",
    "+ Release Date - date of release\n",
    "+ Runtime - duration of the film\n",
    "+ Original Language - original language of the film\n",
    "\n",
    "\n",
    "\n",
    "The project is divided into five parts of data analysis and visualization:\n",
    "1. Analyze the best and the worst performances \n",
    "2. Analyze the production of films\n",
    "3. Analyze directors and actors/actresses\n",
    "4. Analyze the changes in nominations\n",
    "5. Analyze the trendings of genres"
   ]
  },
  {
   "cell_type": "markdown",
   "metadata": {},
   "source": [
    "## 3. Data preparation and validation"
   ]
  },
  {
   "cell_type": "markdown",
   "metadata": {},
   "source": [
    "### 3.1. Data acquisiton: Getting datasets"
   ]
  },
  {
   "cell_type": "markdown",
   "metadata": {},
   "source": [
    "Let's start! In this data analysis, we will be using three different datasets. \n",
    "+ Main - is the one that interacts and joins with two others. It contains information about the Oscars itself (ceremony, category, participants, films, and winners). The key difference of this table is that all columns of it will be used for analysis, which basically means that all tables will be joined with it. \n",
    "+ Personal - contains personal info about directors and actors/actresses such as birthdate, birthplace, religion, ethnicity and etc. \n",
    "+ Detailed - as it's title suggests, this table incorporates data about movie budget and revenue, genre, production country and company and etc.\n",
    "\n",
    "Our data acquisiton starts with importing modules and reading .csv files"
   ]
  },
  {
   "cell_type": "code",
   "execution_count": 1,
   "metadata": {},
   "outputs": [],
   "source": [
    "# import all modules that will be used\n",
    "import numpy as np\n",
    "import pandas as pd\n",
    "from matplotlib import pyplot as plt\n",
    "from collections import Counter\n",
    "\n",
    "\n",
    "# read needed csv files\n",
    "main = pd.read_csv(\"the_oscar_award.csv\", encoding = \"latin\") \n",
    "personal = pd.read_csv(\"demographics.csv\", encoding = \"latin\")\n",
    "detailed = pd.read_csv(\"detailed.csv\", encoding = \"latin\", sep=\";\", engine=\"python\", parse_dates=[\"release_date\"]) "
   ]
  },
  {
   "cell_type": "markdown",
   "metadata": {},
   "source": [
    " &#8593; As you can see there were some difficulties with reading \"detailed.csv\" file, so I fixed it using more detailed functionality. \n",
    " \n",
    " &#8595; Let's take a look at original tables. Pay attention at initial shape."
   ]
  },
  {
   "cell_type": "code",
   "execution_count": 2,
   "metadata": {},
   "outputs": [
    {
     "data": {
      "text/html": [
       "<div>\n",
       "<style scoped>\n",
       "    .dataframe tbody tr th:only-of-type {\n",
       "        vertical-align: middle;\n",
       "    }\n",
       "\n",
       "    .dataframe tbody tr th {\n",
       "        vertical-align: top;\n",
       "    }\n",
       "\n",
       "    .dataframe thead th {\n",
       "        text-align: right;\n",
       "    }\n",
       "</style>\n",
       "<table border=\"1\" class=\"dataframe\">\n",
       "  <thead>\n",
       "    <tr style=\"text-align: right;\">\n",
       "      <th></th>\n",
       "      <th>year_film</th>\n",
       "      <th>year_ceremony</th>\n",
       "      <th>ceremony</th>\n",
       "      <th>category</th>\n",
       "      <th>name</th>\n",
       "      <th>film</th>\n",
       "      <th>winner</th>\n",
       "    </tr>\n",
       "  </thead>\n",
       "  <tbody>\n",
       "    <tr>\n",
       "      <th>0</th>\n",
       "      <td>1927</td>\n",
       "      <td>1928</td>\n",
       "      <td>1</td>\n",
       "      <td>ACTOR</td>\n",
       "      <td>Richard Barthelmess</td>\n",
       "      <td>The Noose</td>\n",
       "      <td>False</td>\n",
       "    </tr>\n",
       "    <tr>\n",
       "      <th>1</th>\n",
       "      <td>1927</td>\n",
       "      <td>1928</td>\n",
       "      <td>1</td>\n",
       "      <td>ACTOR</td>\n",
       "      <td>Emil Jannings</td>\n",
       "      <td>The Last Command</td>\n",
       "      <td>True</td>\n",
       "    </tr>\n",
       "    <tr>\n",
       "      <th>2</th>\n",
       "      <td>1927</td>\n",
       "      <td>1928</td>\n",
       "      <td>1</td>\n",
       "      <td>ACTRESS</td>\n",
       "      <td>Louise Dresser</td>\n",
       "      <td>A Ship Comes In</td>\n",
       "      <td>False</td>\n",
       "    </tr>\n",
       "    <tr>\n",
       "      <th>3</th>\n",
       "      <td>1927</td>\n",
       "      <td>1928</td>\n",
       "      <td>1</td>\n",
       "      <td>ACTRESS</td>\n",
       "      <td>Janet Gaynor</td>\n",
       "      <td>7th Heaven</td>\n",
       "      <td>True</td>\n",
       "    </tr>\n",
       "    <tr>\n",
       "      <th>4</th>\n",
       "      <td>1927</td>\n",
       "      <td>1928</td>\n",
       "      <td>1</td>\n",
       "      <td>ACTRESS</td>\n",
       "      <td>Gloria Swanson</td>\n",
       "      <td>Sadie Thompson</td>\n",
       "      <td>False</td>\n",
       "    </tr>\n",
       "    <tr>\n",
       "      <th>...</th>\n",
       "      <td>...</td>\n",
       "      <td>...</td>\n",
       "      <td>...</td>\n",
       "      <td>...</td>\n",
       "      <td>...</td>\n",
       "      <td>...</td>\n",
       "      <td>...</td>\n",
       "    </tr>\n",
       "    <tr>\n",
       "      <th>10390</th>\n",
       "      <td>2019</td>\n",
       "      <td>2020</td>\n",
       "      <td>92</td>\n",
       "      <td>WRITING (Original Screenplay)</td>\n",
       "      <td>Screenplay by Bong Joon Ho, Han Jin Won; Story...</td>\n",
       "      <td>Parasite</td>\n",
       "      <td>True</td>\n",
       "    </tr>\n",
       "    <tr>\n",
       "      <th>10391</th>\n",
       "      <td>2019</td>\n",
       "      <td>2020</td>\n",
       "      <td>92</td>\n",
       "      <td>JEAN HERSHOLT HUMANITARIAN AWARD</td>\n",
       "      <td>Geena Davis</td>\n",
       "      <td>NaN</td>\n",
       "      <td>True</td>\n",
       "    </tr>\n",
       "    <tr>\n",
       "      <th>10392</th>\n",
       "      <td>2019</td>\n",
       "      <td>2020</td>\n",
       "      <td>92</td>\n",
       "      <td>HONORARY AWARD</td>\n",
       "      <td>David Lynch</td>\n",
       "      <td>NaN</td>\n",
       "      <td>True</td>\n",
       "    </tr>\n",
       "    <tr>\n",
       "      <th>10393</th>\n",
       "      <td>2019</td>\n",
       "      <td>2020</td>\n",
       "      <td>92</td>\n",
       "      <td>HONORARY AWARD</td>\n",
       "      <td>Wes Studi</td>\n",
       "      <td>NaN</td>\n",
       "      <td>True</td>\n",
       "    </tr>\n",
       "    <tr>\n",
       "      <th>10394</th>\n",
       "      <td>2019</td>\n",
       "      <td>2020</td>\n",
       "      <td>92</td>\n",
       "      <td>HONORARY AWARD</td>\n",
       "      <td>Lina WertmÃ¼ller</td>\n",
       "      <td>NaN</td>\n",
       "      <td>True</td>\n",
       "    </tr>\n",
       "  </tbody>\n",
       "</table>\n",
       "<p>10395 rows × 7 columns</p>\n",
       "</div>"
      ],
      "text/plain": [
       "       year_film  year_ceremony  ceremony                          category  \\\n",
       "0           1927           1928         1                             ACTOR   \n",
       "1           1927           1928         1                             ACTOR   \n",
       "2           1927           1928         1                           ACTRESS   \n",
       "3           1927           1928         1                           ACTRESS   \n",
       "4           1927           1928         1                           ACTRESS   \n",
       "...          ...            ...       ...                               ...   \n",
       "10390       2019           2020        92     WRITING (Original Screenplay)   \n",
       "10391       2019           2020        92  JEAN HERSHOLT HUMANITARIAN AWARD   \n",
       "10392       2019           2020        92                    HONORARY AWARD   \n",
       "10393       2019           2020        92                    HONORARY AWARD   \n",
       "10394       2019           2020        92                    HONORARY AWARD   \n",
       "\n",
       "                                                    name              film  \\\n",
       "0                                    Richard Barthelmess         The Noose   \n",
       "1                                          Emil Jannings  The Last Command   \n",
       "2                                         Louise Dresser   A Ship Comes In   \n",
       "3                                           Janet Gaynor        7th Heaven   \n",
       "4                                         Gloria Swanson    Sadie Thompson   \n",
       "...                                                  ...               ...   \n",
       "10390  Screenplay by Bong Joon Ho, Han Jin Won; Story...          Parasite   \n",
       "10391                                        Geena Davis               NaN   \n",
       "10392                                        David Lynch               NaN   \n",
       "10393                                          Wes Studi               NaN   \n",
       "10394                                   Lina WertmÃ¼ller               NaN   \n",
       "\n",
       "       winner  \n",
       "0       False  \n",
       "1        True  \n",
       "2       False  \n",
       "3        True  \n",
       "4       False  \n",
       "...       ...  \n",
       "10390    True  \n",
       "10391    True  \n",
       "10392    True  \n",
       "10393    True  \n",
       "10394    True  \n",
       "\n",
       "[10395 rows x 7 columns]"
      ]
     },
     "execution_count": 2,
     "metadata": {},
     "output_type": "execute_result"
    }
   ],
   "source": [
    "main"
   ]
  },
  {
   "cell_type": "code",
   "execution_count": 3,
   "metadata": {},
   "outputs": [
    {
     "data": {
      "text/html": [
       "<div>\n",
       "<style scoped>\n",
       "    .dataframe tbody tr th:only-of-type {\n",
       "        vertical-align: middle;\n",
       "    }\n",
       "\n",
       "    .dataframe tbody tr th {\n",
       "        vertical-align: top;\n",
       "    }\n",
       "\n",
       "    .dataframe thead th {\n",
       "        text-align: right;\n",
       "    }\n",
       "</style>\n",
       "<table border=\"1\" class=\"dataframe\">\n",
       "  <thead>\n",
       "    <tr style=\"text-align: right;\">\n",
       "      <th></th>\n",
       "      <th>_unit_id</th>\n",
       "      <th>_golden</th>\n",
       "      <th>_unit_state</th>\n",
       "      <th>_trusted_judgments</th>\n",
       "      <th>_last_judgment_at</th>\n",
       "      <th>birthplace</th>\n",
       "      <th>birthplace:confidence</th>\n",
       "      <th>date_of_birth</th>\n",
       "      <th>date_of_birth:confidence</th>\n",
       "      <th>race_ethnicity</th>\n",
       "      <th>...</th>\n",
       "      <th>award</th>\n",
       "      <th>biourl</th>\n",
       "      <th>birthplace_gold</th>\n",
       "      <th>date_of_birth_gold</th>\n",
       "      <th>movie</th>\n",
       "      <th>person</th>\n",
       "      <th>race_ethnicity_gold</th>\n",
       "      <th>religion_gold</th>\n",
       "      <th>sexual_orientation_gold</th>\n",
       "      <th>year_of_award_gold</th>\n",
       "    </tr>\n",
       "  </thead>\n",
       "  <tbody>\n",
       "    <tr>\n",
       "      <th>0</th>\n",
       "      <td>670454353</td>\n",
       "      <td>False</td>\n",
       "      <td>finalized</td>\n",
       "      <td>3</td>\n",
       "      <td>2/10/15 3:45</td>\n",
       "      <td>Chisinau, Moldova</td>\n",
       "      <td>1.0</td>\n",
       "      <td>30-Sep-1895</td>\n",
       "      <td>1.0</td>\n",
       "      <td>White</td>\n",
       "      <td>...</td>\n",
       "      <td>Best Director</td>\n",
       "      <td>http://www.nndb.com/people/320/000043191/</td>\n",
       "      <td>NaN</td>\n",
       "      <td>NaN</td>\n",
       "      <td>Two Arabian Knights</td>\n",
       "      <td>Lewis Milestone</td>\n",
       "      <td>NaN</td>\n",
       "      <td>NaN</td>\n",
       "      <td>NaN</td>\n",
       "      <td>NaN</td>\n",
       "    </tr>\n",
       "    <tr>\n",
       "      <th>1</th>\n",
       "      <td>670454354</td>\n",
       "      <td>False</td>\n",
       "      <td>finalized</td>\n",
       "      <td>3</td>\n",
       "      <td>2/10/15 2:03</td>\n",
       "      <td>Glasgow, Scotland</td>\n",
       "      <td>1.0</td>\n",
       "      <td>2-Feb-1886</td>\n",
       "      <td>1.0</td>\n",
       "      <td>White</td>\n",
       "      <td>...</td>\n",
       "      <td>Best Director</td>\n",
       "      <td>http://www.nndb.com/people/626/000042500/</td>\n",
       "      <td>NaN</td>\n",
       "      <td>NaN</td>\n",
       "      <td>The Divine Lady</td>\n",
       "      <td>Frank Lloyd</td>\n",
       "      <td>NaN</td>\n",
       "      <td>NaN</td>\n",
       "      <td>NaN</td>\n",
       "      <td>NaN</td>\n",
       "    </tr>\n",
       "    <tr>\n",
       "      <th>2</th>\n",
       "      <td>670454355</td>\n",
       "      <td>False</td>\n",
       "      <td>finalized</td>\n",
       "      <td>3</td>\n",
       "      <td>2/10/15 2:05</td>\n",
       "      <td>Chisinau, Moldova</td>\n",
       "      <td>1.0</td>\n",
       "      <td>30-Sep-1895</td>\n",
       "      <td>1.0</td>\n",
       "      <td>White</td>\n",
       "      <td>...</td>\n",
       "      <td>Best Director</td>\n",
       "      <td>http://www.nndb.com/people/320/000043191/</td>\n",
       "      <td>NaN</td>\n",
       "      <td>NaN</td>\n",
       "      <td>All Quiet on the Western Front</td>\n",
       "      <td>Lewis Milestone</td>\n",
       "      <td>NaN</td>\n",
       "      <td>NaN</td>\n",
       "      <td>NaN</td>\n",
       "      <td>NaN</td>\n",
       "    </tr>\n",
       "    <tr>\n",
       "      <th>3</th>\n",
       "      <td>670454356</td>\n",
       "      <td>False</td>\n",
       "      <td>finalized</td>\n",
       "      <td>3</td>\n",
       "      <td>2/10/15 2:04</td>\n",
       "      <td>Chicago, Il</td>\n",
       "      <td>1.0</td>\n",
       "      <td>23-Feb-1899</td>\n",
       "      <td>1.0</td>\n",
       "      <td>White</td>\n",
       "      <td>...</td>\n",
       "      <td>Best Director</td>\n",
       "      <td>http://www.nndb.com/people/544/000041421/</td>\n",
       "      <td>NaN</td>\n",
       "      <td>NaN</td>\n",
       "      <td>Skippy</td>\n",
       "      <td>Norman Taurog</td>\n",
       "      <td>NaN</td>\n",
       "      <td>NaN</td>\n",
       "      <td>NaN</td>\n",
       "      <td>NaN</td>\n",
       "    </tr>\n",
       "    <tr>\n",
       "      <th>4</th>\n",
       "      <td>670454357</td>\n",
       "      <td>False</td>\n",
       "      <td>finalized</td>\n",
       "      <td>3</td>\n",
       "      <td>2/10/15 1:48</td>\n",
       "      <td>Salt Lake City, Ut</td>\n",
       "      <td>1.0</td>\n",
       "      <td>23-Apr-1894</td>\n",
       "      <td>1.0</td>\n",
       "      <td>White</td>\n",
       "      <td>...</td>\n",
       "      <td>Best Director</td>\n",
       "      <td>http://www.nndb.com/people/292/000044160/</td>\n",
       "      <td>NaN</td>\n",
       "      <td>NaN</td>\n",
       "      <td>Bad Girl</td>\n",
       "      <td>Frank Borzage</td>\n",
       "      <td>NaN</td>\n",
       "      <td>NaN</td>\n",
       "      <td>NaN</td>\n",
       "      <td>NaN</td>\n",
       "    </tr>\n",
       "    <tr>\n",
       "      <th>...</th>\n",
       "      <td>...</td>\n",
       "      <td>...</td>\n",
       "      <td>...</td>\n",
       "      <td>...</td>\n",
       "      <td>...</td>\n",
       "      <td>...</td>\n",
       "      <td>...</td>\n",
       "      <td>...</td>\n",
       "      <td>...</td>\n",
       "      <td>...</td>\n",
       "      <td>...</td>\n",
       "      <td>...</td>\n",
       "      <td>...</td>\n",
       "      <td>...</td>\n",
       "      <td>...</td>\n",
       "      <td>...</td>\n",
       "      <td>...</td>\n",
       "      <td>...</td>\n",
       "      <td>...</td>\n",
       "      <td>...</td>\n",
       "      <td>...</td>\n",
       "    </tr>\n",
       "    <tr>\n",
       "      <th>436</th>\n",
       "      <td>670946276</td>\n",
       "      <td>False</td>\n",
       "      <td>finalized</td>\n",
       "      <td>3</td>\n",
       "      <td>2/10/15 2:00</td>\n",
       "      <td>London, England</td>\n",
       "      <td>1.0</td>\n",
       "      <td>7-Mar-71</td>\n",
       "      <td>1.0</td>\n",
       "      <td>White</td>\n",
       "      <td>...</td>\n",
       "      <td>Best Supporting Actress</td>\n",
       "      <td>http://www.nndb.com/people/309/000032213/</td>\n",
       "      <td>NaN</td>\n",
       "      <td>NaN</td>\n",
       "      <td>The Constant Gardener</td>\n",
       "      <td>Rachel Weisz</td>\n",
       "      <td>NaN</td>\n",
       "      <td>NaN</td>\n",
       "      <td>NaN</td>\n",
       "      <td>NaN</td>\n",
       "    </tr>\n",
       "    <tr>\n",
       "      <th>437</th>\n",
       "      <td>670946299</td>\n",
       "      <td>False</td>\n",
       "      <td>finalized</td>\n",
       "      <td>3</td>\n",
       "      <td>2/10/15 2:04</td>\n",
       "      <td>Manchester, England</td>\n",
       "      <td>1.0</td>\n",
       "      <td>20-Oct-56</td>\n",
       "      <td>1.0</td>\n",
       "      <td>White</td>\n",
       "      <td>...</td>\n",
       "      <td>Best Director</td>\n",
       "      <td>http://www.nndb.com/people/887/000044755/</td>\n",
       "      <td>NaN</td>\n",
       "      <td>NaN</td>\n",
       "      <td>Slumdog Millionaire</td>\n",
       "      <td>Danny Boyle</td>\n",
       "      <td>NaN</td>\n",
       "      <td>NaN</td>\n",
       "      <td>NaN</td>\n",
       "      <td>NaN</td>\n",
       "    </tr>\n",
       "    <tr>\n",
       "      <th>438</th>\n",
       "      <td>670964912</td>\n",
       "      <td>False</td>\n",
       "      <td>finalized</td>\n",
       "      <td>3</td>\n",
       "      <td>2/10/15 2:03</td>\n",
       "      <td>Chicago, Il</td>\n",
       "      <td>1.0</td>\n",
       "      <td>26-Jul-22</td>\n",
       "      <td>1.0</td>\n",
       "      <td>White</td>\n",
       "      <td>...</td>\n",
       "      <td>Best Supporting Actor</td>\n",
       "      <td>http://www.nndb.com/people/224/000032128/</td>\n",
       "      <td>NaN</td>\n",
       "      <td>NaN</td>\n",
       "      <td>All the President's Men</td>\n",
       "      <td>Jason Robards</td>\n",
       "      <td>NaN</td>\n",
       "      <td>NaN</td>\n",
       "      <td>NaN</td>\n",
       "      <td>NaN</td>\n",
       "    </tr>\n",
       "    <tr>\n",
       "      <th>439</th>\n",
       "      <td>670964956</td>\n",
       "      <td>False</td>\n",
       "      <td>finalized</td>\n",
       "      <td>3</td>\n",
       "      <td>2/10/15 2:01</td>\n",
       "      <td>Laurel, Ne</td>\n",
       "      <td>1.0</td>\n",
       "      <td>31-Aug-28</td>\n",
       "      <td>1.0</td>\n",
       "      <td>White</td>\n",
       "      <td>...</td>\n",
       "      <td>Best Supporting Actor</td>\n",
       "      <td>http://www.nndb.com/people/764/000022698/</td>\n",
       "      <td>NaN</td>\n",
       "      <td>NaN</td>\n",
       "      <td>Affliction</td>\n",
       "      <td>James Coburn</td>\n",
       "      <td>NaN</td>\n",
       "      <td>NaN</td>\n",
       "      <td>NaN</td>\n",
       "      <td>NaN</td>\n",
       "    </tr>\n",
       "    <tr>\n",
       "      <th>440</th>\n",
       "      <td>670972898</td>\n",
       "      <td>False</td>\n",
       "      <td>finalized</td>\n",
       "      <td>3</td>\n",
       "      <td>2/10/15 2:01</td>\n",
       "      <td>Nevada, Mo</td>\n",
       "      <td>1.0</td>\n",
       "      <td>5-Aug-06</td>\n",
       "      <td>1.0</td>\n",
       "      <td>White</td>\n",
       "      <td>...</td>\n",
       "      <td>Best Director</td>\n",
       "      <td>http://www.nndb.com/people/704/000024632/</td>\n",
       "      <td>NaN</td>\n",
       "      <td>NaN</td>\n",
       "      <td>The Treasure of the Sierra Madre</td>\n",
       "      <td>John Huston</td>\n",
       "      <td>NaN</td>\n",
       "      <td>NaN</td>\n",
       "      <td>NaN</td>\n",
       "      <td>NaN</td>\n",
       "    </tr>\n",
       "  </tbody>\n",
       "</table>\n",
       "<p>441 rows × 27 columns</p>\n",
       "</div>"
      ],
      "text/plain": [
       "      _unit_id  _golden _unit_state  _trusted_judgments _last_judgment_at  \\\n",
       "0    670454353    False   finalized                   3      2/10/15 3:45   \n",
       "1    670454354    False   finalized                   3      2/10/15 2:03   \n",
       "2    670454355    False   finalized                   3      2/10/15 2:05   \n",
       "3    670454356    False   finalized                   3      2/10/15 2:04   \n",
       "4    670454357    False   finalized                   3      2/10/15 1:48   \n",
       "..         ...      ...         ...                 ...               ...   \n",
       "436  670946276    False   finalized                   3      2/10/15 2:00   \n",
       "437  670946299    False   finalized                   3      2/10/15 2:04   \n",
       "438  670964912    False   finalized                   3      2/10/15 2:03   \n",
       "439  670964956    False   finalized                   3      2/10/15 2:01   \n",
       "440  670972898    False   finalized                   3      2/10/15 2:01   \n",
       "\n",
       "              birthplace  birthplace:confidence date_of_birth  \\\n",
       "0      Chisinau, Moldova                    1.0   30-Sep-1895   \n",
       "1      Glasgow, Scotland                    1.0    2-Feb-1886   \n",
       "2      Chisinau, Moldova                    1.0   30-Sep-1895   \n",
       "3            Chicago, Il                    1.0   23-Feb-1899   \n",
       "4     Salt Lake City, Ut                    1.0   23-Apr-1894   \n",
       "..                   ...                    ...           ...   \n",
       "436      London, England                    1.0      7-Mar-71   \n",
       "437  Manchester, England                    1.0     20-Oct-56   \n",
       "438          Chicago, Il                    1.0     26-Jul-22   \n",
       "439           Laurel, Ne                    1.0     31-Aug-28   \n",
       "440           Nevada, Mo                    1.0      5-Aug-06   \n",
       "\n",
       "     date_of_birth:confidence race_ethnicity  ...                    award  \\\n",
       "0                         1.0          White  ...            Best Director   \n",
       "1                         1.0          White  ...            Best Director   \n",
       "2                         1.0          White  ...            Best Director   \n",
       "3                         1.0          White  ...            Best Director   \n",
       "4                         1.0          White  ...            Best Director   \n",
       "..                        ...            ...  ...                      ...   \n",
       "436                       1.0          White  ...  Best Supporting Actress   \n",
       "437                       1.0          White  ...            Best Director   \n",
       "438                       1.0          White  ...    Best Supporting Actor   \n",
       "439                       1.0          White  ...    Best Supporting Actor   \n",
       "440                       1.0          White  ...            Best Director   \n",
       "\n",
       "                                        biourl  birthplace_gold  \\\n",
       "0    http://www.nndb.com/people/320/000043191/              NaN   \n",
       "1    http://www.nndb.com/people/626/000042500/              NaN   \n",
       "2    http://www.nndb.com/people/320/000043191/              NaN   \n",
       "3    http://www.nndb.com/people/544/000041421/              NaN   \n",
       "4    http://www.nndb.com/people/292/000044160/              NaN   \n",
       "..                                         ...              ...   \n",
       "436  http://www.nndb.com/people/309/000032213/              NaN   \n",
       "437  http://www.nndb.com/people/887/000044755/              NaN   \n",
       "438  http://www.nndb.com/people/224/000032128/              NaN   \n",
       "439  http://www.nndb.com/people/764/000022698/              NaN   \n",
       "440  http://www.nndb.com/people/704/000024632/              NaN   \n",
       "\n",
       "    date_of_birth_gold                             movie           person  \\\n",
       "0                  NaN               Two Arabian Knights  Lewis Milestone   \n",
       "1                  NaN                   The Divine Lady      Frank Lloyd   \n",
       "2                  NaN    All Quiet on the Western Front  Lewis Milestone   \n",
       "3                  NaN                            Skippy    Norman Taurog   \n",
       "4                  NaN                          Bad Girl    Frank Borzage   \n",
       "..                 ...                               ...              ...   \n",
       "436                NaN             The Constant Gardener     Rachel Weisz   \n",
       "437                NaN               Slumdog Millionaire      Danny Boyle   \n",
       "438                NaN           All the President's Men    Jason Robards   \n",
       "439                NaN                        Affliction     James Coburn   \n",
       "440                NaN  The Treasure of the Sierra Madre      John Huston   \n",
       "\n",
       "     race_ethnicity_gold religion_gold sexual_orientation_gold  \\\n",
       "0                    NaN           NaN                     NaN   \n",
       "1                    NaN           NaN                     NaN   \n",
       "2                    NaN           NaN                     NaN   \n",
       "3                    NaN           NaN                     NaN   \n",
       "4                    NaN           NaN                     NaN   \n",
       "..                   ...           ...                     ...   \n",
       "436                  NaN           NaN                     NaN   \n",
       "437                  NaN           NaN                     NaN   \n",
       "438                  NaN           NaN                     NaN   \n",
       "439                  NaN           NaN                     NaN   \n",
       "440                  NaN           NaN                     NaN   \n",
       "\n",
       "    year_of_award_gold  \n",
       "0                  NaN  \n",
       "1                  NaN  \n",
       "2                  NaN  \n",
       "3                  NaN  \n",
       "4                  NaN  \n",
       "..                 ...  \n",
       "436                NaN  \n",
       "437                NaN  \n",
       "438                NaN  \n",
       "439                NaN  \n",
       "440                NaN  \n",
       "\n",
       "[441 rows x 27 columns]"
      ]
     },
     "execution_count": 3,
     "metadata": {},
     "output_type": "execute_result"
    }
   ],
   "source": [
    "personal"
   ]
  },
  {
   "cell_type": "code",
   "execution_count": 4,
   "metadata": {
    "scrolled": false
   },
   "outputs": [
    {
     "data": {
      "text/html": [
       "<div>\n",
       "<style scoped>\n",
       "    .dataframe tbody tr th:only-of-type {\n",
       "        vertical-align: middle;\n",
       "    }\n",
       "\n",
       "    .dataframe tbody tr th {\n",
       "        vertical-align: top;\n",
       "    }\n",
       "\n",
       "    .dataframe thead th {\n",
       "        text-align: right;\n",
       "    }\n",
       "</style>\n",
       "<table border=\"1\" class=\"dataframe\">\n",
       "  <thead>\n",
       "    <tr style=\"text-align: right;\">\n",
       "      <th></th>\n",
       "      <th>ï»¿id</th>\n",
       "      <th>budget</th>\n",
       "      <th>genres</th>\n",
       "      <th>imdb_id</th>\n",
       "      <th>original_language</th>\n",
       "      <th>original_title</th>\n",
       "      <th>overview</th>\n",
       "      <th>popularity</th>\n",
       "      <th>production_companies</th>\n",
       "      <th>production_countries</th>\n",
       "      <th>...</th>\n",
       "      <th>runtime</th>\n",
       "      <th>spoken_languages</th>\n",
       "      <th>status</th>\n",
       "      <th>tagline</th>\n",
       "      <th>title</th>\n",
       "      <th>vote_average</th>\n",
       "      <th>vote_count</th>\n",
       "      <th>production_companies_number</th>\n",
       "      <th>production_countries_number</th>\n",
       "      <th>spoken_languages_number</th>\n",
       "    </tr>\n",
       "  </thead>\n",
       "  <tbody>\n",
       "    <tr>\n",
       "      <th>0</th>\n",
       "      <td>2</td>\n",
       "      <td>0</td>\n",
       "      <td>Drama|Crime</td>\n",
       "      <td>tt0094675</td>\n",
       "      <td>fi</td>\n",
       "      <td>Ariel</td>\n",
       "      <td>Taisto Kasurinen is a Finnish coal miner whose...</td>\n",
       "      <td>0.823904</td>\n",
       "      <td>Villealfa Filmproduction Oy</td>\n",
       "      <td>Finland</td>\n",
       "      <td>...</td>\n",
       "      <td>69.0</td>\n",
       "      <td>suomi</td>\n",
       "      <td>Released</td>\n",
       "      <td>NaN</td>\n",
       "      <td>Ariel</td>\n",
       "      <td>7.1</td>\n",
       "      <td>40</td>\n",
       "      <td>2</td>\n",
       "      <td>1</td>\n",
       "      <td>2</td>\n",
       "    </tr>\n",
       "    <tr>\n",
       "      <th>1</th>\n",
       "      <td>3</td>\n",
       "      <td>0</td>\n",
       "      <td>Drama|Comedy</td>\n",
       "      <td>tt0092149</td>\n",
       "      <td>fi</td>\n",
       "      <td>Varjoja paratiisissa</td>\n",
       "      <td>An episode in the life of Nikander, a garbage ...</td>\n",
       "      <td>0.47445</td>\n",
       "      <td>Villealfa Filmproduction Oy</td>\n",
       "      <td>Finland</td>\n",
       "      <td>...</td>\n",
       "      <td>76.0</td>\n",
       "      <td>English</td>\n",
       "      <td>Released</td>\n",
       "      <td>NaN</td>\n",
       "      <td>Shadows in Paradise</td>\n",
       "      <td>7.0</td>\n",
       "      <td>32</td>\n",
       "      <td>1</td>\n",
       "      <td>1</td>\n",
       "      <td>3</td>\n",
       "    </tr>\n",
       "    <tr>\n",
       "      <th>2</th>\n",
       "      <td>5</td>\n",
       "      <td>4000000</td>\n",
       "      <td>Crime|Comedy</td>\n",
       "      <td>tt0113101</td>\n",
       "      <td>en</td>\n",
       "      <td>Four Rooms</td>\n",
       "      <td>It's Ted the Bellhop's first night on the job....</td>\n",
       "      <td>1.698</td>\n",
       "      <td>Miramax Films</td>\n",
       "      <td>United States of America</td>\n",
       "      <td>...</td>\n",
       "      <td>98.0</td>\n",
       "      <td>English</td>\n",
       "      <td>Released</td>\n",
       "      <td>Twelve outrageous guests. Four scandalous requ...</td>\n",
       "      <td>Four Rooms</td>\n",
       "      <td>6.5</td>\n",
       "      <td>485</td>\n",
       "      <td>2</td>\n",
       "      <td>1</td>\n",
       "      <td>1</td>\n",
       "    </tr>\n",
       "    <tr>\n",
       "      <th>3</th>\n",
       "      <td>6</td>\n",
       "      <td>0</td>\n",
       "      <td>Action|Thriller|Crime</td>\n",
       "      <td>tt0107286</td>\n",
       "      <td>en</td>\n",
       "      <td>Judgment Night</td>\n",
       "      <td>While racing to a boxing match, Frank, Mike, J...</td>\n",
       "      <td>1.32287</td>\n",
       "      <td>Universal Pictures</td>\n",
       "      <td>Japan</td>\n",
       "      <td>...</td>\n",
       "      <td>110.0</td>\n",
       "      <td>English</td>\n",
       "      <td>Released</td>\n",
       "      <td>Don't move. Don't whisper. Don't even breathe.</td>\n",
       "      <td>Judgment Night</td>\n",
       "      <td>6.5</td>\n",
       "      <td>69</td>\n",
       "      <td>3</td>\n",
       "      <td>2</td>\n",
       "      <td>1</td>\n",
       "    </tr>\n",
       "    <tr>\n",
       "      <th>4</th>\n",
       "      <td>8</td>\n",
       "      <td>42000</td>\n",
       "      <td>Documentary</td>\n",
       "      <td>tt0825671</td>\n",
       "      <td>en</td>\n",
       "      <td>Life in Loops (A Megacities RMX)</td>\n",
       "      <td>Timo Novotny labels his new project an experim...</td>\n",
       "      <td>0.054716</td>\n",
       "      <td>inLoops</td>\n",
       "      <td>Austria</td>\n",
       "      <td>...</td>\n",
       "      <td>80.0</td>\n",
       "      <td>English</td>\n",
       "      <td>Released</td>\n",
       "      <td>A Megacities remix.</td>\n",
       "      <td>Life in Loops (A Megacities RMX)</td>\n",
       "      <td>6.4</td>\n",
       "      <td>4</td>\n",
       "      <td>1</td>\n",
       "      <td>1</td>\n",
       "      <td>5</td>\n",
       "    </tr>\n",
       "    <tr>\n",
       "      <th>...</th>\n",
       "      <td>...</td>\n",
       "      <td>...</td>\n",
       "      <td>...</td>\n",
       "      <td>...</td>\n",
       "      <td>...</td>\n",
       "      <td>...</td>\n",
       "      <td>...</td>\n",
       "      <td>...</td>\n",
       "      <td>...</td>\n",
       "      <td>...</td>\n",
       "      <td>...</td>\n",
       "      <td>...</td>\n",
       "      <td>...</td>\n",
       "      <td>...</td>\n",
       "      <td>...</td>\n",
       "      <td>...</td>\n",
       "      <td>...</td>\n",
       "      <td>...</td>\n",
       "      <td>...</td>\n",
       "      <td>...</td>\n",
       "      <td>...</td>\n",
       "    </tr>\n",
       "    <tr>\n",
       "      <th>329039</th>\n",
       "      <td>469215</td>\n",
       "      <td>0</td>\n",
       "      <td>Documentary|History|TV Movie</td>\n",
       "      <td>tt5430190</td>\n",
       "      <td>en</td>\n",
       "      <td>The Day Hitler Died</td>\n",
       "      <td>The story of Hitlerâs final hours told by pe...</td>\n",
       "      <td>0.0045</td>\n",
       "      <td>History Channel</td>\n",
       "      <td>United States of America</td>\n",
       "      <td>...</td>\n",
       "      <td>46.0</td>\n",
       "      <td>Deutsch</td>\n",
       "      <td>Released</td>\n",
       "      <td>April 30th, 1945</td>\n",
       "      <td>The Day Hitler Died</td>\n",
       "      <td>7.0</td>\n",
       "      <td>1</td>\n",
       "      <td>1</td>\n",
       "      <td>1</td>\n",
       "      <td>2</td>\n",
       "    </tr>\n",
       "    <tr>\n",
       "      <th>329040</th>\n",
       "      <td>469216</td>\n",
       "      <td>0</td>\n",
       "      <td>NaN</td>\n",
       "      <td>NaN</td>\n",
       "      <td>de</td>\n",
       "      <td>Mobb Deep - Life of the Infamous: The Videos</td>\n",
       "      <td>NaN</td>\n",
       "      <td>0.00045</td>\n",
       "      <td>Sony Music Entertainmant</td>\n",
       "      <td>United States of America</td>\n",
       "      <td>...</td>\n",
       "      <td>NaN</td>\n",
       "      <td>English</td>\n",
       "      <td>Released</td>\n",
       "      <td>NaN</td>\n",
       "      <td>Mobb Deep - Life of the Infamous: The Videos</td>\n",
       "      <td>9.0</td>\n",
       "      <td>1</td>\n",
       "      <td>1</td>\n",
       "      <td>1</td>\n",
       "      <td>1</td>\n",
       "    </tr>\n",
       "    <tr>\n",
       "      <th>329041</th>\n",
       "      <td>469217</td>\n",
       "      <td>0</td>\n",
       "      <td>Drama|Comedy</td>\n",
       "      <td>NaN</td>\n",
       "      <td>en</td>\n",
       "      <td>#idiot</td>\n",
       "      <td>In the modern day pursuit of fame and fortune,...</td>\n",
       "      <td>1.37217</td>\n",
       "      <td>none</td>\n",
       "      <td>Malaysia</td>\n",
       "      <td>...</td>\n",
       "      <td>11.0</td>\n",
       "      <td>English</td>\n",
       "      <td>Released</td>\n",
       "      <td>NaN</td>\n",
       "      <td>#idiot</td>\n",
       "      <td>0.0</td>\n",
       "      <td>0</td>\n",
       "      <td>0</td>\n",
       "      <td>1</td>\n",
       "      <td>1</td>\n",
       "    </tr>\n",
       "    <tr>\n",
       "      <th>329042</th>\n",
       "      <td>469218</td>\n",
       "      <td>0</td>\n",
       "      <td>Drama|Comedy</td>\n",
       "      <td>tt6391664</td>\n",
       "      <td>en</td>\n",
       "      <td>Conspiracy P.I.E</td>\n",
       "      <td>Director Levi A. Taylor invites you on a nosta...</td>\n",
       "      <td>0.0096</td>\n",
       "      <td>none</td>\n",
       "      <td>United States of America</td>\n",
       "      <td>...</td>\n",
       "      <td>12.0</td>\n",
       "      <td>English</td>\n",
       "      <td>Released</td>\n",
       "      <td>NaN</td>\n",
       "      <td>Conspiracy P.I.E</td>\n",
       "      <td>0.0</td>\n",
       "      <td>0</td>\n",
       "      <td>0</td>\n",
       "      <td>1</td>\n",
       "      <td>1</td>\n",
       "    </tr>\n",
       "    <tr>\n",
       "      <th>329043</th>\n",
       "      <td>469219</td>\n",
       "      <td>0</td>\n",
       "      <td>Drama</td>\n",
       "      <td>tt6413160</td>\n",
       "      <td>en</td>\n",
       "      <td>Chance</td>\n",
       "      <td>A homeless man is given a second chance at lif...</td>\n",
       "      <td>0.0759</td>\n",
       "      <td>none</td>\n",
       "      <td>United States of America</td>\n",
       "      <td>...</td>\n",
       "      <td>90.0</td>\n",
       "      <td>English</td>\n",
       "      <td>Released</td>\n",
       "      <td>NaN</td>\n",
       "      <td>Chance</td>\n",
       "      <td>0.0</td>\n",
       "      <td>0</td>\n",
       "      <td>0</td>\n",
       "      <td>1</td>\n",
       "      <td>1</td>\n",
       "    </tr>\n",
       "  </tbody>\n",
       "</table>\n",
       "<p>329044 rows × 22 columns</p>\n",
       "</div>"
      ],
      "text/plain": [
       "         ï»¿id   budget                        genres    imdb_id  \\\n",
       "0            2        0                   Drama|Crime  tt0094675   \n",
       "1            3        0                  Drama|Comedy  tt0092149   \n",
       "2            5  4000000                  Crime|Comedy  tt0113101   \n",
       "3            6        0         Action|Thriller|Crime  tt0107286   \n",
       "4            8    42000                   Documentary  tt0825671   \n",
       "...        ...      ...                           ...        ...   \n",
       "329039  469215        0  Documentary|History|TV Movie  tt5430190   \n",
       "329040  469216        0                           NaN        NaN   \n",
       "329041  469217        0                  Drama|Comedy        NaN   \n",
       "329042  469218        0                  Drama|Comedy  tt6391664   \n",
       "329043  469219        0                         Drama  tt6413160   \n",
       "\n",
       "       original_language                                original_title  \\\n",
       "0                     fi                                         Ariel   \n",
       "1                     fi                          Varjoja paratiisissa   \n",
       "2                     en                                    Four Rooms   \n",
       "3                     en                                Judgment Night   \n",
       "4                     en              Life in Loops (A Megacities RMX)   \n",
       "...                  ...                                           ...   \n",
       "329039                en                           The Day Hitler Died   \n",
       "329040                de  Mobb Deep - Life of the Infamous: The Videos   \n",
       "329041                en                                        #idiot   \n",
       "329042                en                              Conspiracy P.I.E   \n",
       "329043                en                                        Chance   \n",
       "\n",
       "                                                 overview popularity  \\\n",
       "0       Taisto Kasurinen is a Finnish coal miner whose...   0.823904   \n",
       "1       An episode in the life of Nikander, a garbage ...    0.47445   \n",
       "2       It's Ted the Bellhop's first night on the job....      1.698   \n",
       "3       While racing to a boxing match, Frank, Mike, J...    1.32287   \n",
       "4       Timo Novotny labels his new project an experim...   0.054716   \n",
       "...                                                   ...        ...   \n",
       "329039  The story of Hitlerâs final hours told by pe...     0.0045   \n",
       "329040                                                NaN    0.00045   \n",
       "329041  In the modern day pursuit of fame and fortune,...    1.37217   \n",
       "329042  Director Levi A. Taylor invites you on a nosta...     0.0096   \n",
       "329043  A homeless man is given a second chance at lif...     0.0759   \n",
       "\n",
       "               production_companies      production_countries  ... runtime  \\\n",
       "0       Villealfa Filmproduction Oy                   Finland  ...    69.0   \n",
       "1       Villealfa Filmproduction Oy                   Finland  ...    76.0   \n",
       "2                     Miramax Films  United States of America  ...    98.0   \n",
       "3                Universal Pictures                     Japan  ...   110.0   \n",
       "4                           inLoops                   Austria  ...    80.0   \n",
       "...                             ...                       ...  ...     ...   \n",
       "329039              History Channel  United States of America  ...    46.0   \n",
       "329040     Sony Music Entertainmant  United States of America  ...     NaN   \n",
       "329041                         none                  Malaysia  ...    11.0   \n",
       "329042                         none  United States of America  ...    12.0   \n",
       "329043                         none  United States of America  ...    90.0   \n",
       "\n",
       "        spoken_languages    status  \\\n",
       "0                  suomi  Released   \n",
       "1                English  Released   \n",
       "2                English  Released   \n",
       "3                English  Released   \n",
       "4                English  Released   \n",
       "...                  ...       ...   \n",
       "329039           Deutsch  Released   \n",
       "329040           English  Released   \n",
       "329041           English  Released   \n",
       "329042           English  Released   \n",
       "329043           English  Released   \n",
       "\n",
       "                                                  tagline  \\\n",
       "0                                                     NaN   \n",
       "1                                                     NaN   \n",
       "2       Twelve outrageous guests. Four scandalous requ...   \n",
       "3          Don't move. Don't whisper. Don't even breathe.   \n",
       "4                                     A Megacities remix.   \n",
       "...                                                   ...   \n",
       "329039                                   April 30th, 1945   \n",
       "329040                                                NaN   \n",
       "329041                                                NaN   \n",
       "329042                                                NaN   \n",
       "329043                                                NaN   \n",
       "\n",
       "                                               title vote_average vote_count  \\\n",
       "0                                              Ariel          7.1         40   \n",
       "1                                Shadows in Paradise          7.0         32   \n",
       "2                                         Four Rooms          6.5        485   \n",
       "3                                     Judgment Night          6.5         69   \n",
       "4                   Life in Loops (A Megacities RMX)          6.4          4   \n",
       "...                                              ...          ...        ...   \n",
       "329039                           The Day Hitler Died          7.0          1   \n",
       "329040  Mobb Deep - Life of the Infamous: The Videos          9.0          1   \n",
       "329041                                        #idiot          0.0          0   \n",
       "329042                              Conspiracy P.I.E          0.0          0   \n",
       "329043                                        Chance          0.0          0   \n",
       "\n",
       "        production_companies_number  production_countries_number  \\\n",
       "0                                 2                            1   \n",
       "1                                 1                            1   \n",
       "2                                 2                            1   \n",
       "3                                 3                            2   \n",
       "4                                 1                            1   \n",
       "...                             ...                          ...   \n",
       "329039                            1                            1   \n",
       "329040                            1                            1   \n",
       "329041                            0                            1   \n",
       "329042                            0                            1   \n",
       "329043                            0                            1   \n",
       "\n",
       "        spoken_languages_number  \n",
       "0                             2  \n",
       "1                             3  \n",
       "2                             1  \n",
       "3                             1  \n",
       "4                             5  \n",
       "...                         ...  \n",
       "329039                        2  \n",
       "329040                        1  \n",
       "329041                        1  \n",
       "329042                        1  \n",
       "329043                        1  \n",
       "\n",
       "[329044 rows x 22 columns]"
      ]
     },
     "execution_count": 4,
     "metadata": {},
     "output_type": "execute_result"
    }
   ],
   "source": [
    "detailed"
   ]
  },
  {
   "cell_type": "markdown",
   "metadata": {},
   "source": [
    "### 3.2.1. Data manipulation: Merging datasets (main, personal)"
   ]
  },
  {
   "cell_type": "markdown",
   "metadata": {},
   "source": [
    "Let's add together main and personal. Since we are going to merge them by participant names, before that it is important to check whether each set has an invalid value in it."
   ]
  },
  {
   "cell_type": "code",
   "execution_count": 5,
   "metadata": {},
   "outputs": [],
   "source": [
    "#Checking for invalid values\n",
    "main_name = main[main['name'].isna() == False]\n",
    "personal_name = personal[personal['person'].isna() == False]"
   ]
  },
  {
   "cell_type": "code",
   "execution_count": 6,
   "metadata": {},
   "outputs": [],
   "source": [
    "#Merging tables using merge() function\n",
    "main_personal = pd.merge(main_name, personal_name, left_on = 'name', right_on = 'person', how = 'left')"
   ]
  },
  {
   "cell_type": "code",
   "execution_count": 7,
   "metadata": {
    "scrolled": false
   },
   "outputs": [
    {
     "data": {
      "text/html": [
       "<div>\n",
       "<style scoped>\n",
       "    .dataframe tbody tr th:only-of-type {\n",
       "        vertical-align: middle;\n",
       "    }\n",
       "\n",
       "    .dataframe tbody tr th {\n",
       "        vertical-align: top;\n",
       "    }\n",
       "\n",
       "    .dataframe thead th {\n",
       "        text-align: right;\n",
       "    }\n",
       "</style>\n",
       "<table border=\"1\" class=\"dataframe\">\n",
       "  <thead>\n",
       "    <tr style=\"text-align: right;\">\n",
       "      <th></th>\n",
       "      <th>year_film</th>\n",
       "      <th>year_ceremony</th>\n",
       "      <th>ceremony</th>\n",
       "      <th>category</th>\n",
       "      <th>name</th>\n",
       "      <th>film</th>\n",
       "      <th>winner</th>\n",
       "      <th>_unit_id</th>\n",
       "      <th>_golden</th>\n",
       "      <th>_unit_state</th>\n",
       "      <th>...</th>\n",
       "      <th>award</th>\n",
       "      <th>biourl</th>\n",
       "      <th>birthplace_gold</th>\n",
       "      <th>date_of_birth_gold</th>\n",
       "      <th>movie</th>\n",
       "      <th>person</th>\n",
       "      <th>race_ethnicity_gold</th>\n",
       "      <th>religion_gold</th>\n",
       "      <th>sexual_orientation_gold</th>\n",
       "      <th>year_of_award_gold</th>\n",
       "    </tr>\n",
       "  </thead>\n",
       "  <tbody>\n",
       "    <tr>\n",
       "      <th>0</th>\n",
       "      <td>1927</td>\n",
       "      <td>1928</td>\n",
       "      <td>1</td>\n",
       "      <td>ACTOR</td>\n",
       "      <td>Richard Barthelmess</td>\n",
       "      <td>The Noose</td>\n",
       "      <td>False</td>\n",
       "      <td>NaN</td>\n",
       "      <td>NaN</td>\n",
       "      <td>NaN</td>\n",
       "      <td>...</td>\n",
       "      <td>NaN</td>\n",
       "      <td>NaN</td>\n",
       "      <td>NaN</td>\n",
       "      <td>NaN</td>\n",
       "      <td>NaN</td>\n",
       "      <td>NaN</td>\n",
       "      <td>NaN</td>\n",
       "      <td>NaN</td>\n",
       "      <td>NaN</td>\n",
       "      <td>NaN</td>\n",
       "    </tr>\n",
       "    <tr>\n",
       "      <th>1</th>\n",
       "      <td>1927</td>\n",
       "      <td>1928</td>\n",
       "      <td>1</td>\n",
       "      <td>ACTOR</td>\n",
       "      <td>Emil Jannings</td>\n",
       "      <td>The Last Command</td>\n",
       "      <td>True</td>\n",
       "      <td>670454440.0</td>\n",
       "      <td>False</td>\n",
       "      <td>finalized</td>\n",
       "      <td>...</td>\n",
       "      <td>Best Actor</td>\n",
       "      <td>http://www.nndb.com/people/738/000063549/</td>\n",
       "      <td>NaN</td>\n",
       "      <td>NaN</td>\n",
       "      <td>The Last Command</td>\n",
       "      <td>Emil Jannings</td>\n",
       "      <td>NaN</td>\n",
       "      <td>NaN</td>\n",
       "      <td>NaN</td>\n",
       "      <td>NaN</td>\n",
       "    </tr>\n",
       "    <tr>\n",
       "      <th>2</th>\n",
       "      <td>1927</td>\n",
       "      <td>1928</td>\n",
       "      <td>1</td>\n",
       "      <td>ACTRESS</td>\n",
       "      <td>Louise Dresser</td>\n",
       "      <td>A Ship Comes In</td>\n",
       "      <td>False</td>\n",
       "      <td>NaN</td>\n",
       "      <td>NaN</td>\n",
       "      <td>NaN</td>\n",
       "      <td>...</td>\n",
       "      <td>NaN</td>\n",
       "      <td>NaN</td>\n",
       "      <td>NaN</td>\n",
       "      <td>NaN</td>\n",
       "      <td>NaN</td>\n",
       "      <td>NaN</td>\n",
       "      <td>NaN</td>\n",
       "      <td>NaN</td>\n",
       "      <td>NaN</td>\n",
       "      <td>NaN</td>\n",
       "    </tr>\n",
       "    <tr>\n",
       "      <th>3</th>\n",
       "      <td>1927</td>\n",
       "      <td>1928</td>\n",
       "      <td>1</td>\n",
       "      <td>ACTRESS</td>\n",
       "      <td>Janet Gaynor</td>\n",
       "      <td>7th Heaven</td>\n",
       "      <td>True</td>\n",
       "      <td>670454604.0</td>\n",
       "      <td>False</td>\n",
       "      <td>finalized</td>\n",
       "      <td>...</td>\n",
       "      <td>Best Actress</td>\n",
       "      <td>http://www.nndb.com/people/129/000043000/</td>\n",
       "      <td>NaN</td>\n",
       "      <td>NaN</td>\n",
       "      <td>7th Heaven</td>\n",
       "      <td>Janet Gaynor</td>\n",
       "      <td>NaN</td>\n",
       "      <td>NaN</td>\n",
       "      <td>NaN</td>\n",
       "      <td>NaN</td>\n",
       "    </tr>\n",
       "    <tr>\n",
       "      <th>4</th>\n",
       "      <td>1927</td>\n",
       "      <td>1928</td>\n",
       "      <td>1</td>\n",
       "      <td>ACTRESS</td>\n",
       "      <td>Gloria Swanson</td>\n",
       "      <td>Sadie Thompson</td>\n",
       "      <td>False</td>\n",
       "      <td>NaN</td>\n",
       "      <td>NaN</td>\n",
       "      <td>NaN</td>\n",
       "      <td>...</td>\n",
       "      <td>NaN</td>\n",
       "      <td>NaN</td>\n",
       "      <td>NaN</td>\n",
       "      <td>NaN</td>\n",
       "      <td>NaN</td>\n",
       "      <td>NaN</td>\n",
       "      <td>NaN</td>\n",
       "      <td>NaN</td>\n",
       "      <td>NaN</td>\n",
       "      <td>NaN</td>\n",
       "    </tr>\n",
       "    <tr>\n",
       "      <th>...</th>\n",
       "      <td>...</td>\n",
       "      <td>...</td>\n",
       "      <td>...</td>\n",
       "      <td>...</td>\n",
       "      <td>...</td>\n",
       "      <td>...</td>\n",
       "      <td>...</td>\n",
       "      <td>...</td>\n",
       "      <td>...</td>\n",
       "      <td>...</td>\n",
       "      <td>...</td>\n",
       "      <td>...</td>\n",
       "      <td>...</td>\n",
       "      <td>...</td>\n",
       "      <td>...</td>\n",
       "      <td>...</td>\n",
       "      <td>...</td>\n",
       "      <td>...</td>\n",
       "      <td>...</td>\n",
       "      <td>...</td>\n",
       "      <td>...</td>\n",
       "    </tr>\n",
       "    <tr>\n",
       "      <th>10905</th>\n",
       "      <td>2019</td>\n",
       "      <td>2020</td>\n",
       "      <td>92</td>\n",
       "      <td>WRITING (Original Screenplay)</td>\n",
       "      <td>Screenplay by Bong Joon Ho, Han Jin Won; Story...</td>\n",
       "      <td>Parasite</td>\n",
       "      <td>True</td>\n",
       "      <td>NaN</td>\n",
       "      <td>NaN</td>\n",
       "      <td>NaN</td>\n",
       "      <td>...</td>\n",
       "      <td>NaN</td>\n",
       "      <td>NaN</td>\n",
       "      <td>NaN</td>\n",
       "      <td>NaN</td>\n",
       "      <td>NaN</td>\n",
       "      <td>NaN</td>\n",
       "      <td>NaN</td>\n",
       "      <td>NaN</td>\n",
       "      <td>NaN</td>\n",
       "      <td>NaN</td>\n",
       "    </tr>\n",
       "    <tr>\n",
       "      <th>10906</th>\n",
       "      <td>2019</td>\n",
       "      <td>2020</td>\n",
       "      <td>92</td>\n",
       "      <td>JEAN HERSHOLT HUMANITARIAN AWARD</td>\n",
       "      <td>Geena Davis</td>\n",
       "      <td>NaN</td>\n",
       "      <td>True</td>\n",
       "      <td>670454743.0</td>\n",
       "      <td>False</td>\n",
       "      <td>finalized</td>\n",
       "      <td>...</td>\n",
       "      <td>Best Supporting Actress</td>\n",
       "      <td>http://www.nndb.com/people/883/000022817/</td>\n",
       "      <td>NaN</td>\n",
       "      <td>NaN</td>\n",
       "      <td>The Accidental Tourist</td>\n",
       "      <td>Geena Davis</td>\n",
       "      <td>NaN</td>\n",
       "      <td>NaN</td>\n",
       "      <td>NaN</td>\n",
       "      <td>NaN</td>\n",
       "    </tr>\n",
       "    <tr>\n",
       "      <th>10907</th>\n",
       "      <td>2019</td>\n",
       "      <td>2020</td>\n",
       "      <td>92</td>\n",
       "      <td>HONORARY AWARD</td>\n",
       "      <td>David Lynch</td>\n",
       "      <td>NaN</td>\n",
       "      <td>True</td>\n",
       "      <td>NaN</td>\n",
       "      <td>NaN</td>\n",
       "      <td>NaN</td>\n",
       "      <td>...</td>\n",
       "      <td>NaN</td>\n",
       "      <td>NaN</td>\n",
       "      <td>NaN</td>\n",
       "      <td>NaN</td>\n",
       "      <td>NaN</td>\n",
       "      <td>NaN</td>\n",
       "      <td>NaN</td>\n",
       "      <td>NaN</td>\n",
       "      <td>NaN</td>\n",
       "      <td>NaN</td>\n",
       "    </tr>\n",
       "    <tr>\n",
       "      <th>10908</th>\n",
       "      <td>2019</td>\n",
       "      <td>2020</td>\n",
       "      <td>92</td>\n",
       "      <td>HONORARY AWARD</td>\n",
       "      <td>Wes Studi</td>\n",
       "      <td>NaN</td>\n",
       "      <td>True</td>\n",
       "      <td>NaN</td>\n",
       "      <td>NaN</td>\n",
       "      <td>NaN</td>\n",
       "      <td>...</td>\n",
       "      <td>NaN</td>\n",
       "      <td>NaN</td>\n",
       "      <td>NaN</td>\n",
       "      <td>NaN</td>\n",
       "      <td>NaN</td>\n",
       "      <td>NaN</td>\n",
       "      <td>NaN</td>\n",
       "      <td>NaN</td>\n",
       "      <td>NaN</td>\n",
       "      <td>NaN</td>\n",
       "    </tr>\n",
       "    <tr>\n",
       "      <th>10909</th>\n",
       "      <td>2019</td>\n",
       "      <td>2020</td>\n",
       "      <td>92</td>\n",
       "      <td>HONORARY AWARD</td>\n",
       "      <td>Lina WertmÃ¼ller</td>\n",
       "      <td>NaN</td>\n",
       "      <td>True</td>\n",
       "      <td>NaN</td>\n",
       "      <td>NaN</td>\n",
       "      <td>NaN</td>\n",
       "      <td>...</td>\n",
       "      <td>NaN</td>\n",
       "      <td>NaN</td>\n",
       "      <td>NaN</td>\n",
       "      <td>NaN</td>\n",
       "      <td>NaN</td>\n",
       "      <td>NaN</td>\n",
       "      <td>NaN</td>\n",
       "      <td>NaN</td>\n",
       "      <td>NaN</td>\n",
       "      <td>NaN</td>\n",
       "    </tr>\n",
       "  </tbody>\n",
       "</table>\n",
       "<p>10910 rows × 34 columns</p>\n",
       "</div>"
      ],
      "text/plain": [
       "       year_film  year_ceremony  ceremony                          category  \\\n",
       "0           1927           1928         1                             ACTOR   \n",
       "1           1927           1928         1                             ACTOR   \n",
       "2           1927           1928         1                           ACTRESS   \n",
       "3           1927           1928         1                           ACTRESS   \n",
       "4           1927           1928         1                           ACTRESS   \n",
       "...          ...            ...       ...                               ...   \n",
       "10905       2019           2020        92     WRITING (Original Screenplay)   \n",
       "10906       2019           2020        92  JEAN HERSHOLT HUMANITARIAN AWARD   \n",
       "10907       2019           2020        92                    HONORARY AWARD   \n",
       "10908       2019           2020        92                    HONORARY AWARD   \n",
       "10909       2019           2020        92                    HONORARY AWARD   \n",
       "\n",
       "                                                    name              film  \\\n",
       "0                                    Richard Barthelmess         The Noose   \n",
       "1                                          Emil Jannings  The Last Command   \n",
       "2                                         Louise Dresser   A Ship Comes In   \n",
       "3                                           Janet Gaynor        7th Heaven   \n",
       "4                                         Gloria Swanson    Sadie Thompson   \n",
       "...                                                  ...               ...   \n",
       "10905  Screenplay by Bong Joon Ho, Han Jin Won; Story...          Parasite   \n",
       "10906                                        Geena Davis               NaN   \n",
       "10907                                        David Lynch               NaN   \n",
       "10908                                          Wes Studi               NaN   \n",
       "10909                                   Lina WertmÃ¼ller               NaN   \n",
       "\n",
       "       winner     _unit_id _golden _unit_state  ...                    award  \\\n",
       "0       False          NaN     NaN         NaN  ...                      NaN   \n",
       "1        True  670454440.0   False   finalized  ...               Best Actor   \n",
       "2       False          NaN     NaN         NaN  ...                      NaN   \n",
       "3        True  670454604.0   False   finalized  ...             Best Actress   \n",
       "4       False          NaN     NaN         NaN  ...                      NaN   \n",
       "...       ...          ...     ...         ...  ...                      ...   \n",
       "10905    True          NaN     NaN         NaN  ...                      NaN   \n",
       "10906    True  670454743.0   False   finalized  ...  Best Supporting Actress   \n",
       "10907    True          NaN     NaN         NaN  ...                      NaN   \n",
       "10908    True          NaN     NaN         NaN  ...                      NaN   \n",
       "10909    True          NaN     NaN         NaN  ...                      NaN   \n",
       "\n",
       "                                          biourl birthplace_gold  \\\n",
       "0                                            NaN             NaN   \n",
       "1      http://www.nndb.com/people/738/000063549/             NaN   \n",
       "2                                            NaN             NaN   \n",
       "3      http://www.nndb.com/people/129/000043000/             NaN   \n",
       "4                                            NaN             NaN   \n",
       "...                                          ...             ...   \n",
       "10905                                        NaN             NaN   \n",
       "10906  http://www.nndb.com/people/883/000022817/             NaN   \n",
       "10907                                        NaN             NaN   \n",
       "10908                                        NaN             NaN   \n",
       "10909                                        NaN             NaN   \n",
       "\n",
       "       date_of_birth_gold                   movie         person  \\\n",
       "0                     NaN                     NaN            NaN   \n",
       "1                     NaN        The Last Command  Emil Jannings   \n",
       "2                     NaN                     NaN            NaN   \n",
       "3                     NaN              7th Heaven   Janet Gaynor   \n",
       "4                     NaN                     NaN            NaN   \n",
       "...                   ...                     ...            ...   \n",
       "10905                 NaN                     NaN            NaN   \n",
       "10906                 NaN  The Accidental Tourist    Geena Davis   \n",
       "10907                 NaN                     NaN            NaN   \n",
       "10908                 NaN                     NaN            NaN   \n",
       "10909                 NaN                     NaN            NaN   \n",
       "\n",
       "      race_ethnicity_gold  religion_gold sexual_orientation_gold  \\\n",
       "0                     NaN            NaN                     NaN   \n",
       "1                     NaN            NaN                     NaN   \n",
       "2                     NaN            NaN                     NaN   \n",
       "3                     NaN            NaN                     NaN   \n",
       "4                     NaN            NaN                     NaN   \n",
       "...                   ...            ...                     ...   \n",
       "10905                 NaN            NaN                     NaN   \n",
       "10906                 NaN            NaN                     NaN   \n",
       "10907                 NaN            NaN                     NaN   \n",
       "10908                 NaN            NaN                     NaN   \n",
       "10909                 NaN            NaN                     NaN   \n",
       "\n",
       "       year_of_award_gold  \n",
       "0                     NaN  \n",
       "1                     NaN  \n",
       "2                     NaN  \n",
       "3                     NaN  \n",
       "4                     NaN  \n",
       "...                   ...  \n",
       "10905                 NaN  \n",
       "10906                 NaN  \n",
       "10907                 NaN  \n",
       "10908                 NaN  \n",
       "10909                 NaN  \n",
       "\n",
       "[10910 rows x 34 columns]"
      ]
     },
     "execution_count": 7,
     "metadata": {},
     "output_type": "execute_result"
    }
   ],
   "source": [
    "main_personal"
   ]
  },
  {
   "cell_type": "markdown",
   "metadata": {},
   "source": [
    "### 3.3.1. Data Validation: Removing duplicates and missing values (main, personal)"
   ]
  },
  {
   "cell_type": "markdown",
   "metadata": {},
   "source": [
    "Ideally, we should add them together without missing any value. So, here are the things to do:\n",
    "+ Replace invalid values by NaN - we are going to detect, remove, and reset them by indexes\n",
    "+ Remove duplicates - using drop_duplicates() function\n",
    "+ Drop unnecessary columns - with simple drop()"
   ]
  },
  {
   "cell_type": "code",
   "execution_count": 8,
   "metadata": {},
   "outputs": [],
   "source": [
    "#Saving indexes that have NaN\n",
    "index = main_personal[main_personal['person'].isna() == True].index"
   ]
  },
  {
   "cell_type": "code",
   "execution_count": 9,
   "metadata": {},
   "outputs": [],
   "source": [
    "#Drop them by drop()\n",
    "main_personal.drop(index, inplace = True)"
   ]
  },
  {
   "cell_type": "code",
   "execution_count": 10,
   "metadata": {},
   "outputs": [],
   "source": [
    "#Reset our indexes using reset_index()\n",
    "main_personal.reset_index(drop=True, inplace=True)"
   ]
  },
  {
   "cell_type": "markdown",
   "metadata": {},
   "source": [
    "Amount of rows depreciates significantly, because in personal dataset we are considering only actors/actresses and directors. From 10910 it fell to 1580. This is the computation without replacing duplicates. Let's simply do it with only one statement."
   ]
  },
  {
   "cell_type": "code",
   "execution_count": 11,
   "metadata": {},
   "outputs": [],
   "source": [
    "main_personal.drop_duplicates(subset =\"name\", keep = \"first\", inplace=True)"
   ]
  },
  {
   "cell_type": "code",
   "execution_count": 12,
   "metadata": {},
   "outputs": [
    {
     "data": {
      "text/plain": [
       "(340, 34)"
      ]
     },
     "execution_count": 12,
     "metadata": {},
     "output_type": "execute_result"
    }
   ],
   "source": [
    "main_personal.shape"
   ]
  },
  {
   "cell_type": "markdown",
   "metadata": {},
   "source": [
    "Number of rows fell again. From 1580 to 340. The reason is that similar films in the second tables may have a bit difference in orthography, and we have lost about 100 rows. \n",
    "\n",
    "&#8595; Now let's remove needless columns for our analysis."
   ]
  },
  {
   "cell_type": "code",
   "execution_count": 13,
   "metadata": {},
   "outputs": [
    {
     "data": {
      "text/plain": [
       "Index(['year_film', 'year_ceremony', 'ceremony', 'category', 'name', 'film',\n",
       "       'winner', '_unit_id', '_golden', '_unit_state', '_trusted_judgments',\n",
       "       '_last_judgment_at', 'birthplace', 'birthplace:confidence',\n",
       "       'date_of_birth', 'date_of_birth:confidence', 'race_ethnicity',\n",
       "       'race_ethnicity:confidence', 'religion', 'religion:confidence',\n",
       "       'sexual_orientation', 'sexual_orientation:confidence', 'year_of_award',\n",
       "       'year_of_award:confidence', 'award', 'biourl', 'birthplace_gold',\n",
       "       'date_of_birth_gold', 'movie', 'person', 'race_ethnicity_gold',\n",
       "       'religion_gold', 'sexual_orientation_gold', 'year_of_award_gold'],\n",
       "      dtype='object')"
      ]
     },
     "execution_count": 13,
     "metadata": {},
     "output_type": "execute_result"
    }
   ],
   "source": [
    "main_personal.columns"
   ]
  },
  {
   "cell_type": "code",
   "execution_count": 14,
   "metadata": {},
   "outputs": [],
   "source": [
    "del main_personal['_unit_id']\n",
    "del main_personal['_golden']\n",
    "del main_personal['_unit_state']\n",
    "del main_personal['_trusted_judgments']\n",
    "del main_personal['_last_judgment_at']\n",
    "del main_personal['birthplace:confidence']\n",
    "del main_personal['date_of_birth:confidence']\n",
    "del main_personal['race_ethnicity:confidence']\n",
    "del main_personal['religion:confidence']\n",
    "del main_personal['sexual_orientation']\n",
    "del main_personal['sexual_orientation:confidence']\n",
    "del main_personal['year_of_award']\n",
    "del main_personal['year_of_award:confidence']\n",
    "del main_personal['award']\n",
    "del main_personal['birthplace_gold']\n",
    "del main_personal['date_of_birth_gold']\n",
    "del main_personal['movie']\n",
    "del main_personal['person']\n",
    "del main_personal['race_ethnicity_gold']\n",
    "del main_personal['religion_gold']\n",
    "del main_personal['sexual_orientation_gold']\n",
    "del main_personal['year_of_award_gold']\n",
    "del main_personal['biourl']"
   ]
  },
  {
   "cell_type": "code",
   "execution_count": 15,
   "metadata": {},
   "outputs": [
    {
     "data": {
      "text/html": [
       "<div>\n",
       "<style scoped>\n",
       "    .dataframe tbody tr th:only-of-type {\n",
       "        vertical-align: middle;\n",
       "    }\n",
       "\n",
       "    .dataframe tbody tr th {\n",
       "        vertical-align: top;\n",
       "    }\n",
       "\n",
       "    .dataframe thead th {\n",
       "        text-align: right;\n",
       "    }\n",
       "</style>\n",
       "<table border=\"1\" class=\"dataframe\">\n",
       "  <thead>\n",
       "    <tr style=\"text-align: right;\">\n",
       "      <th></th>\n",
       "      <th>year_film</th>\n",
       "      <th>year_ceremony</th>\n",
       "      <th>ceremony</th>\n",
       "      <th>category</th>\n",
       "      <th>name</th>\n",
       "      <th>film</th>\n",
       "      <th>winner</th>\n",
       "      <th>birthplace</th>\n",
       "      <th>date_of_birth</th>\n",
       "      <th>race_ethnicity</th>\n",
       "      <th>religion</th>\n",
       "    </tr>\n",
       "  </thead>\n",
       "  <tbody>\n",
       "    <tr>\n",
       "      <th>0</th>\n",
       "      <td>1927</td>\n",
       "      <td>1928</td>\n",
       "      <td>1</td>\n",
       "      <td>ACTOR</td>\n",
       "      <td>Emil Jannings</td>\n",
       "      <td>The Last Command</td>\n",
       "      <td>True</td>\n",
       "      <td>Rorschach, Switzerland</td>\n",
       "      <td>23-Jul-1884</td>\n",
       "      <td>White</td>\n",
       "      <td>Na</td>\n",
       "    </tr>\n",
       "    <tr>\n",
       "      <th>1</th>\n",
       "      <td>1927</td>\n",
       "      <td>1928</td>\n",
       "      <td>1</td>\n",
       "      <td>ACTRESS</td>\n",
       "      <td>Janet Gaynor</td>\n",
       "      <td>7th Heaven</td>\n",
       "      <td>True</td>\n",
       "      <td>Philadelphia, Pa</td>\n",
       "      <td>6-Oct-06</td>\n",
       "      <td>White</td>\n",
       "      <td>Na</td>\n",
       "    </tr>\n",
       "    <tr>\n",
       "      <th>2</th>\n",
       "      <td>1927</td>\n",
       "      <td>1928</td>\n",
       "      <td>1</td>\n",
       "      <td>DIRECTING (Comedy Picture)</td>\n",
       "      <td>Lewis Milestone</td>\n",
       "      <td>Two Arabian Knights</td>\n",
       "      <td>True</td>\n",
       "      <td>Chisinau, Moldova</td>\n",
       "      <td>30-Sep-1895</td>\n",
       "      <td>White</td>\n",
       "      <td>Na</td>\n",
       "    </tr>\n",
       "    <tr>\n",
       "      <th>4</th>\n",
       "      <td>1927</td>\n",
       "      <td>1928</td>\n",
       "      <td>1</td>\n",
       "      <td>DIRECTING (Dramatic Picture)</td>\n",
       "      <td>Frank Borzage</td>\n",
       "      <td>7th Heaven</td>\n",
       "      <td>True</td>\n",
       "      <td>Salt Lake City, Ut</td>\n",
       "      <td>23-Apr-1894</td>\n",
       "      <td>White</td>\n",
       "      <td>Roman Catholic</td>\n",
       "    </tr>\n",
       "    <tr>\n",
       "      <th>5</th>\n",
       "      <td>1928</td>\n",
       "      <td>1929</td>\n",
       "      <td>2</td>\n",
       "      <td>ACTOR</td>\n",
       "      <td>Warner Baxter</td>\n",
       "      <td>In Old Arizona</td>\n",
       "      <td>True</td>\n",
       "      <td>Columbus, Oh</td>\n",
       "      <td>29-Mar-1889</td>\n",
       "      <td>White</td>\n",
       "      <td>Na</td>\n",
       "    </tr>\n",
       "    <tr>\n",
       "      <th>...</th>\n",
       "      <td>...</td>\n",
       "      <td>...</td>\n",
       "      <td>...</td>\n",
       "      <td>...</td>\n",
       "      <td>...</td>\n",
       "      <td>...</td>\n",
       "      <td>...</td>\n",
       "      <td>...</td>\n",
       "      <td>...</td>\n",
       "      <td>...</td>\n",
       "      <td>...</td>\n",
       "    </tr>\n",
       "    <tr>\n",
       "      <th>1493</th>\n",
       "      <td>2011</td>\n",
       "      <td>2012</td>\n",
       "      <td>84</td>\n",
       "      <td>ACTRESS IN A SUPPORTING ROLE</td>\n",
       "      <td>Octavia Spencer</td>\n",
       "      <td>The Help</td>\n",
       "      <td>True</td>\n",
       "      <td>Montgomery, Al</td>\n",
       "      <td>25-May-72</td>\n",
       "      <td>Black</td>\n",
       "      <td>Na</td>\n",
       "    </tr>\n",
       "    <tr>\n",
       "      <th>1494</th>\n",
       "      <td>2011</td>\n",
       "      <td>2012</td>\n",
       "      <td>84</td>\n",
       "      <td>DIRECTING</td>\n",
       "      <td>Michel Hazanavicius</td>\n",
       "      <td>The Artist</td>\n",
       "      <td>True</td>\n",
       "      <td>Paris, France</td>\n",
       "      <td>29-Mar-67</td>\n",
       "      <td>White</td>\n",
       "      <td>Jewish</td>\n",
       "    </tr>\n",
       "    <tr>\n",
       "      <th>1519</th>\n",
       "      <td>2013</td>\n",
       "      <td>2014</td>\n",
       "      <td>86</td>\n",
       "      <td>ACTOR IN A LEADING ROLE</td>\n",
       "      <td>Matthew McConaughey</td>\n",
       "      <td>Dallas Buyers Club</td>\n",
       "      <td>True</td>\n",
       "      <td>Uvalde, Tx</td>\n",
       "      <td>4-Nov-69</td>\n",
       "      <td>White</td>\n",
       "      <td>Na</td>\n",
       "    </tr>\n",
       "    <tr>\n",
       "      <th>1520</th>\n",
       "      <td>2013</td>\n",
       "      <td>2014</td>\n",
       "      <td>86</td>\n",
       "      <td>ACTOR IN A SUPPORTING ROLE</td>\n",
       "      <td>Jared Leto</td>\n",
       "      <td>Dallas Buyers Club</td>\n",
       "      <td>True</td>\n",
       "      <td>Bossier City, La</td>\n",
       "      <td>26-Dec-71</td>\n",
       "      <td>White</td>\n",
       "      <td>Na</td>\n",
       "    </tr>\n",
       "    <tr>\n",
       "      <th>1529</th>\n",
       "      <td>2013</td>\n",
       "      <td>2014</td>\n",
       "      <td>86</td>\n",
       "      <td>ACTRESS IN A SUPPORTING ROLE</td>\n",
       "      <td>Lupita Nyong'o</td>\n",
       "      <td>12 Years a Slave</td>\n",
       "      <td>True</td>\n",
       "      <td>Mexico City, Mexico</td>\n",
       "      <td>1-Mar-83</td>\n",
       "      <td>Black</td>\n",
       "      <td>Na</td>\n",
       "    </tr>\n",
       "  </tbody>\n",
       "</table>\n",
       "<p>340 rows × 11 columns</p>\n",
       "</div>"
      ],
      "text/plain": [
       "      year_film  year_ceremony  ceremony                      category  \\\n",
       "0          1927           1928         1                         ACTOR   \n",
       "1          1927           1928         1                       ACTRESS   \n",
       "2          1927           1928         1    DIRECTING (Comedy Picture)   \n",
       "4          1927           1928         1  DIRECTING (Dramatic Picture)   \n",
       "5          1928           1929         2                         ACTOR   \n",
       "...         ...            ...       ...                           ...   \n",
       "1493       2011           2012        84  ACTRESS IN A SUPPORTING ROLE   \n",
       "1494       2011           2012        84                     DIRECTING   \n",
       "1519       2013           2014        86       ACTOR IN A LEADING ROLE   \n",
       "1520       2013           2014        86    ACTOR IN A SUPPORTING ROLE   \n",
       "1529       2013           2014        86  ACTRESS IN A SUPPORTING ROLE   \n",
       "\n",
       "                     name                 film  winner  \\\n",
       "0           Emil Jannings     The Last Command    True   \n",
       "1            Janet Gaynor           7th Heaven    True   \n",
       "2         Lewis Milestone  Two Arabian Knights    True   \n",
       "4           Frank Borzage           7th Heaven    True   \n",
       "5           Warner Baxter       In Old Arizona    True   \n",
       "...                   ...                  ...     ...   \n",
       "1493      Octavia Spencer             The Help    True   \n",
       "1494  Michel Hazanavicius           The Artist    True   \n",
       "1519  Matthew McConaughey   Dallas Buyers Club    True   \n",
       "1520           Jared Leto   Dallas Buyers Club    True   \n",
       "1529       Lupita Nyong'o     12 Years a Slave    True   \n",
       "\n",
       "                  birthplace date_of_birth race_ethnicity        religion  \n",
       "0     Rorschach, Switzerland   23-Jul-1884          White              Na  \n",
       "1           Philadelphia, Pa      6-Oct-06          White              Na  \n",
       "2          Chisinau, Moldova   30-Sep-1895          White              Na  \n",
       "4         Salt Lake City, Ut   23-Apr-1894          White  Roman Catholic  \n",
       "5               Columbus, Oh   29-Mar-1889          White              Na  \n",
       "...                      ...           ...            ...             ...  \n",
       "1493          Montgomery, Al     25-May-72          Black              Na  \n",
       "1494           Paris, France     29-Mar-67          White          Jewish  \n",
       "1519              Uvalde, Tx      4-Nov-69          White              Na  \n",
       "1520        Bossier City, La     26-Dec-71          White              Na  \n",
       "1529     Mexico City, Mexico      1-Mar-83          Black              Na  \n",
       "\n",
       "[340 rows x 11 columns]"
      ]
     },
     "execution_count": 15,
     "metadata": {},
     "output_type": "execute_result"
    }
   ],
   "source": [
    "main_personal"
   ]
  },
  {
   "cell_type": "markdown",
   "metadata": {},
   "source": [
    "### 3.2.2. Data manipulation: Merging datasets (main, detailed)"
   ]
  },
  {
   "cell_type": "markdown",
   "metadata": {},
   "source": [
    "We are going to run similar steps in order to add together columns main and detailed. In this case, we about to merge them by movie name."
   ]
  },
  {
   "cell_type": "code",
   "execution_count": 16,
   "metadata": {},
   "outputs": [],
   "source": [
    "main_movie = main[main['film'].isna() == False]\n",
    "detailed_movie = detailed[detailed['title'].isna() == False]"
   ]
  },
  {
   "cell_type": "code",
   "execution_count": 17,
   "metadata": {},
   "outputs": [],
   "source": [
    "main_detailed = pd.merge(main_movie, detailed_movie, left_on = 'film', right_on = 'title', how = 'left')"
   ]
  },
  {
   "cell_type": "code",
   "execution_count": 18,
   "metadata": {
    "scrolled": false
   },
   "outputs": [
    {
     "data": {
      "text/html": [
       "<div>\n",
       "<style scoped>\n",
       "    .dataframe tbody tr th:only-of-type {\n",
       "        vertical-align: middle;\n",
       "    }\n",
       "\n",
       "    .dataframe tbody tr th {\n",
       "        vertical-align: top;\n",
       "    }\n",
       "\n",
       "    .dataframe thead th {\n",
       "        text-align: right;\n",
       "    }\n",
       "</style>\n",
       "<table border=\"1\" class=\"dataframe\">\n",
       "  <thead>\n",
       "    <tr style=\"text-align: right;\">\n",
       "      <th></th>\n",
       "      <th>year_film</th>\n",
       "      <th>year_ceremony</th>\n",
       "      <th>ceremony</th>\n",
       "      <th>category</th>\n",
       "      <th>name</th>\n",
       "      <th>film</th>\n",
       "      <th>winner</th>\n",
       "      <th>ï»¿id</th>\n",
       "      <th>budget</th>\n",
       "      <th>genres</th>\n",
       "      <th>...</th>\n",
       "      <th>runtime</th>\n",
       "      <th>spoken_languages</th>\n",
       "      <th>status</th>\n",
       "      <th>tagline</th>\n",
       "      <th>title</th>\n",
       "      <th>vote_average</th>\n",
       "      <th>vote_count</th>\n",
       "      <th>production_companies_number</th>\n",
       "      <th>production_countries_number</th>\n",
       "      <th>spoken_languages_number</th>\n",
       "    </tr>\n",
       "  </thead>\n",
       "  <tbody>\n",
       "    <tr>\n",
       "      <th>0</th>\n",
       "      <td>1927</td>\n",
       "      <td>1928</td>\n",
       "      <td>1</td>\n",
       "      <td>ACTOR</td>\n",
       "      <td>Richard Barthelmess</td>\n",
       "      <td>The Noose</td>\n",
       "      <td>False</td>\n",
       "      <td>113167.0</td>\n",
       "      <td>0.0</td>\n",
       "      <td>Drama</td>\n",
       "      <td>...</td>\n",
       "      <td>65.0</td>\n",
       "      <td>none</td>\n",
       "      <td>Released</td>\n",
       "      <td>Not in years has the screen given you drama so...</td>\n",
       "      <td>The Noose</td>\n",
       "      <td>0.0</td>\n",
       "      <td>0.0</td>\n",
       "      <td>1.0</td>\n",
       "      <td>1.0</td>\n",
       "      <td>0.0</td>\n",
       "    </tr>\n",
       "    <tr>\n",
       "      <th>1</th>\n",
       "      <td>1927</td>\n",
       "      <td>1928</td>\n",
       "      <td>1</td>\n",
       "      <td>ACTOR</td>\n",
       "      <td>Richard Barthelmess</td>\n",
       "      <td>The Noose</td>\n",
       "      <td>False</td>\n",
       "      <td>132141.0</td>\n",
       "      <td>0.0</td>\n",
       "      <td>Drama</td>\n",
       "      <td>...</td>\n",
       "      <td>96.0</td>\n",
       "      <td>Polski</td>\n",
       "      <td>Released</td>\n",
       "      <td>NaN</td>\n",
       "      <td>The Noose</td>\n",
       "      <td>7.5</td>\n",
       "      <td>2.0</td>\n",
       "      <td>1.0</td>\n",
       "      <td>1.0</td>\n",
       "      <td>1.0</td>\n",
       "    </tr>\n",
       "    <tr>\n",
       "      <th>2</th>\n",
       "      <td>1927</td>\n",
       "      <td>1928</td>\n",
       "      <td>1</td>\n",
       "      <td>ACTOR</td>\n",
       "      <td>Emil Jannings</td>\n",
       "      <td>The Last Command</td>\n",
       "      <td>True</td>\n",
       "      <td>43197.0</td>\n",
       "      <td>0.0</td>\n",
       "      <td>Drama|History|Western</td>\n",
       "      <td>...</td>\n",
       "      <td>110.0</td>\n",
       "      <td>Deutsch</td>\n",
       "      <td>Released</td>\n",
       "      <td>THE BUGLE SOUNDS... No Mercy! No Quarter! for ...</td>\n",
       "      <td>The Last Command</td>\n",
       "      <td>7.0</td>\n",
       "      <td>4.0</td>\n",
       "      <td>1.0</td>\n",
       "      <td>1.0</td>\n",
       "      <td>3.0</td>\n",
       "    </tr>\n",
       "    <tr>\n",
       "      <th>3</th>\n",
       "      <td>1927</td>\n",
       "      <td>1928</td>\n",
       "      <td>1</td>\n",
       "      <td>ACTOR</td>\n",
       "      <td>Emil Jannings</td>\n",
       "      <td>The Last Command</td>\n",
       "      <td>True</td>\n",
       "      <td>52679.0</td>\n",
       "      <td>0.0</td>\n",
       "      <td>Drama|History|Romance</td>\n",
       "      <td>...</td>\n",
       "      <td>88.0</td>\n",
       "      <td>No Language</td>\n",
       "      <td>Released</td>\n",
       "      <td>NaN</td>\n",
       "      <td>The Last Command</td>\n",
       "      <td>7.7</td>\n",
       "      <td>15.0</td>\n",
       "      <td>1.0</td>\n",
       "      <td>1.0</td>\n",
       "      <td>1.0</td>\n",
       "    </tr>\n",
       "    <tr>\n",
       "      <th>4</th>\n",
       "      <td>1927</td>\n",
       "      <td>1928</td>\n",
       "      <td>1</td>\n",
       "      <td>ACTRESS</td>\n",
       "      <td>Louise Dresser</td>\n",
       "      <td>A Ship Comes In</td>\n",
       "      <td>False</td>\n",
       "      <td>104212.0</td>\n",
       "      <td>0.0</td>\n",
       "      <td>Drama</td>\n",
       "      <td>...</td>\n",
       "      <td>70.0</td>\n",
       "      <td>none</td>\n",
       "      <td>Released</td>\n",
       "      <td>NaN</td>\n",
       "      <td>A Ship Comes In</td>\n",
       "      <td>6.0</td>\n",
       "      <td>1.0</td>\n",
       "      <td>1.0</td>\n",
       "      <td>1.0</td>\n",
       "      <td>0.0</td>\n",
       "    </tr>\n",
       "    <tr>\n",
       "      <th>...</th>\n",
       "      <td>...</td>\n",
       "      <td>...</td>\n",
       "      <td>...</td>\n",
       "      <td>...</td>\n",
       "      <td>...</td>\n",
       "      <td>...</td>\n",
       "      <td>...</td>\n",
       "      <td>...</td>\n",
       "      <td>...</td>\n",
       "      <td>...</td>\n",
       "      <td>...</td>\n",
       "      <td>...</td>\n",
       "      <td>...</td>\n",
       "      <td>...</td>\n",
       "      <td>...</td>\n",
       "      <td>...</td>\n",
       "      <td>...</td>\n",
       "      <td>...</td>\n",
       "      <td>...</td>\n",
       "      <td>...</td>\n",
       "      <td>...</td>\n",
       "    </tr>\n",
       "    <tr>\n",
       "      <th>19849</th>\n",
       "      <td>2019</td>\n",
       "      <td>2020</td>\n",
       "      <td>92</td>\n",
       "      <td>WRITING (Original Screenplay)</td>\n",
       "      <td>Written by Noah Baumbach</td>\n",
       "      <td>Marriage Story</td>\n",
       "      <td>False</td>\n",
       "      <td>271794.0</td>\n",
       "      <td>0.0</td>\n",
       "      <td>NaN</td>\n",
       "      <td>...</td>\n",
       "      <td>95.0</td>\n",
       "      <td>íêµ­ì´/ì¡°ì ë§</td>\n",
       "      <td>Released</td>\n",
       "      <td>NaN</td>\n",
       "      <td>Marriage Story</td>\n",
       "      <td>5.0</td>\n",
       "      <td>1.0</td>\n",
       "      <td>1.0</td>\n",
       "      <td>1.0</td>\n",
       "      <td>1.0</td>\n",
       "    </tr>\n",
       "    <tr>\n",
       "      <th>19850</th>\n",
       "      <td>2019</td>\n",
       "      <td>2020</td>\n",
       "      <td>92</td>\n",
       "      <td>WRITING (Original Screenplay)</td>\n",
       "      <td>Written by Sam Mendes &amp; Krysty Wilson-Cairns</td>\n",
       "      <td>1917</td>\n",
       "      <td>False</td>\n",
       "      <td>NaN</td>\n",
       "      <td>NaN</td>\n",
       "      <td>NaN</td>\n",
       "      <td>...</td>\n",
       "      <td>NaN</td>\n",
       "      <td>NaN</td>\n",
       "      <td>NaN</td>\n",
       "      <td>NaN</td>\n",
       "      <td>NaN</td>\n",
       "      <td>NaN</td>\n",
       "      <td>NaN</td>\n",
       "      <td>NaN</td>\n",
       "      <td>NaN</td>\n",
       "      <td>NaN</td>\n",
       "    </tr>\n",
       "    <tr>\n",
       "      <th>19851</th>\n",
       "      <td>2019</td>\n",
       "      <td>2020</td>\n",
       "      <td>92</td>\n",
       "      <td>WRITING (Original Screenplay)</td>\n",
       "      <td>Written by Quentin Tarantino</td>\n",
       "      <td>Once upon a Time...in Hollywood</td>\n",
       "      <td>False</td>\n",
       "      <td>NaN</td>\n",
       "      <td>NaN</td>\n",
       "      <td>NaN</td>\n",
       "      <td>...</td>\n",
       "      <td>NaN</td>\n",
       "      <td>NaN</td>\n",
       "      <td>NaN</td>\n",
       "      <td>NaN</td>\n",
       "      <td>NaN</td>\n",
       "      <td>NaN</td>\n",
       "      <td>NaN</td>\n",
       "      <td>NaN</td>\n",
       "      <td>NaN</td>\n",
       "      <td>NaN</td>\n",
       "    </tr>\n",
       "    <tr>\n",
       "      <th>19852</th>\n",
       "      <td>2019</td>\n",
       "      <td>2020</td>\n",
       "      <td>92</td>\n",
       "      <td>WRITING (Original Screenplay)</td>\n",
       "      <td>Screenplay by Bong Joon Ho, Han Jin Won; Story...</td>\n",
       "      <td>Parasite</td>\n",
       "      <td>True</td>\n",
       "      <td>48311.0</td>\n",
       "      <td>800000.0</td>\n",
       "      <td>Horror|Science Fiction</td>\n",
       "      <td>...</td>\n",
       "      <td>85.0</td>\n",
       "      <td>English</td>\n",
       "      <td>Released</td>\n",
       "      <td>You will not feel the terror until you experie...</td>\n",
       "      <td>Parasite</td>\n",
       "      <td>5.1</td>\n",
       "      <td>8.0</td>\n",
       "      <td>0.0</td>\n",
       "      <td>1.0</td>\n",
       "      <td>1.0</td>\n",
       "    </tr>\n",
       "    <tr>\n",
       "      <th>19853</th>\n",
       "      <td>2019</td>\n",
       "      <td>2020</td>\n",
       "      <td>92</td>\n",
       "      <td>WRITING (Original Screenplay)</td>\n",
       "      <td>Screenplay by Bong Joon Ho, Han Jin Won; Story...</td>\n",
       "      <td>Parasite</td>\n",
       "      <td>True</td>\n",
       "      <td>291545.0</td>\n",
       "      <td>0.0</td>\n",
       "      <td>Horror</td>\n",
       "      <td>...</td>\n",
       "      <td>93.0</td>\n",
       "      <td>English</td>\n",
       "      <td>Released</td>\n",
       "      <td>NaN</td>\n",
       "      <td>Parasite</td>\n",
       "      <td>3.0</td>\n",
       "      <td>2.0</td>\n",
       "      <td>0.0</td>\n",
       "      <td>1.0</td>\n",
       "      <td>1.0</td>\n",
       "    </tr>\n",
       "  </tbody>\n",
       "</table>\n",
       "<p>19854 rows × 29 columns</p>\n",
       "</div>"
      ],
      "text/plain": [
       "       year_film  year_ceremony  ceremony                       category  \\\n",
       "0           1927           1928         1                          ACTOR   \n",
       "1           1927           1928         1                          ACTOR   \n",
       "2           1927           1928         1                          ACTOR   \n",
       "3           1927           1928         1                          ACTOR   \n",
       "4           1927           1928         1                        ACTRESS   \n",
       "...          ...            ...       ...                            ...   \n",
       "19849       2019           2020        92  WRITING (Original Screenplay)   \n",
       "19850       2019           2020        92  WRITING (Original Screenplay)   \n",
       "19851       2019           2020        92  WRITING (Original Screenplay)   \n",
       "19852       2019           2020        92  WRITING (Original Screenplay)   \n",
       "19853       2019           2020        92  WRITING (Original Screenplay)   \n",
       "\n",
       "                                                    name  \\\n",
       "0                                    Richard Barthelmess   \n",
       "1                                    Richard Barthelmess   \n",
       "2                                          Emil Jannings   \n",
       "3                                          Emil Jannings   \n",
       "4                                         Louise Dresser   \n",
       "...                                                  ...   \n",
       "19849                           Written by Noah Baumbach   \n",
       "19850       Written by Sam Mendes & Krysty Wilson-Cairns   \n",
       "19851                       Written by Quentin Tarantino   \n",
       "19852  Screenplay by Bong Joon Ho, Han Jin Won; Story...   \n",
       "19853  Screenplay by Bong Joon Ho, Han Jin Won; Story...   \n",
       "\n",
       "                                  film  winner     ï»¿id    budget  \\\n",
       "0                            The Noose   False  113167.0       0.0   \n",
       "1                            The Noose   False  132141.0       0.0   \n",
       "2                     The Last Command    True   43197.0       0.0   \n",
       "3                     The Last Command    True   52679.0       0.0   \n",
       "4                      A Ship Comes In   False  104212.0       0.0   \n",
       "...                                ...     ...       ...       ...   \n",
       "19849                   Marriage Story   False  271794.0       0.0   \n",
       "19850                             1917   False       NaN       NaN   \n",
       "19851  Once upon a Time...in Hollywood   False       NaN       NaN   \n",
       "19852                         Parasite    True   48311.0  800000.0   \n",
       "19853                         Parasite    True  291545.0       0.0   \n",
       "\n",
       "                       genres  ... runtime     spoken_languages    status  \\\n",
       "0                       Drama  ...    65.0                 none  Released   \n",
       "1                       Drama  ...    96.0               Polski  Released   \n",
       "2       Drama|History|Western  ...   110.0              Deutsch  Released   \n",
       "3       Drama|History|Romance  ...    88.0          No Language  Released   \n",
       "4                       Drama  ...    70.0                 none  Released   \n",
       "...                       ...  ...     ...                  ...       ...   \n",
       "19849                     NaN  ...    95.0  íêµ­ì´/ì¡°ì ë§  Released   \n",
       "19850                     NaN  ...     NaN                  NaN       NaN   \n",
       "19851                     NaN  ...     NaN                  NaN       NaN   \n",
       "19852  Horror|Science Fiction  ...    85.0              English  Released   \n",
       "19853                  Horror  ...    93.0              English  Released   \n",
       "\n",
       "                                                 tagline             title  \\\n",
       "0      Not in years has the screen given you drama so...         The Noose   \n",
       "1                                                    NaN         The Noose   \n",
       "2      THE BUGLE SOUNDS... No Mercy! No Quarter! for ...  The Last Command   \n",
       "3                                                    NaN  The Last Command   \n",
       "4                                                    NaN   A Ship Comes In   \n",
       "...                                                  ...               ...   \n",
       "19849                                                NaN    Marriage Story   \n",
       "19850                                                NaN               NaN   \n",
       "19851                                                NaN               NaN   \n",
       "19852  You will not feel the terror until you experie...          Parasite   \n",
       "19853                                                NaN          Parasite   \n",
       "\n",
       "      vote_average vote_count production_companies_number  \\\n",
       "0              0.0        0.0                         1.0   \n",
       "1              7.5        2.0                         1.0   \n",
       "2              7.0        4.0                         1.0   \n",
       "3              7.7       15.0                         1.0   \n",
       "4              6.0        1.0                         1.0   \n",
       "...            ...        ...                         ...   \n",
       "19849          5.0        1.0                         1.0   \n",
       "19850          NaN        NaN                         NaN   \n",
       "19851          NaN        NaN                         NaN   \n",
       "19852          5.1        8.0                         0.0   \n",
       "19853          3.0        2.0                         0.0   \n",
       "\n",
       "       production_countries_number  spoken_languages_number  \n",
       "0                              1.0                      0.0  \n",
       "1                              1.0                      1.0  \n",
       "2                              1.0                      3.0  \n",
       "3                              1.0                      1.0  \n",
       "4                              1.0                      0.0  \n",
       "...                            ...                      ...  \n",
       "19849                          1.0                      1.0  \n",
       "19850                          NaN                      NaN  \n",
       "19851                          NaN                      NaN  \n",
       "19852                          1.0                      1.0  \n",
       "19853                          1.0                      1.0  \n",
       "\n",
       "[19854 rows x 29 columns]"
      ]
     },
     "execution_count": 18,
     "metadata": {},
     "output_type": "execute_result"
    }
   ],
   "source": [
    "main_detailed"
   ]
  },
  {
   "cell_type": "markdown",
   "metadata": {},
   "source": [
    "### 3.3.2. Data Validation: Removing duplicates and missing values (main, detailed)"
   ]
  },
  {
   "cell_type": "markdown",
   "metadata": {},
   "source": [
    "It is not difficult to see that we are facing with considerably more data, which means that there are more invalid values and duplicates. It is risky because we can lose much more records than in the first run, not 100 but more..."
   ]
  },
  {
   "cell_type": "code",
   "execution_count": 19,
   "metadata": {},
   "outputs": [],
   "source": [
    "index = main_detailed[main_detailed['title'].isna() == True].index"
   ]
  },
  {
   "cell_type": "code",
   "execution_count": 20,
   "metadata": {},
   "outputs": [],
   "source": [
    "main_detailed.drop(index, inplace = True)"
   ]
  },
  {
   "cell_type": "code",
   "execution_count": 21,
   "metadata": {},
   "outputs": [],
   "source": [
    "main_detailed.reset_index(drop=True, inplace=True)"
   ]
  },
  {
   "cell_type": "markdown",
   "metadata": {},
   "source": [
    "&#8595; In this time simple duplicate() function can damage proper rows. So we are going to delete duplicates with conditions.\n",
    "Duplicates cheeeeeck\n",
    "P.S TikTok trend"
   ]
  },
  {
   "cell_type": "code",
   "execution_count": 22,
   "metadata": {},
   "outputs": [],
   "source": [
    "main_detailed = main_detailed[main_detailed.duplicated(['film', 'name']) == False ]"
   ]
  },
  {
   "cell_type": "code",
   "execution_count": 23,
   "metadata": {},
   "outputs": [
    {
     "data": {
      "text/plain": [
       "(9186, 29)"
      ]
     },
     "execution_count": 23,
     "metadata": {},
     "output_type": "execute_result"
    }
   ],
   "source": [
    "main_detailed.shape"
   ]
  },
  {
   "cell_type": "code",
   "execution_count": 24,
   "metadata": {},
   "outputs": [
    {
     "data": {
      "text/plain": [
       "Index(['year_film', 'year_ceremony', 'ceremony', 'category', 'name', 'film',\n",
       "       'winner', 'ï»¿id', 'budget', 'genres', 'imdb_id', 'original_language',\n",
       "       'original_title', 'overview', 'popularity', 'production_companies',\n",
       "       'production_countries', 'release_date', 'revenue', 'runtime',\n",
       "       'spoken_languages', 'status', 'tagline', 'title', 'vote_average',\n",
       "       'vote_count', 'production_companies_number',\n",
       "       'production_countries_number', 'spoken_languages_number'],\n",
       "      dtype='object')"
      ]
     },
     "execution_count": 24,
     "metadata": {},
     "output_type": "execute_result"
    }
   ],
   "source": [
    "main_detailed.columns"
   ]
  },
  {
   "cell_type": "code",
   "execution_count": 25,
   "metadata": {},
   "outputs": [],
   "source": [
    "del main_detailed['ï»¿id']\n",
    "del main_detailed['imdb_id']\n",
    "del main_detailed['title']\n",
    "del main_detailed['original_title']\n",
    "del main_detailed['overview']\n",
    "del main_detailed['popularity']\n",
    "del main_detailed['status']\n",
    "del main_detailed['tagline']\n",
    "del main_detailed['vote_average']\n",
    "del main_detailed['vote_count']\n",
    "del main_detailed['production_companies_number']\n",
    "del main_detailed['production_countries_number']\n",
    "del main_detailed['spoken_languages_number']\n",
    "del main_detailed['spoken_languages']"
   ]
  },
  {
   "cell_type": "markdown",
   "metadata": {},
   "source": [
    "###### Conclusion\n",
    "From the manipulations above, we can see that a pretty big amount of data has been lost. (main, personal) = 101 rows are lost, (main, detailed) = 1114 rows are lost. Also, there are some indistinct and abbreviated values"
   ]
  },
  {
   "cell_type": "markdown",
   "metadata": {},
   "source": [
    "## 4. Data analysis and visualization"
   ]
  },
  {
   "cell_type": "markdown",
   "metadata": {},
   "source": [
    "Here we are! The most important part of our project, in which we will build graphs and write algorithms. At this stage it is very important to choose the right data for specific tasks. As it was mentioned above, we will consider five main issues:\n",
    "+ Analyze the best and the worst performances \n",
    "+ Analyze the production of films\n",
    "+ Analyze directors and actors/actresses\n",
    "+ Analyze the changes in nominations\n",
    "+ Analyze the trendings of genres"
   ]
  },
  {
   "cell_type": "markdown",
   "metadata": {},
   "source": [
    "### 4.1. Analyze the best and the worst performances "
   ]
  },
  {
   "cell_type": "markdown",
   "metadata": {},
   "source": [
    "To analyze this question, I decided to build a rating of the best and worst Oscar participants. Using a horizontal bar chart, I want to display the names of the participants and the number of wins/loses. For that I need to write a code that will save the name of participants and count how many times they appeared. So let's have a table of 'Directing' category."
   ]
  },
  {
   "cell_type": "code",
   "execution_count": 26,
   "metadata": {},
   "outputs": [],
   "source": [
    "#Creating a new table of Directors only\n",
    "#Since the 'main' table is the Series, we're adjusting it with .str function\n",
    "dir = main[main['category'].str.find('DIRECTING') == 0]"
   ]
  },
  {
   "cell_type": "markdown",
   "metadata": {},
   "source": [
    "&#8595; From the new table let's select the rows of winners and losers. Selecting two columns should be performed with '&' logical operator."
   ]
  },
  {
   "cell_type": "code",
   "execution_count": 27,
   "metadata": {},
   "outputs": [],
   "source": [
    "director_count1 = dir[(dir['winner'] == True) & (dir['name'].notnull())]\n",
    "director_count2 = dir[(dir['winner'] == False) & (dir['name'].notnull())]"
   ]
  },
  {
   "cell_type": "markdown",
   "metadata": {},
   "source": [
    "&#8595; Now we will use the 'collections' module that we have imported above. We will use Counter() as a collection and update it everytime it detects the name of participants."
   ]
  },
  {
   "cell_type": "code",
   "execution_count": 28,
   "metadata": {},
   "outputs": [],
   "source": [
    "#Creating a varible of Counter()\n",
    "director_counter1 = Counter()\n",
    "director_counter2 = Counter()\n",
    "\n",
    "#Using update() function for updating collection\n",
    "director_counter1.update(director_count1['name'])\n",
    "director_counter2.update(director_count2['name'])"
   ]
  },
  {
   "cell_type": "markdown",
   "metadata": {},
   "source": [
    "&#8595; Take a look at data that we collected"
   ]
  },
  {
   "cell_type": "code",
   "execution_count": 29,
   "metadata": {},
   "outputs": [
    {
     "data": {
      "text/plain": [
       "<bound method Counter.most_common of Counter({'John Ford': 4, 'Frank Capra': 3, 'William Wyler': 3, 'Lewis Milestone': 2, 'Frank Borzage': 2, 'Frank Lloyd': 2, 'Leo McCarey': 2, 'Billy Wilder': 2, 'Elia Kazan': 2, 'Joseph L. Mankiewicz': 2, 'George Stevens': 2, 'Fred Zinnemann': 2, 'David Lean': 2, 'Milos Forman': 2, 'Oliver Stone': 2, 'Clint Eastwood': 2, 'Steven Spielberg': 2, 'Ang Lee': 2, 'Alfonso CuarÃ³n': 2, 'Alejandro G. IÃ±Ã¡rritu': 2, 'Norman Taurog': 1, 'Victor Fleming': 1, 'Michael Curtiz': 1, 'John Huston': 1, 'Delbert Mann': 1, 'Vincente Minnelli': 1, 'Robert Wise, Jerome Robbins': 1, 'Tony Richardson': 1, 'George Cukor': 1, 'Robert Wise': 1, 'Mike Nichols': 1, 'Carol Reed': 1, 'John Schlesinger': 1, 'Franklin J. Schaffner': 1, 'William Friedkin': 1, 'Bob Fosse': 1, 'George Roy Hill': 1, 'Francis Ford Coppola': 1, 'John G. Avildsen': 1, 'Woody Allen': 1, 'Michael Cimino': 1, 'Robert Benton': 1, 'Robert Redford': 1, 'Warren Beatty': 1, 'Richard Attenborough': 1, 'James L. Brooks': 1, 'Sydney Pollack': 1, 'Bernardo Bertolucci': 1, 'Barry Levinson': 1, 'Kevin Costner': 1, 'Jonathan Demme': 1, 'Robert Zemeckis': 1, 'Mel Gibson': 1, 'Anthony Minghella': 1, 'James Cameron': 1, 'Sam Mendes': 1, 'Steven Soderbergh': 1, 'Ron Howard': 1, 'Roman Polanski': 1, 'Peter Jackson': 1, 'Martin Scorsese': 1, 'Joel Coen and Ethan Coen': 1, 'Danny Boyle': 1, 'Kathryn Bigelow': 1, 'Tom Hooper': 1, 'Michel Hazanavicius': 1, 'Damien Chazelle': 1, 'Guillermo del Toro': 1, 'Bong Joon Ho': 1})>"
      ]
     },
     "execution_count": 29,
     "metadata": {},
     "output_type": "execute_result"
    }
   ],
   "source": [
    "director_counter1.most_common"
   ]
  },
  {
   "cell_type": "markdown",
   "metadata": {},
   "source": [
    "&#8595; We will sort all this info and push it into a list. Working with a list will make it easier to draw graphs later on"
   ]
  },
  {
   "cell_type": "code",
   "execution_count": 30,
   "metadata": {},
   "outputs": [],
   "source": [
    "#Creating lists for winners and losers\n",
    "dir_names1 = []\n",
    "dir_wins1 = []\n",
    "\n",
    "dir_names2 = []\n",
    "dir_lose2 = []\n",
    "    \n",
    "#Taking info from collections into the new lists    \n",
    "for item in director_counter1.most_common(10):\n",
    "    dir_names1.append(item[0])\n",
    "    dir_wins1.append(item[1])\n",
    "    \n",
    "for item in director_counter2.most_common(10):\n",
    "    dir_names2.append(item[0])\n",
    "    dir_lose2.append(item[1])"
   ]
  },
  {
   "cell_type": "markdown",
   "metadata": {},
   "source": [
    "&#8595; And the last step is to set up our graphs"
   ]
  },
  {
   "cell_type": "code",
   "execution_count": 31,
   "metadata": {},
   "outputs": [
    {
     "data": {
      "image/png": "[encoded data removed]",
      "text/plain": [
       "<Figure size 432x288 with 1 Axes>"
      ]
     },
     "metadata": {
      "needs_background": "light"
     },
     "output_type": "display_data"
    },
    {
     "data": {
      "image/png": "[encoded data removed]",
      "text/plain": [
       "<Figure size 432x288 with 1 Axes>"
      ]
     },
     "metadata": {
      "needs_background": "light"
     },
     "output_type": "display_data"
    }
   ],
   "source": [
    "fig1, ax1 = plt.subplots()\n",
    "fig2, ax2 = plt.subplots()\n",
    "\n",
    "ax1.barh(dir_names1, dir_wins1)\n",
    "ax1.invert_yaxis()\n",
    "ax2.barh(dir_names2, dir_lose2)\n",
    "\n",
    "ax1.set_title('Top 10 directors')\n",
    "ax1.set_xlabel('Number of wins')\n",
    "\n",
    "ax2.set_title('Loser 10 directors')\n",
    "ax2.set_xlabel('Number of loses')\n",
    "\n",
    "\n",
    "plt.tight_layout()\n",
    "plt.show()"
   ]
  },
  {
   "cell_type": "markdown",
   "metadata": {},
   "source": [
    "Thus, we inferred that John Ford is the number one among Best Directors and William Wyler is not chasing trophies...\n",
    "\n",
    "&#8595; These steps can be carried out with all other nominations"
   ]
  },
  {
   "cell_type": "code",
   "execution_count": 32,
   "metadata": {},
   "outputs": [],
   "source": [
    "actor = main[main['category'].str.find('ACTOR') == 0]\n",
    "actor_count1 = actor[(actor['winner'] == True) & (actor['name'].notnull())]\n",
    "actor_count2 = actor[(actor['winner'] == False) & (actor['name'].notnull())]\n",
    "\n",
    "actor_counter1 = Counter()\n",
    "actor_counter2 = Counter()\n",
    "\n",
    "\n",
    "actor_counter1.update(actor_count1['name'])\n",
    "actor_counter2.update(actor_count2['name'])\n",
    "    \n",
    "    \n",
    "actor_names1 = []\n",
    "actor_wins1 = []\n",
    "\n",
    "actor_names2 = []\n",
    "actor_lose2 = []\n",
    "    \n",
    "for item in actor_counter1.most_common(10):\n",
    "    actor_names1.append(item[0])\n",
    "    actor_wins1.append(item[1])\n",
    "    \n",
    "for item in actor_counter2.most_common(10):\n",
    "    actor_names2.append(item[0])\n",
    "    actor_lose2.append(item[1]) "
   ]
  },
  {
   "cell_type": "code",
   "execution_count": 33,
   "metadata": {},
   "outputs": [
    {
     "data": {
      "image/png": "[encoded data removed]",
      "text/plain": [
       "<Figure size 432x288 with 1 Axes>"
      ]
     },
     "metadata": {
      "needs_background": "light"
     },
     "output_type": "display_data"
    },
    {
     "data": {
      "image/png": "[encoded data removed]",
      "text/plain": [
       "<Figure size 432x288 with 1 Axes>"
      ]
     },
     "metadata": {
      "needs_background": "light"
     },
     "output_type": "display_data"
    }
   ],
   "source": [
    "fig1, ax1 = plt.subplots()\n",
    "fig2, ax2 = plt.subplots()\n",
    "\n",
    "ax1.barh(actor_names1, actor_wins1)\n",
    "ax1.invert_yaxis()\n",
    "ax2.barh(actor_names2, actor_lose2)\n",
    "\n",
    "ax1.set_title('Top 10 actors')\n",
    "ax1.set_xlabel('Number of wins')\n",
    "\n",
    "ax2.set_title('Loser 10 actors')\n",
    "ax2.set_xlabel('Number of loses')\n",
    "\n",
    "\n",
    "plt.tight_layout()\n",
    "plt.show()"
   ]
  },
  {
   "cell_type": "code",
   "execution_count": 34,
   "metadata": {},
   "outputs": [],
   "source": [
    "actress = main[main['category'].str.find('ACTRESS') == 0]\n",
    "actress_count1 = actress[(actress['winner'] == True) & (actress['name'].notnull())]\n",
    "actress_count2 = actress[(actress['winner'] == False) & (actress['name'].notnull())]\n",
    "\n",
    "actress_counter1 = Counter()\n",
    "actress_counter2 = Counter()\n",
    "\n",
    "\n",
    "actress_counter1.update(actress_count1['name'])\n",
    "actress_counter2.update(actress_count2['name'])\n",
    "    \n",
    "actress_names1 = []\n",
    "actress_wins1 = []\n",
    "\n",
    "actress_names2 = []\n",
    "actress_lose2 = []\n",
    "    \n",
    "for item in actress_counter1.most_common(10):\n",
    "    actress_names1.append(item[0])\n",
    "    actress_wins1.append(item[1])\n",
    "    \n",
    "for item in actress_counter2.most_common(10):\n",
    "    actress_names2.append(item[0])\n",
    "    actress_lose2.append(item[1]) "
   ]
  },
  {
   "cell_type": "code",
   "execution_count": 35,
   "metadata": {},
   "outputs": [
    {
     "data": {
      "image/png": "[encoded data removed]",
      "text/plain": [
       "<Figure size 432x288 with 1 Axes>"
      ]
     },
     "metadata": {
      "needs_background": "light"
     },
     "output_type": "display_data"
    },
    {
     "data": {
      "image/png": "[encoded data removed]",
      "text/plain": [
       "<Figure size 432x288 with 1 Axes>"
      ]
     },
     "metadata": {
      "needs_background": "light"
     },
     "output_type": "display_data"
    }
   ],
   "source": [
    "fig1, ax1 = plt.subplots()\n",
    "fig2, ax2 = plt.subplots()\n",
    "\n",
    "ax1.barh(actress_names1, actress_wins1)\n",
    "ax1.invert_yaxis()\n",
    "ax2.barh(actress_names2, actress_lose2)\n",
    "\n",
    "ax1.set_title('Top 10 actresses')\n",
    "ax1.set_xlabel('Number of wins')\n",
    "\n",
    "ax2.set_title('Loser 10 actresses')\n",
    "ax2.set_xlabel('Number of loses')\n",
    "\n",
    "\n",
    "plt.tight_layout()\n",
    "plt.show()"
   ]
  },
  {
   "cell_type": "code",
   "execution_count": 36,
   "metadata": {},
   "outputs": [],
   "source": [
    "writer = main[main['category'].str.find('WRITING') == 0]\n",
    "writer_count1 = writer[(writer['winner'] == True) & (writer['name'].notnull())]\n",
    "writer_count2 = writer[(writer['winner'] == False) & (writer['name'].notnull())]\n",
    "\n",
    "writer_counter1 = Counter()\n",
    "writer_counter2 = Counter()\n",
    "\n",
    "\n",
    "writer_counter1.update(writer_count1['name'])\n",
    "writer_counter2.update(writer_count2['name'])\n",
    "    \n",
    "writer_names1 = []\n",
    "writer_wins1 = []\n",
    "\n",
    "writer_names2 = []\n",
    "writer_lose2 = []\n",
    "    \n",
    "for item in writer_counter1.most_common(10):\n",
    "    writer_names1.append(item[0])\n",
    "    writer_wins1.append(item[1])\n",
    "    \n",
    "for item in writer_counter2.most_common(10):\n",
    "    writer_names2.append(item[0])\n",
    "    writer_lose2.append(item[1]) "
   ]
  },
  {
   "cell_type": "code",
   "execution_count": 37,
   "metadata": {},
   "outputs": [
    {
     "data": {
      "image/png": "[encoded data removed]",
      "text/plain": [
       "<Figure size 432x288 with 1 Axes>"
      ]
     },
     "metadata": {
      "needs_background": "light"
     },
     "output_type": "display_data"
    },
    {
     "data": {
      "image/png": "[encoded data removed]",
      "text/plain": [
       "<Figure size 432x288 with 1 Axes>"
      ]
     },
     "metadata": {
      "needs_background": "light"
     },
     "output_type": "display_data"
    }
   ],
   "source": [
    "fig1, ax1 = plt.subplots()\n",
    "fig2, ax2 = plt.subplots()\n",
    "\n",
    "ax1.barh(writer_names1, writer_wins1)\n",
    "ax1.invert_yaxis()\n",
    "ax2.barh(writer_names2, writer_lose2)\n",
    "\n",
    "ax1.set_title('Top 10 writers')\n",
    "ax1.set_xlabel('Number of wins')\n",
    "\n",
    "ax2.set_title('Loser 10 writers')\n",
    "ax2.set_xlabel('Number of loses')\n",
    "\n",
    "\n",
    "plt.tight_layout()\n",
    "plt.show()"
   ]
  },
  {
   "cell_type": "code",
   "execution_count": 38,
   "metadata": {},
   "outputs": [],
   "source": [
    "film_count1 = main[(main['film'].notnull()) & main['winner'] == True]\n",
    "film_count2 = main[(main['film'].isna() == False) & (main['winner'] == False)]\n",
    "\n",
    "film_counter1 = Counter()\n",
    "film_counter2 = Counter()\n",
    "\n",
    "\n",
    "\n",
    "film_counter1.update(film_count1['film'])\n",
    "film_counter2.update(film_count2['film'])\n",
    "    \n",
    "    \n",
    "film_names1 = []\n",
    "film_wins1 = []\n",
    "\n",
    "film_names2 = []\n",
    "film_lose2 = []\n",
    "    \n",
    "for item in film_counter1.most_common(5):\n",
    "    film_names1.append(item[0])\n",
    "    film_wins1.append(item[1])\n",
    "    \n",
    "for item in film_counter2.most_common(5):\n",
    "    film_names2.append(item[0])\n",
    "    film_lose2.append(item[1]) "
   ]
  },
  {
   "cell_type": "code",
   "execution_count": 39,
   "metadata": {},
   "outputs": [
    {
     "data": {
      "image/png": "[encoded data removed]",
      "text/plain": [
       "<Figure size 432x288 with 1 Axes>"
      ]
     },
     "metadata": {
      "needs_background": "light"
     },
     "output_type": "display_data"
    },
    {
     "data": {
      "image/png": "[encoded data removed]",
      "text/plain": [
       "<Figure size 432x288 with 1 Axes>"
      ]
     },
     "metadata": {
      "needs_background": "light"
     },
     "output_type": "display_data"
    }
   ],
   "source": [
    "fig1, ax1 = plt.subplots()\n",
    "fig2, ax2 = plt.subplots()\n",
    "\n",
    "ax1.barh(film_names1, film_wins1, align='center')\n",
    "ax1.invert_yaxis()\n",
    "ax2.barh(film_names2, film_lose2)\n",
    "\n",
    "ax1.set_title('Top 5 films')\n",
    "ax1.set_xlabel('Number of wins')\n",
    "\n",
    "ax2.set_title('Loser 5 films')\n",
    "ax2.set_xlabel('Number of loses')\n",
    "\n",
    "\n",
    "plt.tight_layout()\n",
    "plt.show()"
   ]
  },
  {
   "cell_type": "markdown",
   "metadata": {},
   "source": [
    "###### Conclusion\n",
    "From these graphs we can conclude that every category has their own leaders and celebrities\n",
    "+ Directors: John Ford got 4 statuettes and this is a record so far. William Wyler ranks second as the best (3 statuettes), but also ranks first as the worst(more than 8 loses).\n",
    "+ Actors: Jack Nicholson is the best actor with a maximum 3 wins and also he lost the most.\n",
    "+ Actresses: If you ask me who is the most active actress of the Academy Awards history, I will answer - Meryl Streep. She lose 18 times! Despite this she is the second best actress.\n",
    "+ Writers: Have you ever heard of Paddy Chayefsky? It's true that he is the best writers, because he won 3 statuettes. I feel sorry for Woody Allen... more than 8 loses.\n",
    "+ Films: Well, no wonder Titanic is the best movie ever according to Academy Awards. This film won 12 statuettes."
   ]
  },
  {
   "cell_type": "markdown",
   "metadata": {},
   "source": [
    "### 4.2. Analyze the production of films"
   ]
  },
  {
   "cell_type": "markdown",
   "metadata": {},
   "source": [
    "Indeed, behind the camera there are a lot of processes that the audience does not know about. I've been always interested in this thing. I was wondering how the budget managed, how the locations are choosed, editing and releasing process and so on. Here we have this opportunity and I what to start with pulling out the most popular release seasons. "
   ]
  },
  {
   "cell_type": "markdown",
   "metadata": {},
   "source": [
    "##### Warning: There is a problem that occurs when I try to add a new column for an existing table. Problem is written in the red box by compiler itself. Problem does not interfere with our analysis, so just ignore it."
   ]
  },
  {
   "cell_type": "markdown",
   "metadata": {},
   "source": [
    "&#8595;First, I need separate columns of months. Since where are using DatetimeIndex function we can't create new table. That is why we should add these column to our existing table."
   ]
  },
  {
   "cell_type": "code",
   "execution_count": 40,
   "metadata": {},
   "outputs": [
    {
     "name": "stderr",
     "output_type": "stream",
     "text": [
      "<ipython-input-40-65451eced81f>:2: SettingWithCopyWarning: \n",
      "A value is trying to be set on a copy of a slice from a DataFrame.\n",
      "Try using .loc[row_indexer,col_indexer] = value instead\n",
      "\n",
      "See the caveats in the documentation: https://pandas.pydata.org/pandas-docs/stable/user_guide/indexing.html#returning-a-view-versus-a-copy\n",
      "  main_detailed['release_month'] = pd.DatetimeIndex(main_detailed['release_date']).month\n"
     ]
    }
   ],
   "source": [
    "# Adding new column for out main_detailed table\n",
    "main_detailed['release_month'] = pd.DatetimeIndex(main_detailed['release_date']).month"
   ]
  },
  {
   "cell_type": "markdown",
   "metadata": {},
   "source": [
    "New column got data as a float type. For our analysis we need the real names of months. \n",
    "\n",
    "&#8595;Let's replace them by using replace() function."
   ]
  },
  {
   "cell_type": "code",
   "execution_count": 41,
   "metadata": {},
   "outputs": [
    {
     "name": "stderr",
     "output_type": "stream",
     "text": [
      "<ipython-input-41-18f160de669e>:2: SettingWithCopyWarning: \n",
      "A value is trying to be set on a copy of a slice from a DataFrame.\n",
      "Try using .loc[row_indexer,col_indexer] = value instead\n",
      "\n",
      "See the caveats in the documentation: https://pandas.pydata.org/pandas-docs/stable/user_guide/indexing.html#returning-a-view-versus-a-copy\n",
      "  main_detailed['release_month'] = main_detailed['release_month'].replace(1,'January')\n",
      "<ipython-input-41-18f160de669e>:3: SettingWithCopyWarning: \n",
      "A value is trying to be set on a copy of a slice from a DataFrame.\n",
      "Try using .loc[row_indexer,col_indexer] = value instead\n",
      "\n",
      "See the caveats in the documentation: https://pandas.pydata.org/pandas-docs/stable/user_guide/indexing.html#returning-a-view-versus-a-copy\n",
      "  main_detailed['release_month'] = main_detailed['release_month'].replace(2,'February')\n",
      "<ipython-input-41-18f160de669e>:4: SettingWithCopyWarning: \n",
      "A value is trying to be set on a copy of a slice from a DataFrame.\n",
      "Try using .loc[row_indexer,col_indexer] = value instead\n",
      "\n",
      "See the caveats in the documentation: https://pandas.pydata.org/pandas-docs/stable/user_guide/indexing.html#returning-a-view-versus-a-copy\n",
      "  main_detailed['release_month'] = main_detailed['release_month'].replace(3,'March')\n",
      "<ipython-input-41-18f160de669e>:5: SettingWithCopyWarning: \n",
      "A value is trying to be set on a copy of a slice from a DataFrame.\n",
      "Try using .loc[row_indexer,col_indexer] = value instead\n",
      "\n",
      "See the caveats in the documentation: https://pandas.pydata.org/pandas-docs/stable/user_guide/indexing.html#returning-a-view-versus-a-copy\n",
      "  main_detailed['release_month'] = main_detailed['release_month'].replace(4,'April')\n",
      "<ipython-input-41-18f160de669e>:6: SettingWithCopyWarning: \n",
      "A value is trying to be set on a copy of a slice from a DataFrame.\n",
      "Try using .loc[row_indexer,col_indexer] = value instead\n",
      "\n",
      "See the caveats in the documentation: https://pandas.pydata.org/pandas-docs/stable/user_guide/indexing.html#returning-a-view-versus-a-copy\n",
      "  main_detailed['release_month'] = main_detailed['release_month'].replace(5,'May')\n",
      "<ipython-input-41-18f160de669e>:7: SettingWithCopyWarning: \n",
      "A value is trying to be set on a copy of a slice from a DataFrame.\n",
      "Try using .loc[row_indexer,col_indexer] = value instead\n",
      "\n",
      "See the caveats in the documentation: https://pandas.pydata.org/pandas-docs/stable/user_guide/indexing.html#returning-a-view-versus-a-copy\n",
      "  main_detailed['release_month'] = main_detailed['release_month'].replace(6,'June')\n",
      "<ipython-input-41-18f160de669e>:8: SettingWithCopyWarning: \n",
      "A value is trying to be set on a copy of a slice from a DataFrame.\n",
      "Try using .loc[row_indexer,col_indexer] = value instead\n",
      "\n",
      "See the caveats in the documentation: https://pandas.pydata.org/pandas-docs/stable/user_guide/indexing.html#returning-a-view-versus-a-copy\n",
      "  main_detailed['release_month'] = main_detailed['release_month'].replace(7,'July')\n",
      "<ipython-input-41-18f160de669e>:9: SettingWithCopyWarning: \n",
      "A value is trying to be set on a copy of a slice from a DataFrame.\n",
      "Try using .loc[row_indexer,col_indexer] = value instead\n",
      "\n",
      "See the caveats in the documentation: https://pandas.pydata.org/pandas-docs/stable/user_guide/indexing.html#returning-a-view-versus-a-copy\n",
      "  main_detailed['release_month'] = main_detailed['release_month'].replace(8,'August')\n",
      "<ipython-input-41-18f160de669e>:10: SettingWithCopyWarning: \n",
      "A value is trying to be set on a copy of a slice from a DataFrame.\n",
      "Try using .loc[row_indexer,col_indexer] = value instead\n",
      "\n",
      "See the caveats in the documentation: https://pandas.pydata.org/pandas-docs/stable/user_guide/indexing.html#returning-a-view-versus-a-copy\n",
      "  main_detailed['release_month'] = main_detailed['release_month'].replace(9,'September')\n",
      "<ipython-input-41-18f160de669e>:11: SettingWithCopyWarning: \n",
      "A value is trying to be set on a copy of a slice from a DataFrame.\n",
      "Try using .loc[row_indexer,col_indexer] = value instead\n",
      "\n",
      "See the caveats in the documentation: https://pandas.pydata.org/pandas-docs/stable/user_guide/indexing.html#returning-a-view-versus-a-copy\n",
      "  main_detailed['release_month'] = main_detailed['release_month'].replace(10,'October')\n",
      "<ipython-input-41-18f160de669e>:12: SettingWithCopyWarning: \n",
      "A value is trying to be set on a copy of a slice from a DataFrame.\n",
      "Try using .loc[row_indexer,col_indexer] = value instead\n",
      "\n",
      "See the caveats in the documentation: https://pandas.pydata.org/pandas-docs/stable/user_guide/indexing.html#returning-a-view-versus-a-copy\n",
      "  main_detailed['release_month'] = main_detailed['release_month'].replace(11,'November')\n",
      "<ipython-input-41-18f160de669e>:13: SettingWithCopyWarning: \n",
      "A value is trying to be set on a copy of a slice from a DataFrame.\n",
      "Try using .loc[row_indexer,col_indexer] = value instead\n",
      "\n",
      "See the caveats in the documentation: https://pandas.pydata.org/pandas-docs/stable/user_guide/indexing.html#returning-a-view-versus-a-copy\n",
      "  main_detailed['release_month'] = main_detailed['release_month'].replace(12,'December')\n"
     ]
    }
   ],
   "source": [
    "# Replace numbers with the real month names\n",
    "main_detailed['release_month'] = main_detailed['release_month'].replace(1,'January')\n",
    "main_detailed['release_month'] = main_detailed['release_month'].replace(2,'February')\n",
    "main_detailed['release_month'] = main_detailed['release_month'].replace(3,'March')\n",
    "main_detailed['release_month'] = main_detailed['release_month'].replace(4,'April')\n",
    "main_detailed['release_month'] = main_detailed['release_month'].replace(5,'May')\n",
    "main_detailed['release_month'] = main_detailed['release_month'].replace(6,'June')\n",
    "main_detailed['release_month'] = main_detailed['release_month'].replace(7,'July')\n",
    "main_detailed['release_month'] = main_detailed['release_month'].replace(8,'August')\n",
    "main_detailed['release_month'] = main_detailed['release_month'].replace(9,'September')\n",
    "main_detailed['release_month'] = main_detailed['release_month'].replace(10,'October')\n",
    "main_detailed['release_month'] = main_detailed['release_month'].replace(11,'November')\n",
    "main_detailed['release_month'] = main_detailed['release_month'].replace(12,'December')"
   ]
  },
  {
   "cell_type": "markdown",
   "metadata": {},
   "source": [
    "Now, I would like to have the season of each movie release. I can make it by following the previous steps. \n",
    "\n",
    "&#8595;We just have to copy the previous column and replace all months names by their number of season."
   ]
  },
  {
   "cell_type": "code",
   "execution_count": 42,
   "metadata": {},
   "outputs": [
    {
     "name": "stderr",
     "output_type": "stream",
     "text": [
      "<ipython-input-42-002f6effc7d9>:2: SettingWithCopyWarning: \n",
      "A value is trying to be set on a copy of a slice from a DataFrame.\n",
      "Try using .loc[row_indexer,col_indexer] = value instead\n",
      "\n",
      "See the caveats in the documentation: https://pandas.pydata.org/pandas-docs/stable/user_guide/indexing.html#returning-a-view-versus-a-copy\n",
      "  main_detailed['release_season'] = main_detailed['release_month']\n"
     ]
    }
   ],
   "source": [
    "# Copying previous column\n",
    "main_detailed['release_season'] = main_detailed['release_month']"
   ]
  },
  {
   "cell_type": "code",
   "execution_count": 43,
   "metadata": {},
   "outputs": [
    {
     "name": "stderr",
     "output_type": "stream",
     "text": [
      "<ipython-input-43-9984b9dd30b1>:2: SettingWithCopyWarning: \n",
      "A value is trying to be set on a copy of a slice from a DataFrame.\n",
      "Try using .loc[row_indexer,col_indexer] = value instead\n",
      "\n",
      "See the caveats in the documentation: https://pandas.pydata.org/pandas-docs/stable/user_guide/indexing.html#returning-a-view-versus-a-copy\n",
      "  main_detailed['release_season'] = main_detailed['release_season'].replace('January',4)\n",
      "<ipython-input-43-9984b9dd30b1>:3: SettingWithCopyWarning: \n",
      "A value is trying to be set on a copy of a slice from a DataFrame.\n",
      "Try using .loc[row_indexer,col_indexer] = value instead\n",
      "\n",
      "See the caveats in the documentation: https://pandas.pydata.org/pandas-docs/stable/user_guide/indexing.html#returning-a-view-versus-a-copy\n",
      "  main_detailed['release_season'] = main_detailed['release_season'].replace('February',4)\n",
      "<ipython-input-43-9984b9dd30b1>:4: SettingWithCopyWarning: \n",
      "A value is trying to be set on a copy of a slice from a DataFrame.\n",
      "Try using .loc[row_indexer,col_indexer] = value instead\n",
      "\n",
      "See the caveats in the documentation: https://pandas.pydata.org/pandas-docs/stable/user_guide/indexing.html#returning-a-view-versus-a-copy\n",
      "  main_detailed['release_season'] = main_detailed['release_season'].replace('March',1)\n",
      "<ipython-input-43-9984b9dd30b1>:5: SettingWithCopyWarning: \n",
      "A value is trying to be set on a copy of a slice from a DataFrame.\n",
      "Try using .loc[row_indexer,col_indexer] = value instead\n",
      "\n",
      "See the caveats in the documentation: https://pandas.pydata.org/pandas-docs/stable/user_guide/indexing.html#returning-a-view-versus-a-copy\n",
      "  main_detailed['release_season'] = main_detailed['release_season'].replace('April',1)\n",
      "<ipython-input-43-9984b9dd30b1>:6: SettingWithCopyWarning: \n",
      "A value is trying to be set on a copy of a slice from a DataFrame.\n",
      "Try using .loc[row_indexer,col_indexer] = value instead\n",
      "\n",
      "See the caveats in the documentation: https://pandas.pydata.org/pandas-docs/stable/user_guide/indexing.html#returning-a-view-versus-a-copy\n",
      "  main_detailed['release_season'] = main_detailed['release_season'].replace('May',1)\n",
      "<ipython-input-43-9984b9dd30b1>:7: SettingWithCopyWarning: \n",
      "A value is trying to be set on a copy of a slice from a DataFrame.\n",
      "Try using .loc[row_indexer,col_indexer] = value instead\n",
      "\n",
      "See the caveats in the documentation: https://pandas.pydata.org/pandas-docs/stable/user_guide/indexing.html#returning-a-view-versus-a-copy\n",
      "  main_detailed['release_season'] = main_detailed['release_season'].replace('June',2)\n",
      "<ipython-input-43-9984b9dd30b1>:8: SettingWithCopyWarning: \n",
      "A value is trying to be set on a copy of a slice from a DataFrame.\n",
      "Try using .loc[row_indexer,col_indexer] = value instead\n",
      "\n",
      "See the caveats in the documentation: https://pandas.pydata.org/pandas-docs/stable/user_guide/indexing.html#returning-a-view-versus-a-copy\n",
      "  main_detailed['release_season'] = main_detailed['release_season'].replace('July',2)\n",
      "<ipython-input-43-9984b9dd30b1>:9: SettingWithCopyWarning: \n",
      "A value is trying to be set on a copy of a slice from a DataFrame.\n",
      "Try using .loc[row_indexer,col_indexer] = value instead\n",
      "\n",
      "See the caveats in the documentation: https://pandas.pydata.org/pandas-docs/stable/user_guide/indexing.html#returning-a-view-versus-a-copy\n",
      "  main_detailed['release_season'] = main_detailed['release_season'].replace('August',2)\n",
      "<ipython-input-43-9984b9dd30b1>:10: SettingWithCopyWarning: \n",
      "A value is trying to be set on a copy of a slice from a DataFrame.\n",
      "Try using .loc[row_indexer,col_indexer] = value instead\n",
      "\n",
      "See the caveats in the documentation: https://pandas.pydata.org/pandas-docs/stable/user_guide/indexing.html#returning-a-view-versus-a-copy\n",
      "  main_detailed['release_season'] = main_detailed['release_season'].replace('September',3)\n",
      "<ipython-input-43-9984b9dd30b1>:11: SettingWithCopyWarning: \n",
      "A value is trying to be set on a copy of a slice from a DataFrame.\n",
      "Try using .loc[row_indexer,col_indexer] = value instead\n",
      "\n",
      "See the caveats in the documentation: https://pandas.pydata.org/pandas-docs/stable/user_guide/indexing.html#returning-a-view-versus-a-copy\n",
      "  main_detailed['release_season'] = main_detailed['release_season'].replace('October',3)\n",
      "<ipython-input-43-9984b9dd30b1>:12: SettingWithCopyWarning: \n",
      "A value is trying to be set on a copy of a slice from a DataFrame.\n",
      "Try using .loc[row_indexer,col_indexer] = value instead\n",
      "\n",
      "See the caveats in the documentation: https://pandas.pydata.org/pandas-docs/stable/user_guide/indexing.html#returning-a-view-versus-a-copy\n",
      "  main_detailed['release_season'] = main_detailed['release_season'].replace('November',3)\n",
      "<ipython-input-43-9984b9dd30b1>:13: SettingWithCopyWarning: \n",
      "A value is trying to be set on a copy of a slice from a DataFrame.\n",
      "Try using .loc[row_indexer,col_indexer] = value instead\n",
      "\n",
      "See the caveats in the documentation: https://pandas.pydata.org/pandas-docs/stable/user_guide/indexing.html#returning-a-view-versus-a-copy\n",
      "  main_detailed['release_season'] = main_detailed['release_season'].replace('December',4)\n"
     ]
    }
   ],
   "source": [
    "# Replacing the names by numbers\n",
    "main_detailed['release_season'] = main_detailed['release_season'].replace('January',4)\n",
    "main_detailed['release_season'] = main_detailed['release_season'].replace('February',4)\n",
    "main_detailed['release_season'] = main_detailed['release_season'].replace('March',1)\n",
    "main_detailed['release_season'] = main_detailed['release_season'].replace('April',1)\n",
    "main_detailed['release_season'] = main_detailed['release_season'].replace('May',1)\n",
    "main_detailed['release_season'] = main_detailed['release_season'].replace('June',2)\n",
    "main_detailed['release_season'] = main_detailed['release_season'].replace('July',2)\n",
    "main_detailed['release_season'] = main_detailed['release_season'].replace('August',2)\n",
    "main_detailed['release_season'] = main_detailed['release_season'].replace('September',3)\n",
    "main_detailed['release_season'] = main_detailed['release_season'].replace('October',3)\n",
    "main_detailed['release_season'] = main_detailed['release_season'].replace('November',3)\n",
    "main_detailed['release_season'] = main_detailed['release_season'].replace('December',4)"
   ]
  },
  {
   "cell_type": "markdown",
   "metadata": {},
   "source": [
    "&#8595;And the last step for this data preparation is to replace numbers by season names."
   ]
  },
  {
   "cell_type": "code",
   "execution_count": 44,
   "metadata": {},
   "outputs": [
    {
     "name": "stderr",
     "output_type": "stream",
     "text": [
      "<ipython-input-44-080d950163a5>:1: SettingWithCopyWarning: \n",
      "A value is trying to be set on a copy of a slice from a DataFrame.\n",
      "Try using .loc[row_indexer,col_indexer] = value instead\n",
      "\n",
      "See the caveats in the documentation: https://pandas.pydata.org/pandas-docs/stable/user_guide/indexing.html#returning-a-view-versus-a-copy\n",
      "  main_detailed['release_season'] = main_detailed['release_season'].replace(1,'Spring')\n",
      "<ipython-input-44-080d950163a5>:2: SettingWithCopyWarning: \n",
      "A value is trying to be set on a copy of a slice from a DataFrame.\n",
      "Try using .loc[row_indexer,col_indexer] = value instead\n",
      "\n",
      "See the caveats in the documentation: https://pandas.pydata.org/pandas-docs/stable/user_guide/indexing.html#returning-a-view-versus-a-copy\n",
      "  main_detailed['release_season'] = main_detailed['release_season'].replace(2,'Summer')\n",
      "<ipython-input-44-080d950163a5>:3: SettingWithCopyWarning: \n",
      "A value is trying to be set on a copy of a slice from a DataFrame.\n",
      "Try using .loc[row_indexer,col_indexer] = value instead\n",
      "\n",
      "See the caveats in the documentation: https://pandas.pydata.org/pandas-docs/stable/user_guide/indexing.html#returning-a-view-versus-a-copy\n",
      "  main_detailed['release_season'] = main_detailed['release_season'].replace(3,'Fall')\n",
      "<ipython-input-44-080d950163a5>:4: SettingWithCopyWarning: \n",
      "A value is trying to be set on a copy of a slice from a DataFrame.\n",
      "Try using .loc[row_indexer,col_indexer] = value instead\n",
      "\n",
      "See the caveats in the documentation: https://pandas.pydata.org/pandas-docs/stable/user_guide/indexing.html#returning-a-view-versus-a-copy\n",
      "  main_detailed['release_season'] = main_detailed['release_season'].replace(4,'Winter')\n"
     ]
    }
   ],
   "source": [
    "main_detailed['release_season'] = main_detailed['release_season'].replace(1,'Spring')\n",
    "main_detailed['release_season'] = main_detailed['release_season'].replace(2,'Summer')\n",
    "main_detailed['release_season'] = main_detailed['release_season'].replace(3,'Fall')\n",
    "main_detailed['release_season'] = main_detailed['release_season'].replace(4,'Winter')"
   ]
  },
  {
   "cell_type": "markdown",
   "metadata": {},
   "source": [
    "After all we have to collect all the data into the arrays. \n",
    "\n",
    "&#8595;Select unique seasons, and then remove last element because it's an empty value"
   ]
  },
  {
   "cell_type": "code",
   "execution_count": 45,
   "metadata": {},
   "outputs": [],
   "source": [
    "# Selecting unique values from column\n",
    "seasons = main_detailed['release_season'].unique()\n",
    "\n",
    "# Deleting the last element\n",
    "seasons = np.delete(seasons, 4)"
   ]
  },
  {
   "cell_type": "markdown",
   "metadata": {},
   "source": [
    "&#8595;Count the occurence of each season and fill it into the array"
   ]
  },
  {
   "cell_type": "code",
   "execution_count": 46,
   "metadata": {},
   "outputs": [],
   "source": [
    "# Counting using value_counts()\n",
    "winter_count = main_detailed.release_season.value_counts().Winter\n",
    "spring_count = main_detailed.release_season.value_counts().Spring\n",
    "summer_count = main_detailed.release_season.value_counts().Summer\n",
    "fall_count = main_detailed.release_season.value_counts().Fall\n",
    "\n",
    "# Fill array\n",
    "seasons_count = [winter_count, spring_count, summer_count, fall_count]"
   ]
  },
  {
   "cell_type": "markdown",
   "metadata": {},
   "source": [
    "&#8595;I decided to fill the month names by my own, because if we will do it as the previous one, our month names will not be ordered."
   ]
  },
  {
   "cell_type": "code",
   "execution_count": 47,
   "metadata": {},
   "outputs": [],
   "source": [
    "months = ['January', 'February', 'March', 'April', 'May', 'June',\n",
    "         'July', 'August', 'September', 'October', 'November',\n",
    "         'December']"
   ]
  },
  {
   "cell_type": "code",
   "execution_count": 48,
   "metadata": {},
   "outputs": [],
   "source": [
    "# Counting using value_counts()\n",
    "january_count = main_detailed.release_month.value_counts().January\n",
    "february_count = main_detailed.release_month.value_counts().February\n",
    "march_count = main_detailed.release_month.value_counts().March\n",
    "april_count = main_detailed.release_month.value_counts().April\n",
    "may_count = main_detailed.release_month.value_counts().May\n",
    "june_count = main_detailed.release_month.value_counts().June\n",
    "july_count = main_detailed.release_month.value_counts().July\n",
    "august_count = main_detailed.release_month.value_counts().August\n",
    "september_count = main_detailed.release_month.value_counts().September\n",
    "october_count = main_detailed.release_month.value_counts().October\n",
    "november_count = main_detailed.release_month.value_counts().November\n",
    "december_count = main_detailed.release_month.value_counts().December\n",
    "\n",
    "# Fill array\n",
    "months_count = [january_count, february_count, march_count, april_count,\n",
    "               may_count, june_count, july_count, august_count,\n",
    "               september_count, october_count, november_count, december_count]"
   ]
  },
  {
   "cell_type": "markdown",
   "metadata": {},
   "source": [
    "And the last thing is to draw the graph. I chose nested pie chart in order to provide info about each month as well as season."
   ]
  },
  {
   "cell_type": "code",
   "execution_count": 49,
   "metadata": {},
   "outputs": [
    {
     "data": {
      "image/png": "[encoded data removed]",
      "text/plain": [
       "<Figure size 432x288 with 1 Axes>"
      ]
     },
     "metadata": {},
     "output_type": "display_data"
    }
   ],
   "source": [
    "# Create colors\n",
    "winter, spring, summer, fall=[plt.cm.Blues, plt.cm.Greens, plt.cm.Reds, plt.cm.Oranges]\n",
    " \n",
    "# First Ring (Inside)\n",
    "fig, ax = plt.subplots()\n",
    "ax.axis('equal')\n",
    "mypie, _= ax.pie(seasons_count, radius=1.5, labels=seasons, labeldistance=0.7, colors=[winter(0.8), spring(0.7), summer(0.6), fall(0.5)] )\n",
    "plt.setp(mypie, width=0.8, edgecolor='white')\n",
    " \n",
    "\n",
    "# Second Ring (Outside)\n",
    "mypie2, _ = ax.pie(months_count, radius=2.5-0.5, labels=months, startangle = 59, labeldistance=0.8, \n",
    "                   colors=[winter(0.5), winter(0.4), \n",
    "                            spring(0.5), spring(0.4), spring(0.3),\n",
    "                            summer(0.5), summer(0.4), summer(0.3),\n",
    "                            fall(0.5), fall(0.4), fall(0.3),\n",
    "                            winter(0.5)])\n",
    "\n",
    "plt.setp(mypie2, width=0.5, edgecolor='white')\n",
    "plt.margins(0,0)\n",
    "plt.show()"
   ]
  },
  {
   "cell_type": "markdown",
   "metadata": {},
   "source": [
    "###### Conclusion\n",
    "I'm sure marketers would pay attention to this analysis because it shows when and even in what month most of the films are released. Perhaps, the success of the film depends not only on the film, but also when and under what conditions it was released."
   ]
  },
  {
   "cell_type": "markdown",
   "metadata": {},
   "source": [
    "### 4.3. Analyze directors and actors/actresses"
   ]
  },
  {
   "cell_type": "markdown",
   "metadata": {},
   "source": [
    "I wonder if there is any pattern in a way that directors and actors/actresses get their Oscars. Let's analyze their personal information. Maybe it depends on their age? Let's check\n",
    "In our 'main_personal' table there is a column that contains dates of births. But the problem is that it is an object, not a date type. Furthermore, the day is not fully written sometimes, same with the year. I decided to create a function that will detect '-' and will add 0 before days."
   ]
  },
  {
   "cell_type": "code",
   "execution_count": 50,
   "metadata": {},
   "outputs": [
    {
     "data": {
      "text/plain": [
       "0       23-Jul-1884\n",
       "1         06-Oct-06\n",
       "2       30-Sep-1895\n",
       "4       23-Apr-1894\n",
       "5       29-Mar-1889\n",
       "           ...     \n",
       "1493      25-May-72\n",
       "1494      29-Mar-67\n",
       "1519      04-Nov-69\n",
       "1520      26-Dec-71\n",
       "1529      01-Mar-83\n",
       "Name: date_of_birth, Length: 340, dtype: object"
      ]
     },
     "execution_count": 50,
     "metadata": {},
     "output_type": "execute_result"
    }
   ],
   "source": [
    "#Declaring a function zero()\n",
    "\n",
    "x = main_personal['date_of_birth']\n",
    "def zero(x):\n",
    "    index = x.find('-') #detect '-'\n",
    "    x = '0' + x[:index] + x[index:] #add 0\n",
    "    if chr(48) <= x[2] <= chr(57): #means if the character is in the range of ASCII code\n",
    "        x = x[1] + x[index:] #then move to the right\n",
    "    return x\n",
    "\n",
    "birthday = main_personal['date_of_birth'].apply(zero)\n",
    "birthday"
   ]
  },
  {
   "cell_type": "markdown",
   "metadata": {},
   "source": [
    "&#8595;Similar logic with year."
   ]
  },
  {
   "cell_type": "code",
   "execution_count": 51,
   "metadata": {},
   "outputs": [
    {
     "data": {
      "text/plain": [
       "0       23-Jul-1884\n",
       "1       06-Oct-1906\n",
       "2       30-Sep-1895\n",
       "4       23-Apr-1894\n",
       "5       29-Mar-1889\n",
       "           ...     \n",
       "1493    25-May-1972\n",
       "1494    29-Mar-1967\n",
       "1519    04-Nov-1969\n",
       "1520    26-Dec-1971\n",
       "1529    01-Mar-1983\n",
       "Name: date_of_birth, Length: 340, dtype: object"
      ]
     },
     "execution_count": 51,
     "metadata": {},
     "output_type": "execute_result"
    }
   ],
   "source": [
    "def year(x):\n",
    "    if len(x) == 9:\n",
    "        x = x[:7] + '19' + x[7:]\n",
    "    return x\n",
    "\n",
    "birthdate = birthday.apply(year)\n",
    "birthdate"
   ]
  },
  {
   "cell_type": "markdown",
   "metadata": {},
   "source": [
    "&#8595;Since we've done with setting dates, let's record them into another column in order to access them easily."
   ]
  },
  {
   "cell_type": "code",
   "execution_count": 52,
   "metadata": {},
   "outputs": [],
   "source": [
    "main_personal['birthdate'] = birthdate"
   ]
  },
  {
   "cell_type": "markdown",
   "metadata": {},
   "source": [
    "&#8595;If there are dates that are bigger than the normal size, drop them."
   ]
  },
  {
   "cell_type": "code",
   "execution_count": 53,
   "metadata": {},
   "outputs": [],
   "source": [
    "index1 = main_personal[main_personal['birthdate'].str.len() < 11].index\n",
    "index2 = main_personal[main_personal['birthdate'].str.len() > 11].index\n",
    "main_personal.drop(index1, axis = 0, inplace = True)\n",
    "main_personal.drop(index2, axis = 0, inplace = True)"
   ]
  },
  {
   "cell_type": "markdown",
   "metadata": {},
   "source": [
    "&#8595;Now let's change it's data type into the datetime and get rid of the old column."
   ]
  },
  {
   "cell_type": "code",
   "execution_count": 54,
   "metadata": {},
   "outputs": [],
   "source": [
    "main_personal['birthdate'] = pd.to_datetime(main_personal['birthdate'])"
   ]
  },
  {
   "cell_type": "code",
   "execution_count": 55,
   "metadata": {},
   "outputs": [],
   "source": [
    "del main_personal['date_of_birth']"
   ]
  },
  {
   "cell_type": "markdown",
   "metadata": {},
   "source": [
    "&#8595;Data is cleaned for this task, let's dive into the process of selecting data. Actually, it is the same logic that we did before, but with some additional steps. First, we have collect all data by category (director, actor and actress). Then, we have to subtract the year of film and year of birth of the person, in order to get his/her age at that time."
   ]
  },
  {
   "cell_type": "code",
   "execution_count": 56,
   "metadata": {},
   "outputs": [],
   "source": [
    "#Creating tables for categories by keywords\n",
    "directing = main_personal[main_personal['category'].str.find('DIRECTING') == 0]\n",
    "\n",
    "actor = main_personal[main_personal['category'].str.find('ACTOR') == 0]\n",
    "\n",
    "actress = main_personal[main_personal['category'].str.find('ACTRESS') == 0]"
   ]
  },
  {
   "cell_type": "code",
   "execution_count": 57,
   "metadata": {
    "scrolled": true
   },
   "outputs": [
    {
     "name": "stderr",
     "output_type": "stream",
     "text": [
      "<ipython-input-57-158b8f8a75af>:2: SettingWithCopyWarning: \n",
      "A value is trying to be set on a copy of a slice from a DataFrame.\n",
      "Try using .loc[row_indexer,col_indexer] = value instead\n",
      "\n",
      "See the caveats in the documentation: https://pandas.pydata.org/pandas-docs/stable/user_guide/indexing.html#returning-a-view-versus-a-copy\n",
      "  directing['birthyear'] = pd.DatetimeIndex(directing['birthdate']).year\n",
      "<ipython-input-57-158b8f8a75af>:5: SettingWithCopyWarning: \n",
      "A value is trying to be set on a copy of a slice from a DataFrame.\n",
      "Try using .loc[row_indexer,col_indexer] = value instead\n",
      "\n",
      "See the caveats in the documentation: https://pandas.pydata.org/pandas-docs/stable/user_guide/indexing.html#returning-a-view-versus-a-copy\n",
      "  directing['age'] = directing.apply(lambda x: (x['birthyear'] - x['year_film'])*(-1), axis=1)\n"
     ]
    }
   ],
   "source": [
    "#Pull out the year from the date using DatetimeIndex() and year() functions\n",
    "directing['birthyear'] = pd.DatetimeIndex(directing['birthdate']).year\n",
    "\n",
    "#Subtract the 'birthyear' and 'year_film' using lambda\n",
    "directing['age'] = directing.apply(lambda x: (x['birthyear'] - x['year_film'])*(-1), axis=1)"
   ]
  },
  {
   "cell_type": "markdown",
   "metadata": {},
   "source": [
    "&#8595;Same steps with other categories"
   ]
  },
  {
   "cell_type": "code",
   "execution_count": 58,
   "metadata": {},
   "outputs": [
    {
     "name": "stderr",
     "output_type": "stream",
     "text": [
      "<ipython-input-58-fc95837583db>:1: SettingWithCopyWarning: \n",
      "A value is trying to be set on a copy of a slice from a DataFrame.\n",
      "Try using .loc[row_indexer,col_indexer] = value instead\n",
      "\n",
      "See the caveats in the documentation: https://pandas.pydata.org/pandas-docs/stable/user_guide/indexing.html#returning-a-view-versus-a-copy\n",
      "  actor['birthyear'] = pd.DatetimeIndex(actor['birthdate']).year\n",
      "<ipython-input-58-fc95837583db>:2: SettingWithCopyWarning: \n",
      "A value is trying to be set on a copy of a slice from a DataFrame.\n",
      "Try using .loc[row_indexer,col_indexer] = value instead\n",
      "\n",
      "See the caveats in the documentation: https://pandas.pydata.org/pandas-docs/stable/user_guide/indexing.html#returning-a-view-versus-a-copy\n",
      "  actor['age'] = actor.apply(lambda x: (x['birthyear'] - x['year_film'])*(-1), axis=1)\n"
     ]
    }
   ],
   "source": [
    "actor['birthyear'] = pd.DatetimeIndex(actor['birthdate']).year\n",
    "actor['age'] = actor.apply(lambda x: (x['birthyear'] - x['year_film'])*(-1), axis=1)"
   ]
  },
  {
   "cell_type": "code",
   "execution_count": 59,
   "metadata": {},
   "outputs": [
    {
     "name": "stderr",
     "output_type": "stream",
     "text": [
      "<ipython-input-59-37192b4424cd>:1: SettingWithCopyWarning: \n",
      "A value is trying to be set on a copy of a slice from a DataFrame.\n",
      "Try using .loc[row_indexer,col_indexer] = value instead\n",
      "\n",
      "See the caveats in the documentation: https://pandas.pydata.org/pandas-docs/stable/user_guide/indexing.html#returning-a-view-versus-a-copy\n",
      "  actress['birthyear'] = pd.DatetimeIndex(actress['birthdate']).year\n",
      "<ipython-input-59-37192b4424cd>:2: SettingWithCopyWarning: \n",
      "A value is trying to be set on a copy of a slice from a DataFrame.\n",
      "Try using .loc[row_indexer,col_indexer] = value instead\n",
      "\n",
      "See the caveats in the documentation: https://pandas.pydata.org/pandas-docs/stable/user_guide/indexing.html#returning-a-view-versus-a-copy\n",
      "  actress['age'] = actress.apply(lambda x: (x['birthyear'] - x['year_film'])*(-1), axis=1)\n"
     ]
    }
   ],
   "source": [
    "actress['birthyear'] = pd.DatetimeIndex(actress['birthdate']).year\n",
    "actress['age'] = actress.apply(lambda x: (x['birthyear'] - x['year_film'])*(-1), axis=1)"
   ]
  },
  {
   "cell_type": "markdown",
   "metadata": {},
   "source": [
    "&#8595;When data for the task is ready, draw the graph. For grouping ages histogram is the best choice."
   ]
  },
  {
   "cell_type": "code",
   "execution_count": 60,
   "metadata": {},
   "outputs": [
    {
     "data": {
      "image/png": "[encoded data removed]",
      "text/plain": [
       "<Figure size 432x288 with 1 Axes>"
      ]
     },
     "metadata": {
      "needs_background": "light"
     },
     "output_type": "display_data"
    },
    {
     "data": {
      "image/png": "[encoded data removed]",
      "text/plain": [
       "<Figure size 432x288 with 1 Axes>"
      ]
     },
     "metadata": {
      "needs_background": "light"
     },
     "output_type": "display_data"
    },
    {
     "data": {
      "image/png": "[encoded data removed]",
      "text/plain": [
       "<Figure size 432x288 with 1 Axes>"
      ]
     },
     "metadata": {
      "needs_background": "light"
     },
     "output_type": "display_data"
    }
   ],
   "source": [
    "from matplotlib import pyplot as plt\n",
    "\n",
    "fig1, ax1 = plt.subplots()\n",
    "fig2, ax2 = plt.subplots()\n",
    "fig2, ax3 = plt.subplots()\n",
    "\n",
    "ages1 = directing['age']\n",
    "\n",
    "ax1.hist(ages1, bins = 10, edgecolor = 'black')\n",
    "ax1.set_title('Ages of Directors')\n",
    "ax1.set_xlabel('Ages')\n",
    "ax1.set_ylabel('Number of directors')\n",
    "\n",
    "ages2 = actor['age']\n",
    "\n",
    "ax2.hist(ages2, bins = 10, edgecolor = 'black')\n",
    "ax2.set_title('Ages of Actors')\n",
    "ax2.set_xlabel('Ages')\n",
    "ax2.set_ylabel('Number of actors')\n",
    "\n",
    "ages3 = actress['age']\n",
    "\n",
    "ax3.hist(ages3, bins = 15, edgecolor = 'black')\n",
    "ax3.set_title('Ages of Actresses')\n",
    "ax3.set_xlabel('Ages')\n",
    "ax3.set_ylabel('Number of actresses')\n",
    "\n",
    "\n",
    "plt.tight_layout()\n",
    "plt.show()"
   ]
  },
  {
   "cell_type": "markdown",
   "metadata": {},
   "source": [
    "Now that it became clear to us about the ages of nominants, let's see which race ethnicity group they represent, and what is their religions. \n",
    "\n",
    "&#8595;Let's fill in a separate tables every group."
   ]
  },
  {
   "cell_type": "code",
   "execution_count": 61,
   "metadata": {},
   "outputs": [],
   "source": [
    "# Filling info into the separate tables\n",
    "black = main_personal[main_personal['race_ethnicity'] == 'Black']\n",
    "white = main_personal[main_personal['race_ethnicity'] == 'White']\n",
    "asian = main_personal[main_personal['race_ethnicity'] == 'Asian']"
   ]
  },
  {
   "cell_type": "markdown",
   "metadata": {},
   "source": [
    "In event of religions tt can be seen from our dataset that there are a lot of empty values - means that we could not know beliefs of every participant. \n",
    "\n",
    "&#8595;Thus, let's choose only those that are available."
   ]
  },
  {
   "cell_type": "code",
   "execution_count": 62,
   "metadata": {},
   "outputs": [],
   "source": [
    "# Filling info into another table and dropping duplicates\n",
    "religion = main_personal[main_personal['religion'] != 'Na']\n",
    "religion_types = religion['religion'].drop_duplicates()"
   ]
  },
  {
   "cell_type": "code",
   "execution_count": 63,
   "metadata": {},
   "outputs": [],
   "source": [
    "catholic = main_personal[main_personal['religion'].str.find('Roman Catholic') == 0]\n",
    "jewish = main_personal[main_personal['religion'].str.find('Jewish') == 0]\n",
    "christian = main_personal[main_personal['religion'].str.find('Christian') == 0]\n",
    "protestant = main_personal[main_personal['religion'].str.find('Protestant') == 0]\n",
    "baptist = main_personal[main_personal['religion'].str.find('Baptist') == 0]\n",
    "buddhist = main_personal[main_personal['religion'].str.find('Buddhist') == 0]\n",
    "hindu = main_personal[main_personal['religion'].str.find('Hindu') == 0]\n",
    "atheist = main_personal[main_personal['religion'].str.find('Atheist') == 0]"
   ]
  },
  {
   "cell_type": "markdown",
   "metadata": {},
   "source": [
    "&#8595;I've decided to show both pie charts due to the relations of topics"
   ]
  },
  {
   "cell_type": "code",
   "execution_count": 64,
   "metadata": {},
   "outputs": [
    {
     "data": {
      "image/png": "[encoded data removed]",
      "text/plain": [
       "<Figure size 432x288 with 1 Axes>"
      ]
     },
     "metadata": {},
     "output_type": "display_data"
    },
    {
     "data": {
      "image/png": "[encoded data removed]",
      "text/plain": [
       "<Figure size 432x288 with 1 Axes>"
      ]
     },
     "metadata": {},
     "output_type": "display_data"
    }
   ],
   "source": [
    "fig1, ax1 = plt.subplots()\n",
    "fig2, ax2 = plt.subplots()\n",
    "\n",
    "\n",
    "slices1 = [black.size, white.size, asian.size]\n",
    "labels1 = ['Black', 'White', 'Asian']\n",
    "colors1 = ['#D2E304', '#04B3E3', '#E30421']\n",
    "explode1 = [0.3, 0, 0.3]\n",
    "\n",
    "\n",
    "slices2 = [len(catholic), len(jewish), len(christian), \n",
    "           len(protestant), len(baptist), len(buddhist),\n",
    "          len(hindu), len(atheist)]\n",
    "labels2 = ['Roman Catholic', 'Jewish', 'Christian',\n",
    "          'Protestant', 'Baptist', 'Buddhist',\n",
    "          'Hindu', 'Atheist']\n",
    "explode2 = [0.1, 0.1, 0, 0, 0, 0, 0, 0]\n",
    "\n",
    "\n",
    "ax1.pie(slices1, labels = labels1, explode = explode1, shadow = True, \n",
    "        startangle = 30, colors = colors1, \n",
    "        wedgeprops = {'edgecolor': 'black'})\n",
    "\n",
    "ax2.pie(slices2, labels = labels2, explode = explode2, shadow = True, \n",
    "        startangle = 30, wedgeprops = {'edgecolor': 'black'})\n",
    "\n",
    "ax1.legend()\n",
    "ax1.set_title('Race ethnicity')\n",
    "\n",
    "ax2.legend()\n",
    "ax2.set_title('Religion')\n",
    "\n",
    "\n",
    "plt.tight_layout()\n",
    "plt.show()"
   ]
  },
  {
   "cell_type": "markdown",
   "metadata": {},
   "source": [
    "###### Conclusion\n",
    "It can be revealed that many directors are in the range of 35 and 45 years. There is a similarity with actors. Majority is in the range of 30 and 40. Same cannot be said for actresses. Most of them are between 25 and 35."
   ]
  },
  {
   "cell_type": "markdown",
   "metadata": {},
   "source": [
    "### 4.4. Analyze the changes in nominations"
   ]
  },
  {
   "cell_type": "markdown",
   "metadata": {},
   "source": [
    "At this stage, more serious analysis could be carried out, but let's instead draw a poster for a future director or actor or any other person that is interested in cinema, so that this would be some motivation for him/her to become an Oscar nominant."
   ]
  },
  {
   "cell_type": "code",
   "execution_count": 65,
   "metadata": {},
   "outputs": [],
   "source": [
    "nomination = main.groupby(['category']).size().reset_index(name='counts')"
   ]
  },
  {
   "cell_type": "code",
   "execution_count": 66,
   "metadata": {},
   "outputs": [
    {
     "data": {
      "image/png": "[encoded data removed]",
      "text/plain": [
       "<Figure size 432x288 with 1 Axes>"
      ]
     },
     "metadata": {
      "needs_background": "light"
     },
     "output_type": "display_data"
    }
   ],
   "source": [
    "from wordcloud import WordCloud\n",
    "\n",
    "wordcloud2 = WordCloud(background_color='white',max_font_size = 50).generate(' '.join(nomination['category']))\n",
    "# Generate plot\n",
    "plt.imshow(wordcloud2)\n",
    "plt.axis(\"off\")\n",
    "plt.show()"
   ]
  },
  {
   "cell_type": "markdown",
   "metadata": {},
   "source": [
    "### 4.5. Analyze trendings through genres"
   ]
  },
  {
   "cell_type": "markdown",
   "metadata": {},
   "source": [
    "Some poeple don't not like to divide arts into genres, but one way or another, any movie belongs to some genre. Genres can also have their own trends. For example, when the movie just appeared, no one thought to shoot in the fantasy genre. Thus, new trends emerge from time to time. \n",
    "\n",
    "&#8595;In this step, we are going to see how each genre has developed through the time. First, we need to remove duplicates that are in category and name columns. Actually, I could have done this is operation at the very beginning..."
   ]
  },
  {
   "cell_type": "code",
   "execution_count": 67,
   "metadata": {},
   "outputs": [],
   "source": [
    "# Choosing multiple columns for dropping duplicates\n",
    "main_detailed = main_detailed[main_detailed.duplicated(['category', 'name']) == False]"
   ]
  },
  {
   "cell_type": "markdown",
   "metadata": {},
   "source": [
    "&#8593;It can be seen from our dataset that genres are not readable.\n",
    "\n",
    "&#8595; Let's split them by split() function."
   ]
  },
  {
   "cell_type": "code",
   "execution_count": 68,
   "metadata": {},
   "outputs": [
    {
     "data": {
      "text/html": [
       "<div>\n",
       "<style scoped>\n",
       "    .dataframe tbody tr th:only-of-type {\n",
       "        vertical-align: middle;\n",
       "    }\n",
       "\n",
       "    .dataframe tbody tr th {\n",
       "        vertical-align: top;\n",
       "    }\n",
       "\n",
       "    .dataframe thead th {\n",
       "        text-align: right;\n",
       "    }\n",
       "</style>\n",
       "<table border=\"1\" class=\"dataframe\">\n",
       "  <thead>\n",
       "    <tr style=\"text-align: right;\">\n",
       "      <th></th>\n",
       "      <th>0</th>\n",
       "      <th>1</th>\n",
       "      <th>2</th>\n",
       "      <th>3</th>\n",
       "      <th>4</th>\n",
       "      <th>5</th>\n",
       "      <th>6</th>\n",
       "    </tr>\n",
       "  </thead>\n",
       "  <tbody>\n",
       "    <tr>\n",
       "      <th>0</th>\n",
       "      <td>Drama</td>\n",
       "      <td>None</td>\n",
       "      <td>None</td>\n",
       "      <td>None</td>\n",
       "      <td>None</td>\n",
       "      <td>None</td>\n",
       "      <td>None</td>\n",
       "    </tr>\n",
       "    <tr>\n",
       "      <th>2</th>\n",
       "      <td>Drama</td>\n",
       "      <td>History</td>\n",
       "      <td>Western</td>\n",
       "      <td>None</td>\n",
       "      <td>None</td>\n",
       "      <td>None</td>\n",
       "      <td>None</td>\n",
       "    </tr>\n",
       "    <tr>\n",
       "      <th>4</th>\n",
       "      <td>Drama</td>\n",
       "      <td>None</td>\n",
       "      <td>None</td>\n",
       "      <td>None</td>\n",
       "      <td>None</td>\n",
       "      <td>None</td>\n",
       "      <td>None</td>\n",
       "    </tr>\n",
       "    <tr>\n",
       "      <th>5</th>\n",
       "      <td>War</td>\n",
       "      <td>Drama</td>\n",
       "      <td>Romance</td>\n",
       "      <td>None</td>\n",
       "      <td>None</td>\n",
       "      <td>None</td>\n",
       "      <td>None</td>\n",
       "    </tr>\n",
       "    <tr>\n",
       "      <th>7</th>\n",
       "      <td>Drama</td>\n",
       "      <td>Romance</td>\n",
       "      <td>None</td>\n",
       "      <td>None</td>\n",
       "      <td>None</td>\n",
       "      <td>None</td>\n",
       "      <td>None</td>\n",
       "    </tr>\n",
       "    <tr>\n",
       "      <th>...</th>\n",
       "      <td>...</td>\n",
       "      <td>...</td>\n",
       "      <td>...</td>\n",
       "      <td>...</td>\n",
       "      <td>...</td>\n",
       "      <td>...</td>\n",
       "      <td>...</td>\n",
       "    </tr>\n",
       "    <tr>\n",
       "      <th>19007</th>\n",
       "      <td>Family</td>\n",
       "      <td>Animation</td>\n",
       "      <td>Drama</td>\n",
       "      <td>None</td>\n",
       "      <td>None</td>\n",
       "      <td>None</td>\n",
       "      <td>None</td>\n",
       "    </tr>\n",
       "    <tr>\n",
       "      <th>19009</th>\n",
       "      <td>NaN</td>\n",
       "      <td>NaN</td>\n",
       "      <td>NaN</td>\n",
       "      <td>NaN</td>\n",
       "      <td>NaN</td>\n",
       "      <td>NaN</td>\n",
       "      <td>NaN</td>\n",
       "    </tr>\n",
       "    <tr>\n",
       "      <th>19011</th>\n",
       "      <td>Comedy</td>\n",
       "      <td>Foreign</td>\n",
       "      <td>None</td>\n",
       "      <td>None</td>\n",
       "      <td>None</td>\n",
       "      <td>None</td>\n",
       "      <td>None</td>\n",
       "    </tr>\n",
       "    <tr>\n",
       "      <th>19018</th>\n",
       "      <td>Drama</td>\n",
       "      <td>Romance</td>\n",
       "      <td>None</td>\n",
       "      <td>None</td>\n",
       "      <td>None</td>\n",
       "      <td>None</td>\n",
       "      <td>None</td>\n",
       "    </tr>\n",
       "    <tr>\n",
       "      <th>19025</th>\n",
       "      <td>Horror</td>\n",
       "      <td>Science Fiction</td>\n",
       "      <td>None</td>\n",
       "      <td>None</td>\n",
       "      <td>None</td>\n",
       "      <td>None</td>\n",
       "      <td>None</td>\n",
       "    </tr>\n",
       "  </tbody>\n",
       "</table>\n",
       "<p>6596 rows × 7 columns</p>\n",
       "</div>"
      ],
      "text/plain": [
       "            0                1        2     3     4     5     6\n",
       "0       Drama             None     None  None  None  None  None\n",
       "2       Drama          History  Western  None  None  None  None\n",
       "4       Drama             None     None  None  None  None  None\n",
       "5         War            Drama  Romance  None  None  None  None\n",
       "7       Drama          Romance     None  None  None  None  None\n",
       "...       ...              ...      ...   ...   ...   ...   ...\n",
       "19007  Family        Animation    Drama  None  None  None  None\n",
       "19009     NaN              NaN      NaN   NaN   NaN   NaN   NaN\n",
       "19011  Comedy          Foreign     None  None  None  None  None\n",
       "19018   Drama          Romance     None  None  None  None  None\n",
       "19025  Horror  Science Fiction     None  None  None  None  None\n",
       "\n",
       "[6596 rows x 7 columns]"
      ]
     },
     "execution_count": 68,
     "metadata": {},
     "output_type": "execute_result"
    }
   ],
   "source": [
    "# Splitting \n",
    "genres = main_detailed['genres'].str.split('|', expand = True)\n",
    "genres"
   ]
  },
  {
   "cell_type": "markdown",
   "metadata": {},
   "source": [
    "&#8593;Here we can see that some films may have 6 genres at once. It will be hard for us to consider all of them, that's why let's choose only from the first column(genres0). \n",
    "\n",
    "&#8595;Add it into the table "
   ]
  },
  {
   "cell_type": "code",
   "execution_count": 69,
   "metadata": {},
   "outputs": [],
   "source": [
    "# Adding new column\n",
    "main_detailed['genres0'] = genres[0]"
   ]
  },
  {
   "cell_type": "markdown",
   "metadata": {},
   "source": [
    "In order to see how genre has developed, we should count how many times it appeared during the year.\n",
    "\n",
    "&#8595;Below we will be using groupping and counting for each genre"
   ]
  },
  {
   "cell_type": "code",
   "execution_count": 70,
   "metadata": {},
   "outputs": [],
   "source": [
    "#Choosing genre that we need\n",
    "drama_genre = main_detailed[main_detailed['genres0'] == 'Drama']\n",
    "\n",
    "# Group by year, and count apperance\n",
    "drama_genre = drama_genre.groupby(['year_film', 'genres0']).size().reset_index(name='counts')\n",
    "\n",
    "\n",
    "# Same steps for remaining genres\n",
    "war_genre = main_detailed[main_detailed['genres0'] == 'War']\n",
    "war_genre = war_genre.groupby(['year_film', 'genres0']).size().reset_index(name='counts')\n",
    "\n",
    "adv_genre = main_detailed[main_detailed['genres0'] == 'Adventure']\n",
    "adv_genre = adv_genre.groupby(['year_film', 'genres0']).size().reset_index(name='counts')\n",
    "\n",
    "com_genre = main_detailed[main_detailed['genres0'] == 'Comedy']\n",
    "com_genre = com_genre.groupby(['year_film', 'genres0']).size().reset_index(name='counts')\n",
    "\n",
    "fan_genre = main_detailed[main_detailed['genres0'] == 'Fantasy']\n",
    "fan_genre = fan_genre.groupby(['year_film', 'genres0']).size().reset_index(name='counts')\n",
    "\n",
    "hor_genre = main_detailed[main_detailed['genres0'] == 'Horror']\n",
    "hor_genre = hor_genre.groupby(['year_film', 'genres0']).size().reset_index(name='counts')\n",
    "\n",
    "scf_genre = main_detailed[main_detailed['genres0'] == 'Science Fiction']\n",
    "scf_genre = scf_genre.groupby(['year_film', 'genres0']).size().reset_index(name='counts')\n",
    "\n",
    "doc_genre = main_detailed[main_detailed['genres0'] == 'Documentary']\n",
    "doc_genre = doc_genre.groupby(['year_film', 'genres0']).size().reset_index(name='counts')"
   ]
  },
  {
   "cell_type": "markdown",
   "metadata": {},
   "source": [
    "It is important to mention that, we are not going to analyze every genre - only famous ones. Finally, let's draw our graphs. Simple line plot is the best choice for me. \n",
    "\n",
    "&#8595;I decided to show all the graphs at once by using subplots(). Total amount graphs is eight."
   ]
  },
  {
   "cell_type": "code",
   "execution_count": 71,
   "metadata": {},
   "outputs": [
    {
     "data": {
      "image/png": "[encoded data removed]",
      "text/plain": [
       "<Figure size 432x288 with 1 Axes>"
      ]
     },
     "metadata": {
      "needs_background": "light"
     },
     "output_type": "display_data"
    },
    {
     "data": {
      "image/png": "[encoded data removed]",
      "text/plain": [
       "<Figure size 432x288 with 1 Axes>"
      ]
     },
     "metadata": {
      "needs_background": "light"
     },
     "output_type": "display_data"
    },
    {
     "data": {
      "image/png": "[encoded data removed]",
      "text/plain": [
       "<Figure size 432x288 with 1 Axes>"
      ]
     },
     "metadata": {
      "needs_background": "light"
     },
     "output_type": "display_data"
    },
    {
     "data": {
      "image/png": "[encoded data removed]",
      "text/plain": [
       "<Figure size 432x288 with 1 Axes>"
      ]
     },
     "metadata": {
      "needs_background": "light"
     },
     "output_type": "display_data"
    },
    {
     "data": {
      "image/png": "[encoded data removed]",
      "text/plain": [
       "<Figure size 432x288 with 1 Axes>"
      ]
     },
     "metadata": {
      "needs_background": "light"
     },
     "output_type": "display_data"
    },
    {
     "data": {
      "image/png": "[encoded data removed]",
      "text/plain": [
       "<Figure size 432x288 with 1 Axes>"
      ]
     },
     "metadata": {
      "needs_background": "light"
     },
     "output_type": "display_data"
    },
    {
     "data": {
      "image/png": "[encoded data removed]",
      "text/plain": [
       "<Figure size 432x288 with 1 Axes>"
      ]
     },
     "metadata": {
      "needs_background": "light"
     },
     "output_type": "display_data"
    },
    {
     "data": {
      "image/png": "[encoded data removed]",
      "text/plain": [
       "<Figure size 432x288 with 1 Axes>"
      ]
     },
     "metadata": {
      "needs_background": "light"
     },
     "output_type": "display_data"
    }
   ],
   "source": [
    "fig1, ax1 = plt.subplots()\n",
    "fig2, ax2 = plt.subplots()\n",
    "fig2, ax3 = plt.subplots()\n",
    "fig1, ax4 = plt.subplots()\n",
    "fig2, ax5 = plt.subplots()\n",
    "fig2, ax6 = plt.subplots()\n",
    "fig1, ax7 = plt.subplots()\n",
    "fig2, ax8 = plt.subplots()\n",
    "\n",
    "\n",
    "drama_year = drama_genre['year_film']\n",
    "drama_counts = drama_genre['counts']\n",
    "\n",
    "ax1.plot(drama_year, drama_counts)\n",
    "ax1.set_title('Drama')\n",
    "ax1.set_xlabel('Year')\n",
    "ax1.set_ylabel('Number')\n",
    "\n",
    "war_year = war_genre['year_film']\n",
    "war_counts = war_genre['counts']\n",
    "\n",
    "ax2.plot(war_year, war_counts)\n",
    "ax2.set_title('War')\n",
    "ax2.set_xlabel('Year')\n",
    "ax2.set_ylabel('Number')\n",
    "\n",
    "adv_year = adv_genre['year_film']\n",
    "adv_counts = adv_genre['counts']\n",
    "\n",
    "ax3.plot(adv_year, adv_counts)\n",
    "ax3.set_title('Adventure')\n",
    "ax3.set_xlabel('Year')\n",
    "ax3.set_ylabel('Number')\n",
    "\n",
    "com_year = com_genre['year_film']\n",
    "com_counts = com_genre['counts']\n",
    "\n",
    "ax4.plot(com_year, com_counts)\n",
    "ax4.set_title('Comedy')\n",
    "ax4.set_xlabel('Year')\n",
    "ax4.set_ylabel('Number')\n",
    "\n",
    "fan_year = fan_genre['year_film']\n",
    "fan_counts = fan_genre['counts']\n",
    "\n",
    "ax5.plot(fan_year, fan_counts)\n",
    "ax5.set_title('Fantasy')\n",
    "ax5.set_xlabel('Year')\n",
    "ax5.set_ylabel('Number')\n",
    "\n",
    "hor_year = hor_genre['year_film']\n",
    "hor_counts = hor_genre['counts']\n",
    "\n",
    "ax6.plot(hor_year, hor_counts)\n",
    "ax6.set_title('Horror')\n",
    "ax6.set_xlabel('Year')\n",
    "ax6.set_ylabel('Number')\n",
    "\n",
    "scf_year = scf_genre['year_film']\n",
    "scf_counts = scf_genre['counts']\n",
    "\n",
    "ax7.plot(scf_year, scf_counts)\n",
    "ax7.set_title('Science Fiction')\n",
    "ax7.set_xlabel('Year')\n",
    "ax7.set_ylabel('Number')\n",
    "\n",
    "doc_year = doc_genre['year_film']\n",
    "doc_counts = doc_genre['counts']\n",
    "\n",
    "ax8.plot(doc_year, doc_counts)\n",
    "ax8.set_title('Documentary')\n",
    "ax8.set_xlabel('Year')\n",
    "ax8.set_ylabel('Number')\n",
    "\n",
    "\n",
    "plt.show()"
   ]
  },
  {
   "cell_type": "markdown",
   "metadata": {},
   "source": [
    "###### Conclusion\n",
    "Well, not a few things can be said from the graphs above... let's just summarize few of them.\n",
    "+ Drama: One thing can be said for sure. This graph is as dramatic as its genre. Еo be honest, I don’t know what a sharp jump up between 1940 and 1960 and a sharp jump down between 1960 and 1980 can mean. However, drama will always be relevant, because this is what the movie is based on. \n",
    "+ War: Сomparing with other charts, the line is quite gradual. It is not surprising that after the war there was a spike. Yes, nowadays there are a lot films about the war.\n",
    "+ Adventure: Adventures were highly popular with our generation. Maybe this is somehow relates with Harry Potter release? It is very interesting that the line is falling for the last 5 years.\n",
    "+ Comedy: It seems like in the 40s people were funny. I think Charlie Chaplin is the culprit. If we will look generally, comedy are becoming less popular.\n",
    "\n",
    "\n",
    "It feels like these graphs show not information about the genre but the genre itself XD"
   ]
  },
  {
   "cell_type": "markdown",
   "metadata": {},
   "source": [
    "## 5. Conclusion"
   ]
  },
  {
   "cell_type": "markdown",
   "metadata": {},
   "source": [
    "Based on our analysis, we can conclude:\n",
    "\n",
    "First, in fact people that are in the losers tables, are not losers... not everyone can be nominated for the most discussed award.\n",
    "From Meryl Streep example it can be said that, to be truly the best in what you do, you should constantly be in the great form. Graphs above showed us that names of losers and winners are repeated, means every year the same people are trying to be in the list of nominants. \n",
    "P.S. Christopher Nolan is GOAT give him this damn statuette!!!\n",
    "\n",
    "Second, as it turns out most of the films are released in winter. I think this iS because in winter people rarely go out and on weekends they go to the cinema in order to cheer themselves up. Besides, there are many holidays in winter. Of course there may be other reasons, only production companies know the  truth.\n",
    "\n",
    "Third, we proved that there is a pattern and general trends associated with the age of the participants. Apparently, in order to be experienced in your field you need to spend some time on practice. The example of the directors proves it. You can not become a director right off the bat without the years of trainings.\n",
    "\n",
    "Fourth, genres are not static, some develop along with technologies, and some remain in history. It is interesting to watch their changes. You'll never know exactly what genre can become popular. "
   ]
  }
 ],
 "metadata": {
  "kernelspec": {
   "display_name": "Python 3",
   "language": "python",
   "name": "python3"
  },
  "language_info": {
   "codemirror_mode": {
    "name": "ipython",
    "version": 3
   },
   "file_extension": ".py",
   "mimetype": "text/x-python",
   "name": "python",
   "nbconvert_exporter": "python",
   "pygments_lexer": "ipython3",
   "version": "3.8.3"
  }
 },
 "nbformat": 4,
 "nbformat_minor": 4
}
