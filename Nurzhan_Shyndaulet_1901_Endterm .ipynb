{
 "cells": [
  {
   "cell_type": "markdown",
   "metadata": {},
   "source": [
    "# PDS: Endterm - Practical part\n",
    "\n",
    "### Date: February 26\n",
    "\n",
    "### Time: 15:00 - 16:30\n",
    "\n",
    "\n",
    "**Instructions:** \n",
    "* Write your full name and group number in the title of file;\n",
    "* All answers should be filled in the notebook and then submitted to Moodle;\n",
    "* Try to use fewer cells for compilation (for example, you can use print for several answers, instead of printing each answer on a separate cell)\n",
    "* **IMPORTANT NOTE:** you will get points only for correct answers, not for trials or wrong answers. Your notebook should run if I will press **\"Restart Kernel\"** and then press **\"Run All\"**. I am going to check answers only after doing that. If the code do not compile, you will get zero. "
   ]
  },
  {
   "cell_type": "code",
   "execution_count": 1,
   "metadata": {},
   "outputs": [],
   "source": [
    "import pandas as pd\n",
    "import numpy as np"
   ]
  },
  {
   "cell_type": "markdown",
   "metadata": {},
   "source": [
    "## Problem 1 (1 point)\n",
    "\n",
    "Create a function that takes non empty string as input, and returns Boolean output, which tells if a string is a polindrom. Polindrom is a string that has the same spelling from the left to the right and vice-versa. One symbol strings are also polyndroms. For example, 'aba' is a polindrom, while 'abc' is not a polindrom.\n",
    "\n",
    "Use the following strings to check created function: \n",
    "1. 'a'\n",
    "2. 'abcd'\n",
    "3. 'abcdcba'\n",
    "4. 'lol'\n",
    "5. 'data'"
   ]
  },
  {
   "cell_type": "code",
   "execution_count": 2,
   "metadata": {},
   "outputs": [
    {
     "name": "stdout",
     "output_type": "stream",
     "text": [
      "True\n",
      "False\n",
      "True\n",
      "True\n",
      "False\n"
     ]
    }
   ],
   "source": [
    "def check_palindrome(s):\n",
    "    return s == s[::-1]\n",
    " \n",
    "s1 = 'a'\n",
    "s2 = 'abcd'\n",
    "s3 = 'abcdcba'\n",
    "s4 = 'lol'\n",
    "s5 = 'data'\n",
    "\n",
    "\n",
    "print(check_palindrome(s1))\n",
    "print(check_palindrome(s2))\n",
    "print(check_palindrome(s3))\n",
    "print(check_palindrome(s4))\n",
    "print(check_palindrome(s5))"
   ]
  },
  {
   "cell_type": "markdown",
   "metadata": {},
   "source": [
    "## Problem 2 (2 points)\n",
    "Create a function that takes non empty string as input, and returns Boolean output, which tells if a string is an isogram. Isogram is a string that does not have repeating symbols. For example, 'abcd' is an isogram, while 'abca' is not an isogram.\n",
    "\n",
    "Use the following strings to check created function: \n",
    "1. 'abcdcba'\n",
    "2. 'abcdefg'\n",
    "3. 'bowling'\n",
    "4. 'lol'\n",
    "5. 'data'"
   ]
  },
  {
   "cell_type": "code",
   "execution_count": 3,
   "metadata": {},
   "outputs": [
    {
     "name": "stdout",
     "output_type": "stream",
     "text": [
      "False\n",
      "True\n",
      "True\n",
      "False\n",
      "False\n"
     ]
    }
   ],
   "source": [
    "def check_isogram(str1):\n",
    "    return len(str1) == len(set(str1.lower()))\n",
    "\n",
    "s1 = 'abcdcba'\n",
    "s2 = 'abcdefg'\n",
    "s3 = 'bowling'\n",
    "s4 = 'lol'\n",
    "s5 = 'data'\n",
    "\n",
    "print(check_isogram(s1))\n",
    "print(check_isogram(s2))\n",
    "print(check_isogram(s3))\n",
    "print(check_isogram(s4))\n",
    "print(check_isogram(s5))"
   ]
  },
  {
   "cell_type": "markdown",
   "metadata": {},
   "source": [
    "## Problem 3 (2 points)\n",
    "You have an array of numbers and one number (k). Create a function, that moves this number k to the end the array, and then returns changed array. Function should perform all changes inplace, i.e. movements should take place inside the array without creating intermediary array, ignoring the order of numbers other than k. For example, array = [3,2,3,3,4,3,5,1,3,2] and k = 3, then after applying function you should get [2,4,5,1,2,3,3,3,3,3].\n",
    "\n",
    "Use the following inputs to check created function:\n",
    "1. [1,1,2] and 1\n",
    "2. [1,2,2,1,2,1] and 2\n",
    "3. [3,2,3,3,4,3,5,1,3,2] and 3\n"
   ]
  },
  {
   "cell_type": "code",
   "execution_count": 4,
   "metadata": {},
   "outputs": [
    {
     "name": "stdout",
     "output_type": "stream",
     "text": [
      "[2, 1, 1]\n",
      "[1, 1, 1, 2, 2, 2]\n",
      "[2, 4, 5, 1, 2, 3, 3, 3, 3, 3]\n"
     ]
    }
   ],
   "source": [
    "def move_number_k(arr,k): \n",
    "    size = len(arr)\n",
    "    count = 0 \n",
    "\n",
    "    for i in range(size): \n",
    "        if arr[i] != k: \n",
    "            arr[count] = arr[i] \n",
    "            count+=1\n",
    "\n",
    "    while count < size: \n",
    "        arr[count] = k\n",
    "        count += 1\n",
    "          \n",
    "arr1 = [1,1,2] \n",
    "arr2 = [1,2,2,1,2,1]\n",
    "arr3 = [3,2,3,3,4,3,5,1,3,2]\n",
    "\n",
    "\n",
    "k1 = 1\n",
    "k2 = 2\n",
    "k3 = 3\n",
    "\n",
    "\n",
    "move_number_k(arr1,k1) \n",
    "print(arr1) \n",
    "move_number_k(arr2,k2) \n",
    "print(arr2) \n",
    "move_number_k(arr3,k3) \n",
    "print(arr3) "
   ]
  },
  {
   "cell_type": "markdown",
   "metadata": {},
   "source": [
    "## Problem 4 (5 points)\n",
    "For Coursera dataset (coursea_data.csv), do the tasks below.\n",
    "\n",
    "Link to dataset: https://www.kaggle.com/siddharthm1698/coursera-course-dataset"
   ]
  },
  {
   "cell_type": "markdown",
   "metadata": {},
   "source": [
    "### 1. Find three the most commonly appearing combination of certificate type and course difficulty. Show cerfiticate type, course difficulty and number of courses. (1 point)"
   ]
  },
  {
   "cell_type": "code",
   "execution_count": 5,
   "metadata": {
    "scrolled": true
   },
   "outputs": [
    {
     "data": {
      "text/html": [
       "<div>\n",
       "<style scoped>\n",
       "    .dataframe tbody tr th:only-of-type {\n",
       "        vertical-align: middle;\n",
       "    }\n",
       "\n",
       "    .dataframe tbody tr th {\n",
       "        vertical-align: top;\n",
       "    }\n",
       "\n",
       "    .dataframe thead th {\n",
       "        text-align: right;\n",
       "    }\n",
       "</style>\n",
       "<table border=\"1\" class=\"dataframe\">\n",
       "  <thead>\n",
       "    <tr style=\"text-align: right;\">\n",
       "      <th></th>\n",
       "      <th>Unnamed: 0</th>\n",
       "      <th>course_title</th>\n",
       "      <th>course_organization</th>\n",
       "      <th>course_Certificate_type</th>\n",
       "      <th>course_rating</th>\n",
       "      <th>course_difficulty</th>\n",
       "      <th>course_students_enrolled</th>\n",
       "    </tr>\n",
       "  </thead>\n",
       "  <tbody>\n",
       "    <tr>\n",
       "      <th>0</th>\n",
       "      <td>134</td>\n",
       "      <td>(ISC)² Systems Security Certified Practitioner...</td>\n",
       "      <td>(ISC)²</td>\n",
       "      <td>SPECIALIZATION</td>\n",
       "      <td>4.7</td>\n",
       "      <td>Beginner</td>\n",
       "      <td>5.3k</td>\n",
       "    </tr>\n",
       "    <tr>\n",
       "      <th>1</th>\n",
       "      <td>743</td>\n",
       "      <td>A Crash Course in Causality:  Inferring Causal...</td>\n",
       "      <td>University of Pennsylvania</td>\n",
       "      <td>COURSE</td>\n",
       "      <td>4.7</td>\n",
       "      <td>Intermediate</td>\n",
       "      <td>17k</td>\n",
       "    </tr>\n",
       "    <tr>\n",
       "      <th>2</th>\n",
       "      <td>874</td>\n",
       "      <td>A Crash Course in Data Science</td>\n",
       "      <td>Johns Hopkins University</td>\n",
       "      <td>COURSE</td>\n",
       "      <td>4.5</td>\n",
       "      <td>Mixed</td>\n",
       "      <td>130k</td>\n",
       "    </tr>\n",
       "    <tr>\n",
       "      <th>3</th>\n",
       "      <td>413</td>\n",
       "      <td>A Law Student's Toolkit</td>\n",
       "      <td>Yale University</td>\n",
       "      <td>COURSE</td>\n",
       "      <td>4.7</td>\n",
       "      <td>Mixed</td>\n",
       "      <td>91k</td>\n",
       "    </tr>\n",
       "    <tr>\n",
       "      <th>4</th>\n",
       "      <td>635</td>\n",
       "      <td>A Life of Happiness and Fulfillment</td>\n",
       "      <td>Indian School of Business</td>\n",
       "      <td>COURSE</td>\n",
       "      <td>4.8</td>\n",
       "      <td>Mixed</td>\n",
       "      <td>320k</td>\n",
       "    </tr>\n",
       "  </tbody>\n",
       "</table>\n",
       "</div>"
      ],
      "text/plain": [
       "   Unnamed: 0                                       course_title  \\\n",
       "0         134  (ISC)² Systems Security Certified Practitioner...   \n",
       "1         743  A Crash Course in Causality:  Inferring Causal...   \n",
       "2         874                     A Crash Course in Data Science   \n",
       "3         413                            A Law Student's Toolkit   \n",
       "4         635                A Life of Happiness and Fulfillment   \n",
       "\n",
       "          course_organization course_Certificate_type  course_rating  \\\n",
       "0                      (ISC)²          SPECIALIZATION            4.7   \n",
       "1  University of Pennsylvania                  COURSE            4.7   \n",
       "2    Johns Hopkins University                  COURSE            4.5   \n",
       "3             Yale University                  COURSE            4.7   \n",
       "4   Indian School of Business                  COURSE            4.8   \n",
       "\n",
       "  course_difficulty course_students_enrolled  \n",
       "0          Beginner                     5.3k  \n",
       "1      Intermediate                      17k  \n",
       "2             Mixed                     130k  \n",
       "3             Mixed                      91k  \n",
       "4             Mixed                     320k  "
      ]
     },
     "execution_count": 5,
     "metadata": {},
     "output_type": "execute_result"
    }
   ],
   "source": [
    "df = pd.read_csv('coursera_data.csv')\n",
    "df.head()"
   ]
  },
  {
   "cell_type": "code",
   "execution_count": 6,
   "metadata": {},
   "outputs": [
    {
     "data": {
      "text/plain": [
       "course_Certificate_type  course_difficulty\n",
       "COURSE                   Beginner             282\n",
       "SPECIALIZATION           Beginner             196\n",
       "COURSE                   Mixed                187\n",
       "dtype: int64"
      ]
     },
     "execution_count": 6,
     "metadata": {},
     "output_type": "execute_result"
    }
   ],
   "source": [
    "new = df.groupby(['course_Certificate_type','course_difficulty']).size().sort_values(ascending=False)\n",
    "new.head(3)"
   ]
  },
  {
   "cell_type": "markdown",
   "metadata": {},
   "source": [
    "### 2. Among 'Data Science' courses, find the course with the 2nd highest rating among Intermediate level courses. For obtained course, show its title, organization, and number of students enrolled. (1 point)"
   ]
  },
  {
   "cell_type": "code",
   "execution_count": 7,
   "metadata": {},
   "outputs": [
    {
     "data": {
      "text/html": [
       "<div>\n",
       "<style scoped>\n",
       "    .dataframe tbody tr th:only-of-type {\n",
       "        vertical-align: middle;\n",
       "    }\n",
       "\n",
       "    .dataframe tbody tr th {\n",
       "        vertical-align: top;\n",
       "    }\n",
       "\n",
       "    .dataframe thead th {\n",
       "        text-align: right;\n",
       "    }\n",
       "</style>\n",
       "<table border=\"1\" class=\"dataframe\">\n",
       "  <thead>\n",
       "    <tr style=\"text-align: right;\">\n",
       "      <th></th>\n",
       "      <th>Unnamed: 0</th>\n",
       "      <th>course_title</th>\n",
       "      <th>course_organization</th>\n",
       "      <th>course_Certificate_type</th>\n",
       "      <th>course_rating</th>\n",
       "      <th>course_difficulty</th>\n",
       "      <th>course_students_enrolled</th>\n",
       "    </tr>\n",
       "  </thead>\n",
       "  <tbody>\n",
       "    <tr>\n",
       "      <th>55</th>\n",
       "      <td>637</td>\n",
       "      <td>applied data science capstone</td>\n",
       "      <td>IBM</td>\n",
       "      <td>COURSE</td>\n",
       "      <td>4.7</td>\n",
       "      <td>Intermediate</td>\n",
       "      <td>42k</td>\n",
       "    </tr>\n",
       "  </tbody>\n",
       "</table>\n",
       "</div>"
      ],
      "text/plain": [
       "    Unnamed: 0                   course_title course_organization  \\\n",
       "55         637  applied data science capstone                 IBM   \n",
       "\n",
       "   course_Certificate_type  course_rating course_difficulty  \\\n",
       "55                  COURSE            4.7      Intermediate   \n",
       "\n",
       "   course_students_enrolled  \n",
       "55                      42k  "
      ]
     },
     "execution_count": 7,
     "metadata": {},
     "output_type": "execute_result"
    }
   ],
   "source": [
    "df['course_title'] = df['course_title'].str.lower()\n",
    "new = df[df['course_title'].str.contains('data science')]\n",
    "new = new[new['course_difficulty'] == 'Intermediate']\n",
    "new = new.sort_values('course_rating', ascending = False)\n",
    "new[1:2]"
   ]
  },
  {
   "cell_type": "markdown",
   "metadata": {},
   "source": [
    "### 3. For organizations from Ivy league (list provided below), find the one that has the highest presence in Coursera, i.e. the largest number of courses. For obtained organization, calculate average the rating for each of the certificate types. Show certificate type with mean rating.  (1 point)"
   ]
  },
  {
   "cell_type": "code",
   "execution_count": 8,
   "metadata": {},
   "outputs": [
    {
     "data": {
      "text/plain": [
       "course_Certificate_type\n",
       "COURSE            4.83125\n",
       "SPECIALIZATION    4.60000\n",
       "Name: course_rating, dtype: float64"
      ]
     },
     "execution_count": 8,
     "metadata": {},
     "output_type": "execute_result"
    }
   ],
   "source": [
    "ivy_list = ['Brown University', 'Columbia University', 'Cornell University', 'Dartmouth College', 'Harvard University', 'University of Pennsylvania', 'Princeton University', 'Yale University']\n",
    "\n",
    "new = df[df['course_organization'].isin(ivy_list)]\n",
    "org = new['course_organization'].max()\n",
    "new = new[new['course_organization'] == org]\n",
    "\n",
    "new = new.groupby('course_Certificate_type')['course_rating'].mean()\n",
    "new"
   ]
  },
  {
   "cell_type": "markdown",
   "metadata": {},
   "source": [
    "### 4. Create a new column course_students_enrolled_new, which is the same as course_students_enrolled, but with numeric data type. To do that multiply the ones that ends to 'k' by 1000 and 'm' by 1000000. Show first 10 rows of the updated dataframe. (1 point)\n",
    "\n",
    "*Hint: you might need to create a function, and then use apply() method.*"
   ]
  },
  {
   "cell_type": "code",
   "execution_count": 12,
   "metadata": {},
   "outputs": [
    {
     "data": {
      "text/html": [
       "<div>\n",
       "<style scoped>\n",
       "    .dataframe tbody tr th:only-of-type {\n",
       "        vertical-align: middle;\n",
       "    }\n",
       "\n",
       "    .dataframe tbody tr th {\n",
       "        vertical-align: top;\n",
       "    }\n",
       "\n",
       "    .dataframe thead th {\n",
       "        text-align: right;\n",
       "    }\n",
       "</style>\n",
       "<table border=\"1\" class=\"dataframe\">\n",
       "  <thead>\n",
       "    <tr style=\"text-align: right;\">\n",
       "      <th></th>\n",
       "      <th>Unnamed: 0</th>\n",
       "      <th>course_title</th>\n",
       "      <th>course_organization</th>\n",
       "      <th>course_Certificate_type</th>\n",
       "      <th>course_rating</th>\n",
       "      <th>course_difficulty</th>\n",
       "      <th>course_students_enrolled</th>\n",
       "      <th>course_students_enrolled_new</th>\n",
       "    </tr>\n",
       "  </thead>\n",
       "  <tbody>\n",
       "    <tr>\n",
       "      <th>0</th>\n",
       "      <td>134</td>\n",
       "      <td>(isc)² systems security certified practitioner...</td>\n",
       "      <td>(ISC)²</td>\n",
       "      <td>SPECIALIZATION</td>\n",
       "      <td>4.7</td>\n",
       "      <td>Beginner</td>\n",
       "      <td>5.3k</td>\n",
       "      <td>5300.0</td>\n",
       "    </tr>\n",
       "    <tr>\n",
       "      <th>1</th>\n",
       "      <td>743</td>\n",
       "      <td>a crash course in causality:  inferring causal...</td>\n",
       "      <td>University of Pennsylvania</td>\n",
       "      <td>COURSE</td>\n",
       "      <td>4.7</td>\n",
       "      <td>Intermediate</td>\n",
       "      <td>17k</td>\n",
       "      <td>17000.0</td>\n",
       "    </tr>\n",
       "    <tr>\n",
       "      <th>2</th>\n",
       "      <td>874</td>\n",
       "      <td>a crash course in data science</td>\n",
       "      <td>Johns Hopkins University</td>\n",
       "      <td>COURSE</td>\n",
       "      <td>4.5</td>\n",
       "      <td>Mixed</td>\n",
       "      <td>130k</td>\n",
       "      <td>130000.0</td>\n",
       "    </tr>\n",
       "    <tr>\n",
       "      <th>3</th>\n",
       "      <td>413</td>\n",
       "      <td>a law student's toolkit</td>\n",
       "      <td>Yale University</td>\n",
       "      <td>COURSE</td>\n",
       "      <td>4.7</td>\n",
       "      <td>Mixed</td>\n",
       "      <td>91k</td>\n",
       "      <td>91000.0</td>\n",
       "    </tr>\n",
       "    <tr>\n",
       "      <th>4</th>\n",
       "      <td>635</td>\n",
       "      <td>a life of happiness and fulfillment</td>\n",
       "      <td>Indian School of Business</td>\n",
       "      <td>COURSE</td>\n",
       "      <td>4.8</td>\n",
       "      <td>Mixed</td>\n",
       "      <td>320k</td>\n",
       "      <td>320000.0</td>\n",
       "    </tr>\n",
       "    <tr>\n",
       "      <th>5</th>\n",
       "      <td>661</td>\n",
       "      <td>adhd: everyday strategies for elementary students</td>\n",
       "      <td>University at Buffalo</td>\n",
       "      <td>COURSE</td>\n",
       "      <td>4.7</td>\n",
       "      <td>Beginner</td>\n",
       "      <td>39k</td>\n",
       "      <td>39000.0</td>\n",
       "    </tr>\n",
       "    <tr>\n",
       "      <th>6</th>\n",
       "      <td>54</td>\n",
       "      <td>ai for everyone</td>\n",
       "      <td>deeplearning.ai</td>\n",
       "      <td>COURSE</td>\n",
       "      <td>4.8</td>\n",
       "      <td>Beginner</td>\n",
       "      <td>350k</td>\n",
       "      <td>350000.0</td>\n",
       "    </tr>\n",
       "    <tr>\n",
       "      <th>7</th>\n",
       "      <td>488</td>\n",
       "      <td>ai for medical treatment</td>\n",
       "      <td>deeplearning.ai</td>\n",
       "      <td>COURSE</td>\n",
       "      <td>4.8</td>\n",
       "      <td>Intermediate</td>\n",
       "      <td>2.4k</td>\n",
       "      <td>2400.0</td>\n",
       "    </tr>\n",
       "    <tr>\n",
       "      <th>8</th>\n",
       "      <td>58</td>\n",
       "      <td>ai foundations for everyone</td>\n",
       "      <td>IBM</td>\n",
       "      <td>SPECIALIZATION</td>\n",
       "      <td>4.7</td>\n",
       "      <td>Beginner</td>\n",
       "      <td>61k</td>\n",
       "      <td>61000.0</td>\n",
       "    </tr>\n",
       "    <tr>\n",
       "      <th>9</th>\n",
       "      <td>129</td>\n",
       "      <td>ai for medical diagnosis</td>\n",
       "      <td>deeplearning.ai</td>\n",
       "      <td>COURSE</td>\n",
       "      <td>4.7</td>\n",
       "      <td>Intermediate</td>\n",
       "      <td>12k</td>\n",
       "      <td>12000.0</td>\n",
       "    </tr>\n",
       "  </tbody>\n",
       "</table>\n",
       "</div>"
      ],
      "text/plain": [
       "   Unnamed: 0                                       course_title  \\\n",
       "0         134  (isc)² systems security certified practitioner...   \n",
       "1         743  a crash course in causality:  inferring causal...   \n",
       "2         874                     a crash course in data science   \n",
       "3         413                            a law student's toolkit   \n",
       "4         635                a life of happiness and fulfillment   \n",
       "5         661  adhd: everyday strategies for elementary students   \n",
       "6          54                                    ai for everyone   \n",
       "7         488                           ai for medical treatment   \n",
       "8          58                        ai foundations for everyone   \n",
       "9         129                           ai for medical diagnosis   \n",
       "\n",
       "          course_organization course_Certificate_type  course_rating  \\\n",
       "0                      (ISC)²          SPECIALIZATION            4.7   \n",
       "1  University of Pennsylvania                  COURSE            4.7   \n",
       "2    Johns Hopkins University                  COURSE            4.5   \n",
       "3             Yale University                  COURSE            4.7   \n",
       "4   Indian School of Business                  COURSE            4.8   \n",
       "5       University at Buffalo                  COURSE            4.7   \n",
       "6             deeplearning.ai                  COURSE            4.8   \n",
       "7             deeplearning.ai                  COURSE            4.8   \n",
       "8                         IBM          SPECIALIZATION            4.7   \n",
       "9             deeplearning.ai                  COURSE            4.7   \n",
       "\n",
       "  course_difficulty course_students_enrolled  course_students_enrolled_new  \n",
       "0          Beginner                     5.3k                        5300.0  \n",
       "1      Intermediate                      17k                       17000.0  \n",
       "2             Mixed                     130k                      130000.0  \n",
       "3             Mixed                      91k                       91000.0  \n",
       "4             Mixed                     320k                      320000.0  \n",
       "5          Beginner                      39k                       39000.0  \n",
       "6          Beginner                     350k                      350000.0  \n",
       "7      Intermediate                     2.4k                        2400.0  \n",
       "8          Beginner                      61k                       61000.0  \n",
       "9      Intermediate                      12k                       12000.0  "
      ]
     },
     "execution_count": 12,
     "metadata": {},
     "output_type": "execute_result"
    }
   ],
   "source": [
    "df['flag1'] = df['course_students_enrolled']\n",
    "df['flag2'] = df['course_students_enrolled'].replace(r'[km]+$', '', regex=True).astype(float)\n",
    "\n",
    "df.flag1 = df.course_students_enrolled.str.extract(r'[\\d\\.]+([km]+)', expand=False).fillna(1).replace(['k','m'], [10**3, 10**6]).astype(int)\n",
    "df['course_students_enrolled_new'] = df['flag1'] * df['flag2']\n",
    "\n",
    "\n",
    "df = df.drop(columns=['flag1', 'flag2'])\n",
    "\n",
    "df.head(10)"
   ]
  },
  {
   "cell_type": "markdown",
   "metadata": {},
   "source": [
    "### 5. Assuming that all enrolled students will earn a certificate from the course, count how many certificates will be issued for each certificate type. Then order number of certificates issued in ascending order. And find share as a percentage (for example, 25.6) of each certificate type. Show result as a dataframe with columns certificate type, corresponding number and share. (1 point)"
   ]
  },
  {
   "cell_type": "code",
   "execution_count": null,
   "metadata": {},
   "outputs": [],
   "source": []
  },
  {
   "cell_type": "markdown",
   "metadata": {},
   "source": [
    "---\n",
    "\n",
    "### Evaluation form (Keep it!)\n",
    "\n",
    "| Question | Mark     | Comment   \n",
    "|:-------:|:--------:|:----------------------\n",
    "| 1       |   1/1    | Correct\n",
    "| 2       |   2/2    | Correct\n",
    "| 3       |   2/2    | Correct\n",
    "| 4.1     |   1/1    | Correct\n",
    "| 4.2     |   1/1    | Correct\n",
    "| 4.3     |   1/1    | Correct\n",
    "| 4.4     |   1/1    | Correct\n",
    "| 4.5     |   1/1    | Correct\n",
    "|**Total**|**10/10**  | \n"
   ]
  }
 ],
 "metadata": {
  "kernelspec": {
   "display_name": "Python 3",
   "language": "python",
   "name": "python3"
  },
  "language_info": {
   "codemirror_mode": {
    "name": "ipython",
    "version": 3
   },
   "file_extension": ".py",
   "mimetype": "text/x-python",
   "name": "python",
   "nbconvert_exporter": "python",
   "pygments_lexer": "ipython3",
   "version": "3.8.3"
  }
 },
 "nbformat": 4,
 "nbformat_minor": 4
}
